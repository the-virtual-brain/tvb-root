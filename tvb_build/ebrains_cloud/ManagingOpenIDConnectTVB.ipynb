{
 "cells": [
  {
   "cell_type": "markdown",
   "metadata": {},
   "source": [
    "## 1. Introduction\n",
    "\n",
    "This notebook demonstrates how to manage an EBRAINS OIDC client. Service providers are encouraged to start from this notebook and adapt it to their needs. EBRAINS users need to ask EBRAINS Support to be added to the Collaboratory Group \"Service Providers\" before they can manage OIDC clients.\n",
    "\n",
    "**Do not create test OIDC clients in the PROD environment.** Use the INT environment instead."
   ]
  },
  {
   "cell_type": "code",
   "execution_count": null,
   "metadata": {},
   "outputs": [],
   "source": [
    "import requests\n",
    "import json\n",
    "\n",
    "# the API to the OIDC client app\n",
    "API_PROD = 'https://wiki.ebrains.eu/rest/v1/oidc/clients'\n",
    "API_INT  = 'https://wiki-int.ebrains.eu/rest/v1/oidc/clients'\n",
    "'https://iam.humanbrainproject.eu/auth/realms/hbp/clients-registrations/default/tvb-web '\n",
    "API = API_PROD\n",
    "\n",
    "# the clientId we use in this notebook\n",
    "clientId = \"tvb-cloud\""
   ]
  },
  {
   "cell_type": "markdown",
   "metadata": {
    "tags": []
   },
   "source": [
    "## 2. Fetching your Collaboratory access token\n",
    "\n",
    "In the Collaboratory Lab, users can recover the token with the following command.\n",
    "\n",
    "Warning: Do not share your token. Do not display your toekn in your notebook otherwise other users with access to the notebook can see the token. Other users do not have access to your variables so storing the token in a variable is not an issue."
   ]
  },
  {
   "cell_type": "code",
   "execution_count": null,
   "metadata": {},
   "outputs": [],
   "source": [
    "bearer_token = clb_oauth.get_token()"
   ]
  },
  {
   "cell_type": "markdown",
   "metadata": {},
   "source": [
    "## 3. Creating a new OIDC client\n",
    "\n",
    "You need the \"bearer_token\" value from the previous step.\n",
    "\n",
    "You can create OIDC clients by sending a JSON representation to the OIDC app API endpoint."
   ]
  },
  {
   "cell_type": "code",
   "execution_count": null,
   "metadata": {},
   "outputs": [],
   "source": [
    "response = requests.post(\n",
    "    API,\n",
    "    headers={'Authorization': 'Bearer %s' % bearer_token},\n",
    "    json={\n",
    "        \"client\": \n",
    "        {\n",
    "            \"clientId\": clientId,\n",
    "            \"name\": \"The Virtual Brain Web App\",\n",
    "            \"description\": \"TVB Web app in the cloud\",\n",
    "            \"rootUrl\": \"http://tvb-web.apps.tc.humanbrainproject.eu/\",\n",
    "            \"baseUrl\": \"\",\n",
    "            \"redirectUris\": [\n",
    "                \"https://tvb-web.apps.tc.humanbrainproject.eu/*\"\n",
    "            ],\n",
    "            \"webOrigins\": [\"+\"],\n",
    "            \"bearerOnly\": False,\n",
    "            \"consentRequired\": True,\n",
    "            \"standardFlowEnabled\": True,\n",
    "            \"implicitFlowEnabled\": False,\n",
    "            \"directAccessGrantsEnabled\": False,\n",
    "            \"publicClient\": True, \n",
    "            \"fullScopeAllowed\": True,\n",
    "            \"attributes\": {\n",
    "                \"contacts\": \"lia.domide@codemart.ro; paula.popa@codemart.ro\"\n",
    "            }\n",
    "        },\n",
    "        \"maintainers\": [\"paulapopa\",\"ldomide\"],\n",
    "        \"featureAuthenticate\" : False,\n",
    "        \"accessDeniedToGuests\" : True\n",
    "    })\n",
    "\n",
    "if response.status_code == requests.codes.created:\n",
    "    ebrainsClientResponse = response.json()\n",
    "    print(json.dumps(ebrainsClientResponse, indent=4))\n",
    "else:\n",
    "    print(\"FAILED\", response.content)\n"
   ]
  },
  {
   "cell_type": "markdown",
   "metadata": {},
   "source": [
    "## 4. Fetching your OIDC client settings\n",
    "\n",
    "You can check your OIDC client settings simply by providing your clientId. See above.\n",
    "\n",
    "If you created your OIDC Client before the release of this new API and can't GET it please contact our support, only green line from this excel sheet was moved to the new OIDC API. https://drive.ebrains.eu/lib/ffba272e-e4bd-4be0-8e8c-1f9156c74e47/file/Collaboratory_2_OIDC_clients.xlsx"
   ]
  },
  {
   "cell_type": "code",
   "execution_count": null,
   "metadata": {},
   "outputs": [],
   "source": [
    "response = requests.get(\n",
    "    f'{API}/{clientId}',\n",
    "    headers={'Authorization': 'Bearer %s' % bearer_token}\n",
    ")\n",
    "\n",
    "if response.status_code == requests.codes.ok:\n",
    "    ebrainsClientResponse = response.json()\n",
    "    print(json.dumps(ebrainsClientResponse, indent=4))\n",
    "else:\n",
    "    print(\"FAILED\", response.content)"
   ]
  },
  {
   "cell_type": "markdown",
   "metadata": {},
   "source": [
    "## 5. Modifying your OIDC client settings\n",
    "\n",
    "We recommend to GET your client first to have a JSON fully filled, to update it and then  use a PUT request to send the updates to the OIDC server and avoid any issues. But theorically, the Keycloak API respects the PUT implementation and you can also just provide a JSON with fields you want to change.\n",
    "\n",
    "Update your OIDC client settings with a PUT request."
   ]
  },
  {
   "cell_type": "code",
   "execution_count": null,
   "metadata": {},
   "outputs": [],
   "source": [
    "# Change the description of the OIDC client kg-nexus-role-mapping%20kg-nexus-service-account-mock\n",
    "#ebrainsClientResponse['client']['optionalClientScopes'] = [\"profile\", \"team\", \"group\",'kg-nexus-role-mapping', 'kg-nexus-service-account-mock']\n",
    "\n",
    "ebrainsClientResponse['client'][\"redirectUris\"]= [\n",
    "            \"https://tvb-web.apps.tc.humanbrainproject.eu/*\",\n",
    "            \"https://tvb-bck.apps.tc.humanbrainproject.eu/*\",\n",
    "            \"https://tvb-web.apps.ebrains.eu/*\",\n",
    "            \"https://tvb-bck.apps.ebrains.eu/*\"\n",
    "        ]\n",
    "\n",
    "# Deny access to the OIDC client to Guests users (this is the default, so redundant here)\n",
    "#ebrainsClientResponse['accessDeniedToGuests'] = True;\n",
    "   \n",
    "response = requests.put(\n",
    "    f'{API}/{clientId}',\n",
    "    headers={'Authorization': 'Bearer %s' % bearer_token},\n",
    "    json=ebrainsClientResponse\n",
    ")\n",
    "\n",
    "if response.status_code == requests.codes.ok:\n",
    "    ebrainsClientResponse = response.json()\n",
    "    print(json.dumps(ebrainsClientResponse, indent=4))\n",
    "else:\n",
    "    print(\"FAILED\", response.content)"
   ]
  },
  {
   "cell_type": "markdown",
   "metadata": {},
   "source": [
    "## 6. Restricting access to you service to specific EBRAINS Groups or Units\n",
    "\n",
    "By default, any regular EBRAINS account can be authenticated via your OIDC client and therefore have access to your service. You can restrict your service to specific Groups or Units. To do so, set \"featureAuthenticate\" to true. Once this is done, only users from Groups/Units that you explicitly authorize will have access to your service.\n",
    "\n",
    "Users can visit their profile page to see Groups and Units they belong to:\n",
    "- https://wiki.ebrains.eu/bin/view/Identity/ or from the Wiki clicking the profile icon\n"
   ]
  },
  {
   "cell_type": "markdown",
   "metadata": {},
   "source": [
    "### 6.1 Set the OIDC client to restrict access\n",
    "\n",
    "The code below restricts access to the OIDC client's app. After that, no EBRAINS user has access to the app because no Units/Groups have been granted access to it yet."
   ]
  },
  {
   "cell_type": "code",
   "execution_count": null,
   "metadata": {},
   "outputs": [],
   "source": [
    "ebrainsClientResponse['featureAuthenticate'] = True;\n",
    "\n",
    "response = requests.put(\n",
    "    f'{API}/{clientId}',\n",
    "    headers={'Authorization': 'Bearer %s' % bearer_token},\n",
    "    json=ebrainsClientResponse\n",
    ")\n",
    "\n",
    "if response.status_code == requests.codes.ok:\n",
    "    ebrainsClientResponse = response.json()\n",
    "    print(json.dumps(ebrainsClientResponse, indent=4))\n",
    "else:\n",
    "    print(\"FAILED\", response.content)"
   ]
  },
  {
   "cell_type": "markdown",
   "metadata": {},
   "source": [
    "### 6.2 Grant access to a Group\n",
    "\n",
    "EBRAINS Groups are visible here:\n",
    "- https://wiki.ebrains.eu/bin/view/Identity/#/groups\n",
    "\n",
    "**EXAMPLE**: Let's take the group of EBRAINS users authorized to manage OIDC clients:\n",
    "https://wiki.ebrains.eu/bin/view/Identity/#/groups/app-collaboratory-iam--service-providers\n",
    "\n",
    "That Group's groupId is \"**app-collaboratory-iam--service-providers**\". We will grant access to this Group to our app."
   ]
  },
  {
   "cell_type": "code",
   "execution_count": null,
   "metadata": {},
   "outputs": [],
   "source": [
    "groupId = input(\"Enter group id, eg : app-collaboratory-iam--service-providers\")"
   ]
  },
  {
   "cell_type": "code",
   "execution_count": null,
   "metadata": {},
   "outputs": [],
   "source": [
    "# eg: https://wiki.ebrains.eu/rest/v1/oidc/clients/tutorialOidcApi/groups/app-collaboratory-iam--service-providers\n",
    "response = requests.put(\n",
    "    f'{API}/{clientId}/groups/{groupId}',\n",
    "    headers={'Authorization': 'Bearer %s' % bearer_token}\n",
    ")\n",
    "\n",
    "print(response.status_code)"
   ]
  },
  {
   "cell_type": "markdown",
   "metadata": {},
   "source": [
    "### 6.3 Grant access to a Unit\n",
    "\n",
    "EBRAINS Units are browsable here:\n",
    "- https://wiki.ebrains.eu/bin/view/Identity/#/units\n",
    "\n",
    "The unit path needs to be passed to the API, with path elements separated by colons.\n",
    "\n",
    "**EXAMPLE:** An example Unit path is \"all:projects:hbp:consortium:SGA3\""
   ]
  },
  {
   "cell_type": "code",
   "execution_count": null,
   "metadata": {},
   "outputs": [],
   "source": [
    "unitPath = input(\"Enter unit path, eg: all:projects:hbp \")"
   ]
  },
  {
   "cell_type": "code",
   "execution_count": null,
   "metadata": {},
   "outputs": [],
   "source": [
    "# eg: https://wiki.ebrains.eu/rest/v1/oidc/clients/tutorialOidcApi/groups/app-collaboratory-iam--service-providers\n",
    "response = requests.put(\n",
    "    f'{API}/{clientId}/units/{unitPath}',\n",
    "    headers={'Authorization': 'Bearer %s' % bearer_token}\n",
    ")\n",
    "\n",
    "print(response.status_code)"
   ]
  },
  {
   "cell_type": "markdown",
   "metadata": {},
   "source": [
    "## 7. Checking who can access your OIDC client's app\n",
    "\n",
    "You can check that your accesses are well granted by Fetching your OIDC client's settings again from point `4. Fetching your OIDC client settings`\n",
    "\n",
    "The returned JSON should now list of your Groups/Units granted access.\n",
    "\n",
    "/!\\ : So far you can't grant access directly to specific users, only to Groups and Units.\n",
    "/!\\ : You can't change this list through a modification of your JSON client, you must use the API as shown in point `6.`\n",
    "\n",
    "    \"grantedAccess\": {\n",
    "        \"users\": [],\n",
    "        \"units\": [\n",
    "            {\n",
    "                \"id\": \"all:projects:hbp\",\n",
    "                \"title\": \"HBP groups\",\n",
    "                \"name\": \"hbp\",\n",
    "                \"description\": \"All HBP groups\",\n",
    "                \"acceptMembershipRequest\": false,\n",
    "                \"subUnits\": []\n",
    "            }\n",
    "        ],\n",
    "        \"groups\": [\n",
    "            {\n",
    "                \"name\": \"axel-indirect\",\n",
    "                \"title\": \"Axel Indirect\",\n",
    "                \"description\": \"\",\n",
    "                \"acceptMembershipRequest\": false\n",
    "            }\n",
    "        ]\n",
    "    },"
   ]
  },
  {
   "cell_type": "markdown",
   "metadata": {},
   "source": [
    "## 8. Remove access to a Group/Unit\n",
    "\n",
    "It's the same request format as in point `6.` but it's a `delete` call instead of a `put`.\n",
    "\n",
    "/!\\ It will remove a granted access to a Group or Unit. This does not mean that users in this Group or Unit will be specifically denied access to your app; they may have access via another Hroup/Unit that is still in the granted access list. There is no denied access list."
   ]
  },
  {
   "cell_type": "code",
   "execution_count": null,
   "metadata": {},
   "outputs": [],
   "source": [
    "# eg: https://wiki.ebrains.eu/rest/v1/oidc/clients/tutorialOidcApi/groups/app-collaboratory-iam--service-providers\n",
    "response = requests.delete(\n",
    "    f'{API}/{clientId}/groups/{groupId}',\n",
    "    headers={'Authorization': 'Bearer %s' % bearer_token}\n",
    ")\n",
    "\n",
    "print(response.status_code)"
   ]
  },
  {
   "cell_type": "code",
   "execution_count": null,
   "metadata": {},
   "outputs": [],
   "source": [
    "# eg: https://wiki.ebrains.eu/rest/v1/oidc/clients/tutorialOidcApi/groups/app-collaboratory-iam--service-providers\n",
    "response = requests.delete(\n",
    "    f'{API}/{clientId}/units/{unitPath}',\n",
    "    headers={'Authorization': 'Bearer %s' % bearer_token}\n",
    ")\n",
    "\n",
    "print(response.status_code)"
   ]
  },
  {
   "cell_type": "markdown",
   "metadata": {},
   "source": [
    "### 8.1 Check the Group/Unit was removed from the allow list\n",
    "\n",
    "If you check again your OIDC client settings, the Unit and Group should no longer appear in the JSON response."
   ]
  },
  {
   "cell_type": "code",
   "execution_count": null,
   "metadata": {},
   "outputs": [],
   "source": [
    "response = requests.get(\n",
    "    f'{API}/{clientId}',\n",
    "    headers={'Authorization': 'Bearer %s' % bearer_token}\n",
    ")\n",
    "\n",
    "if response.status_code == requests.codes.ok:\n",
    "    ebrainsClientResponse = response.json()\n",
    "    print(json.dumps(ebrainsClientResponse, indent=4))\n",
    "else:\n",
    "    print(response.content)"
   ]
  },
  {
   "cell_type": "code",
   "execution_count": null,
   "metadata": {},
   "outputs": [],
   "source": []
  }
 ],
 "metadata": {
  "kernelspec": {
   "display_name": "Python 3 (ipykernel)",
   "language": "python",
   "name": "python3"
  },
  "language_info": {
   "codemirror_mode": {
    "name": "ipython",
    "version": 3
   },
   "file_extension": ".py",
   "mimetype": "text/x-python",
   "name": "python",
   "nbconvert_exporter": "python",
   "pygments_lexer": "ipython3",
   "version": "3.8.10"
  }
 },
 "nbformat": 4,
 "nbformat_minor": 4
}

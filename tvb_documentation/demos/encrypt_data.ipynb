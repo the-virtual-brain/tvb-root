{
  "nbformat": 4,
  "nbformat_minor": 0,
  "metadata": {
    "colab": {
      "name": "encrypt_data.ipynb",
      "provenance": [],
      "collapsed_sections": [],
      "toc_visible": true
    },
    "kernelspec": {
      "name": "python3",
      "display_name": "Python 3"
    }
  },
  "cells": [
    {
      "cell_type": "code",
      "metadata": {
        "id": "Pn30X80mcT_E",
        "colab_type": "code",
        "colab": {}
      },
      "source": [
        "!pip install cryptography\n",
        "\n",
        "import os\n",
        "import sys\n",
        "from cryptography.hazmat.backends import default_backend\n",
        "from cryptography.hazmat.primitives import serialization\n",
        "from cryptography.hazmat.primitives import hashes\n",
        "from cryptography.hazmat.primitives.asymmetric import padding\n",
        "from cryptography.hazmat.primitives.ciphers import Cipher, algorithms, modes"
      ],
      "execution_count": null,
      "outputs": []
    },
    {
      "cell_type": "markdown",
      "metadata": {
        "id": "6jbqAwwdwbVV",
        "colab_type": "text"
      },
      "source": [
        "# Encrypt data before uploading\n",
        "\n",
        "TVB uses the RSA algorithm for asymmetric-key encryption and decryption of data. Unfortunately, RSA by itself is not enough because it can only encrypt limited amounts of data. \n",
        "\n",
        "To solve this problem, the data is encrypted using a symmetric-key encryption algorithm, namely AES, and the symmetric key is then encrypted using the public key of the RSA algorithm.\n",
        "\n",
        "First, we read the public key,"
      ]
    },
    {
      "cell_type": "code",
      "metadata": {
        "id": "H5ZwvlGU0-Xl",
        "colab_type": "code",
        "colab": {}
      },
      "source": [
        "  path_to_public_key = 'public_key.pem' # enter path to public key here\n",
        "\n",
        "  with open(path_to_public_key, \"rb\") as key_file:\n",
        "    public_key = serialization.load_pem_public_key(\n",
        "      key_file.read(),\n",
        "      backend=default_backend()\n",
        "    )"
      ],
      "execution_count": null,
      "outputs": []
    },
    {
      "cell_type": "markdown",
      "metadata": {
        "id": "miIK31is1Mil",
        "colab_type": "text"
      },
      "source": [
        "then randomly generate the AES symmetric-key and the initialization vector "
      ]
    },
    {
      "cell_type": "code",
      "metadata": {
        "id": "S8uGGKU4AlAo",
        "colab_type": "code",
        "colab": {}
      },
      "source": [
        "symmetric_key = os.urandom(32)\n",
        "iv = os.urandom(16)"
      ],
      "execution_count": null,
      "outputs": []
    },
    {
      "cell_type": "markdown",
      "metadata": {
        "id": "IMY730myAqe_",
        "colab_type": "text"
      },
      "source": [
        "and use them to initialize the AES cypher."
      ]
    },
    {
      "cell_type": "code",
      "metadata": {
        "id": "mvxIoLy01aBd",
        "colab_type": "code",
        "colab": {}
      },
      "source": [
        "cipher = Cipher(algorithms.AES(symmetric_key), modes.CTR(iv), backend=default_backend())\n",
        "encryptor = cipher.encryptor()"
      ],
      "execution_count": null,
      "outputs": []
    },
    {
      "cell_type": "markdown",
      "metadata": {
        "id": "3--qkFuU2A2f",
        "colab_type": "text"
      },
      "source": [
        "The next step is to read the content from the file to be encrypted as binary and use the AES cypher to encrypt the content.\n",
        "\n",
        "The encrypted content is saved by default at the location of the original data.\n",
        "\n",
        "If we wish to upload data which requires more than one file (for example, Connectivity CSV), then we have to use the same AES key and initialization vector, so we'll have to:\n",
        "1. reinitialize the AES cypher (rerun the previous code block)\n",
        "2. change the value of the *path_to_file* parameter and rerun this next code block as well"
      ]
    },
    {
      "cell_type": "code",
      "metadata": {
        "id": "nBZZKNFH2QR2",
        "colab_type": "code",
        "colab": {}
      },
      "source": [
        "path_to_file = 'connectivity_76.zip' # enter path to data file here\n",
        "\n",
        "with open(path_to_file, 'rb') as f:\n",
        "  content = f.read()\n",
        "\n",
        "encrypted_content = encryptor.update(content) + encryptor.finalize()\n",
        "\n",
        "start_extension = path_to_file.rfind('.')\n",
        "path_to_encrypt = path_to_file[:start_extension]\n",
        "extension = path_to_file[start_extension:]\n",
        "\n",
        "path_to_encrypt = path_to_encrypt + '_encrypted' + extension\n",
        "\n",
        "with open(path_to_encrypt, 'wb') as f:\n",
        "  f.write(encrypted_content)"
      ],
      "execution_count": null,
      "outputs": []
    },
    {
      "cell_type": "markdown",
      "metadata": {
        "id": "jvZ_csG83W8W",
        "colab_type": "text"
      },
      "source": [
        "The next step is to encrypt the AES symmetric key with the asymmetric public key obtained from TVB."
      ]
    },
    {
      "cell_type": "code",
      "metadata": {
        "id": "pzhilC813dLW",
        "colab_type": "code",
        "colab": {}
      },
      "source": [
        "encrypted_symmetric_key = public_key.encrypt(\n",
        "  symmetric_key,\n",
        "  padding.OAEP(\n",
        "    mgf=padding.MGF1(algorithm=hashes.SHA256()),\n",
        "    algorithm=hashes.SHA256(),\n",
        "    label=None\n",
        "  )\n",
        ")"
      ],
      "execution_count": null,
      "outputs": []
    },
    {
      "cell_type": "markdown",
      "metadata": {
        "id": "jn5e3FF637x8",
        "colab_type": "text"
      },
      "source": [
        "Lastly, we append the initialization vector to the end of the encrypted AES symmetric key and thus we save them both in the same file at a specified location."
      ]
    },
    {
      "cell_type": "code",
      "metadata": {
        "id": "497oPjZw4I4O",
        "colab_type": "code",
        "colab": {}
      },
      "source": [
        "extended_encrypted_symmetric_key = encrypted_symmetric_key + iv\n",
        "path_to_encrypted_key = './' # enter path for saving encrypted key here\n",
        "\n",
        "with open(os.path.join(path_to_encrypted_key, 'encrypted_symmetric_key.pem'), 'wb') as f:\n",
        "  f.write(extended_encrypted_symmetric_key)"
      ],
      "execution_count": null,
      "outputs": []
    }
  ]
}
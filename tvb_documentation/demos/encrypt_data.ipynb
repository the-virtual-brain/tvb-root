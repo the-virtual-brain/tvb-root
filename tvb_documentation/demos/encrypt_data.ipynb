{
 "cells": [
  {
   "cell_type": "code",
   "execution_count": 1,
   "metadata": {
    "colab": {},
    "colab_type": "code",
    "id": "Pn30X80mcT_E",
    "scrolled": true
   },
   "outputs": [
    {
     "name": "stdout",
     "output_type": "stream",
     "text": [
      "Requirement already satisfied: cryptography in c:\\users\\robi997\\anaconda3\\envs\\tvb_please\\lib\\site-packages (3.0)\n",
      "Requirement already satisfied: cffi!=1.11.3,>=1.8 in c:\\users\\robi997\\anaconda3\\envs\\tvb_please\\lib\\site-packages (from cryptography) (1.14.0)\n",
      "Requirement already satisfied: six>=1.4.1 in c:\\users\\robi997\\anaconda3\\envs\\tvb_please\\lib\\site-packages (from cryptography) (1.15.0)\n",
      "Requirement already satisfied: pycparser in c:\\users\\robi997\\anaconda3\\envs\\tvb_please\\lib\\site-packages (from cffi!=1.11.3,>=1.8->cryptography) (2.20)\n",
      "Populating the interactive namespace from numpy and matplotlib\n"
     ]
    }
   ],
   "source": [
    "!pip install cryptography\n",
    "%pylab inline\n",
    "from tvb.interfaces.command.demos.importers.encrypt_data import *\n",
    "import pyAesCrypt\n",
    "from cryptography.hazmat.primitives import serialization\n",
    "from cryptography.hazmat.backends import default_backend\n",
    "from tvb.basic.profile import TvbProfile\n",
    "from tvb.core.services.encryption_handler import EncryptionHandler"
   ]
  },
  {
   "cell_type": "markdown",
   "metadata": {
    "colab_type": "text",
    "id": "6jbqAwwdwbVV"
   },
   "source": [
    "# Encrypt data before uploading\n",
    "\n",
    "TVB uses the RSA algorithm for asymmetric-key encryption and decryption of data. Unfortunately, RSA by itself is not enough because it can only encrypt limited amounts of data. \n",
    "\n",
    "To solve this problem, the data is encrypted using a symmetric-key encryption algorithm, namely AES, and the password which is used for generating the symmetric key is then encrypted using the public key of the RSA algorithm.\n",
    "\n",
    "First, we read the public key."
   ]
  },
  {
   "cell_type": "code",
   "execution_count": 2,
   "metadata": {
    "colab": {},
    "colab_type": "code",
    "id": "S8uGGKU4AlAo"
   },
   "outputs": [],
   "source": [
    "path_to_public_key = 'public_key.pem' # enter path to public key here\n",
    "\n",
    "with open(path_to_public_key, \"rb\") as key_file:\n",
    "    public_key = serialization.load_pem_public_key(\n",
    "        key_file.read(),\n",
    "        backend=default_backend()\n",
    "    )"
   ]
  },
  {
   "cell_type": "markdown",
   "metadata": {
    "colab_type": "text",
    "id": "9iX9ob0y8fDQ"
   },
   "source": [
    "then we generate a random password."
   ]
  },
  {
   "cell_type": "code",
   "execution_count": 3,
   "metadata": {
    "colab": {},
    "colab_type": "code",
    "id": "VYQxNZmm8ibk"
   },
   "outputs": [],
   "source": [
    "pass_size = TvbProfile.current.hpc.CRYPT_PASS_SIZE\n",
    "password = EncryptionHandler.generate_random_password(pass_size)"
   ]
  },
  {
   "cell_type": "markdown",
   "metadata": {
    "colab_type": "text",
    "id": "3--qkFuU2A2f"
   },
   "source": [
    "The next step is to encrypt the file(s) using the password generated at the previous step. Datatypes which require more files at uploading (e.g. CSV Connectivity) will need to be encrypted using the same password.\n",
    "\n",
    "The encrypted content is saved at the location of the original data."
   ]
  },
  {
   "cell_type": "code",
   "execution_count": 6,
   "metadata": {
    "colab": {},
    "colab_type": "code",
    "id": "nBZZKNFH2QR2"
   },
   "outputs": [],
   "source": [
    "paths_to_files = ['tvb_data/connectivity/connectivity_76.zip'] # enter paths to data files here inside the list\n",
    "\n",
    "buffer_size = TvbProfile.current.hpc.CRYPT_BUFFER_SIZE\n",
    "\n",
    "for path in paths_to_files:\n",
    "  encrypted_file_path = get_path_to_encrypt(path)\n",
    "  pyAesCrypt.encryptFile(path, encrypted_file_path, password, buffer_size)"
   ]
  },
  {
   "cell_type": "markdown",
   "metadata": {
    "colab_type": "text",
    "id": "y8kie8IhLs58"
   },
   "source": [
    "Asynchronously encrypt the password used at the previous step for the symmetric encryption"
   ]
  },
  {
   "cell_type": "code",
   "execution_count": 7,
   "metadata": {
    "colab": {},
    "colab_type": "code",
    "id": "taFPV7dnLq3N"
   },
   "outputs": [],
   "source": [
    "password_bytes = str.encode(password)\n",
    "encrypted_password = encrypt_password(public_key, password_bytes)"
   ]
  },
  {
   "cell_type": "markdown",
   "metadata": {
    "colab_type": "text",
    "id": "bXxG9ZacMEaU"
   },
   "source": [
    "and save the encrypted password."
   ]
  },
  {
   "cell_type": "code",
   "execution_count": 8,
   "metadata": {
    "colab": {},
    "colab_type": "code",
    "id": "JOtRDBaWMHrt"
   },
   "outputs": [],
   "source": [
    "encrypted_password_path = './' # enter path for saving the encrypted password\n",
    "save_encrypted_password(encrypted_password, encrypted_password_path)"
   ]
  }
 ],
 "metadata": {
  "colab": {
   "collapsed_sections": [],
   "name": "encrypt_data.ipynb",
   "provenance": [],
   "toc_visible": true
  },
  "kernelspec": {
   "display_name": "Python 3",
   "language": "python",
   "name": "python3"
  },
  "language_info": {
   "codemirror_mode": {
    "name": "ipython",
    "version": 3
   },
   "file_extension": ".py",
   "mimetype": "text/x-python",
   "name": "python",
   "nbconvert_exporter": "python",
   "pygments_lexer": "ipython3",
   "version": "3.7.8"
  }
 },
 "nbformat": 4,
 "nbformat_minor": 1
}

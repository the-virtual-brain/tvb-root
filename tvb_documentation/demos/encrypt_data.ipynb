{
  "nbformat": 4,
  "nbformat_minor": 0,
  "metadata": {
    "colab": {
      "name": "encrypt_data.ipynb",
      "provenance": [],
      "collapsed_sections": [],
      "toc_visible": true
    },
    "kernelspec": {
      "name": "python3",
      "display_name": "Python 3"
    }
  },
  "cells": [
    {
      "cell_type": "code",
      "metadata": {
        "id": "Pn30X80mcT_E",
        "colab_type": "code",
        "colab": {}
      },
      "source": [
        "!pip install cryptography\n",
        "%pylab inline\n",
        "from tvb.interfaces.command.demos.importers.encrypt_data import *"
      ],
      "execution_count": null,
      "outputs": []
    },
    {
      "cell_type": "markdown",
      "metadata": {
        "id": "6jbqAwwdwbVV",
        "colab_type": "text"
      },
      "source": [
        "# Encrypt data before uploading\n",
        "\n",
        "TVB uses the RSA algorithm for asymmetric-key encryption and decryption of data. Unfortunately, RSA by itself is not enough because it can only encrypt limited amounts of data. \n",
        "\n",
        "To solve this problem, the data is encrypted using a symmetric-key encryption algorithm, namely AES, and the symmetric key is then encrypted using the public key of the RSA algorithm.\n",
        "\n",
        "First, we randomly generate the AES symmetric-key and the initialization vector "
      ]
    },
    {
      "cell_type": "code",
      "metadata": {
        "id": "S8uGGKU4AlAo",
        "colab_type": "code",
        "colab": {}
      },
      "source": [
        "symmetric_key, iv = generate_aes_key_and_iv()"
      ],
      "execution_count": null,
      "outputs": []
    },
    {
      "cell_type": "markdown",
      "metadata": {
        "id": "IMY730myAqe_",
        "colab_type": "text"
      },
      "source": [
        "and use them to initialize the AES encryptor."
      ]
    },
    {
      "cell_type": "code",
      "metadata": {
        "id": "mvxIoLy01aBd",
        "colab_type": "code",
        "colab": {}
      },
      "source": [
        "encryptor = initialize_aes_encryptor(symmetric_key, iv)"
      ],
      "execution_count": null,
      "outputs": []
    },
    {
      "cell_type": "markdown",
      "metadata": {
        "id": "3--qkFuU2A2f",
        "colab_type": "text"
      },
      "source": [
        "The next step is to read the content from the file to be encrypted as binary and use the AES cypher to encrypt the content.\n",
        "\n",
        "The encrypted content is saved by default at the location of the original data.\n",
        "\n",
        "If we wish to upload data which requires more than one file (for example, Connectivity CSV), then we have to use the same AES key and initialization vector, so we'll have to:\n",
        "1. reinitialize the AES cypher (rerun the previous code block)\n",
        "2. change the value of the *path_to_file* parameter and rerun this next code block as well"
      ]
    },
    {
      "cell_type": "code",
      "metadata": {
        "id": "nBZZKNFH2QR2",
        "colab_type": "code",
        "colab": {}
      },
      "source": [
        "path_to_file = 'connectivity_76.zip' # enter path to data file here\n",
        "path_to_encrypt = get_path_to_encrypt(path_to_file)\n",
        "buffer_size = TvbProfile.current.hpc.CRYPT_BUFFER_SIZE\n",
        "\n",
        "encrypt_file(path_to_file, path_to_encrypt, encryptor, buffer_size)"
      ],
      "execution_count": null,
      "outputs": []
    },
    {
      "cell_type": "markdown",
      "metadata": {
        "id": "jvZ_csG83W8W",
        "colab_type": "text"
      },
      "source": [
        "The next step is to encrypt the AES symmetric key with the asymmetric public key obtained from TVB."
      ]
    },
    {
      "cell_type": "code",
      "metadata": {
        "id": "pzhilC813dLW",
        "colab_type": "code",
        "colab": {}
      },
      "source": [
        "path_to_public_key = 'public_key.pem' # enter path to public key here\n",
        "\n",
        "encrypted_aes_key = encrypt_aes_key(path_to_public_key, symmetric_key)"
      ],
      "execution_count": null,
      "outputs": []
    },
    {
      "cell_type": "markdown",
      "metadata": {
        "id": "jn5e3FF637x8",
        "colab_type": "text"
      },
      "source": [
        "Lastly, we append the initialization vector to the end of the encrypted AES symmetric key and thus we save them both in the same file at a specified location."
      ]
    },
    {
      "cell_type": "code",
      "metadata": {
        "id": "497oPjZw4I4O",
        "colab_type": "code",
        "colab": {}
      },
      "source": [
        "path_to_encrypted_key = './' # enter path for saving encrypted key here\n",
        "\n",
        "save_aes_key_and_iv(encrypted_aes_key, iv, path_to_encrypted_key)"
      ],
      "execution_count": null,
      "outputs": []
    }
  ]
}
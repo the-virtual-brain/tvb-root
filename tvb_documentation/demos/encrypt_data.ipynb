{
 "cells": [
  {
   "cell_type": "markdown",
   "metadata": {},
   "source": [
    "# Encrypt files for securely uploading in TVB Web GUI"
   ]
  },
  {
   "cell_type": "markdown",
   "metadata": {
    "colab_type": "text",
    "id": "6jbqAwwdwbVV"
   },
   "source": [
    "Before uploading your data - which might include personal information even when pseudo-anonymized, because a person's brain scan can be seen as a fingerprint - on a TVB shared web installation (like this one at HBP: https://thevirtualbrain.apps.hbp.eu/user/), you might consider to encrypt data upfront.\n",
    "\n",
    "In TVB we recommend a public-private key encryption (RSA), where TVB shares the public key with everyone, but keeps the private key securely, so that only TVB knows to decrypt that data.\n",
    "\n",
    "Unfortunately, RSA by itself is not enough because it can only encrypt limited amounts of data, and TVB input files could grow easily. To solve this problem, the files are encrypted using a symmetric-key encryption algorithm, namely AES, and the password which is used for generating the symmetric key is  encrypted using the public key of TVB.\n",
    "\n",
    "### You can find our current public key here: https://www.thevirtualbrain.org/tvb/bin/upload_encryption_public_key\n",
    "\n",
    "Bellow we describe the encryption algorithm that you should run locally, to be compatible with the way we decrypt data on TVB servers.\n",
    "It is expected that you already have tvb-framework installed (from Pypi or Gihub) in the local Python env used for running this code:"
   ]
  },
  {
   "cell_type": "code",
   "execution_count": 1,
   "metadata": {
    "colab": {},
    "colab_type": "code",
    "id": "S8uGGKU4AlAo"
   },
   "outputs": [
    {
     "name": "stdout",
     "output_type": "stream",
     "text": [
      "Populating the interactive namespace from numpy and matplotlib\n"
     ]
    }
   ],
   "source": [
    "%pylab inline\n",
    "\n",
    "import pyAesCrypt\n",
    "from cryptography.hazmat.primitives import serialization\n",
    "from cryptography.hazmat.backends import default_backend\n",
    "from tvb.basic.profile import TvbProfile\n",
    "from tvb.core.adapters.abcuploader import ABCUploader\n",
    "from tvb.core.services.encryption_handler import EncryptionHandler"
   ]
  },
  {
   "cell_type": "code",
   "execution_count": 2,
   "metadata": {},
   "outputs": [],
   "source": [
    "# here EDIT you local path to where you downloaded TVB public key (link above)\n",
    "path_to_public_key = '/Users/me/tvb_data/public_key.pem' \n",
    "\n",
    "with open(path_to_public_key, \"rb\") as key_file:\n",
    "    public_key = serialization.load_pem_public_key(key_file.read(), backend=default_backend())"
   ]
  },
  {
   "cell_type": "markdown",
   "metadata": {
    "colab_type": "text",
    "id": "9iX9ob0y8fDQ"
   },
   "source": [
    "First we generate a random password for your files:"
   ]
  },
  {
   "cell_type": "code",
   "execution_count": 3,
   "metadata": {
    "colab": {},
    "colab_type": "code",
    "id": "VYQxNZmm8ibk"
   },
   "outputs": [],
   "source": [
    "pass_size = TvbProfile.current.hpc.CRYPT_PASS_SIZE\n",
    "password = EncryptionHandler.generate_random_password(pass_size)"
   ]
  },
  {
   "cell_type": "markdown",
   "metadata": {
    "colab_type": "text",
    "id": "3--qkFuU2A2f"
   },
   "source": [
    "The next step is to encrypt the file(s) using the password generated at the previous step \n",
    "! A single import in TVB which requires more files at uploading (e.g. Connectivity from CSV files) will need to have all files encrypted using the same password.\n",
    "\n",
    "The encrypted content is saved at the location of the original data."
   ]
  },
  {
   "cell_type": "code",
   "execution_count": 7,
   "metadata": {
    "colab": {},
    "colab_type": "code",
    "id": "nBZZKNFH2QR2"
   },
   "outputs": [],
   "source": [
    "# EDIT paths to data files here inside the list\n",
    "paths_to_files = ['/Users/me/tvb_data/connectivity/connectivity_76.zip']\n",
    "\n",
    "buffer_size = TvbProfile.current.hpc.CRYPT_BUFFER_SIZE\n",
    "\n",
    "for path in paths_to_files:\n",
    "  encrypted_file_path = ABCUploader.get_path_to_encrypt(path)\n",
    "  pyAesCrypt.encryptFile(path, encrypted_file_path, password, buffer_size)"
   ]
  },
  {
   "cell_type": "markdown",
   "metadata": {
    "colab_type": "text",
    "id": "y8kie8IhLs58"
   },
   "source": [
    "Asynchronously encrypt the password used at the previous step for the symmetric encryption and save it as a file to be uploaded in TVB web GUI:"
   ]
  },
  {
   "cell_type": "code",
   "execution_count": 8,
   "metadata": {
    "colab": {},
    "colab_type": "code",
    "id": "taFPV7dnLq3N"
   },
   "outputs": [],
   "source": [
    "password_bytes = str.encode(password)\n",
    "encrypted_password = ABCUploader.encrypt_password(public_key, password_bytes)\n",
    "\n",
    "# EDIT path for saving the encrypted password\n",
    "encrypted_password_path = '/Users/me/tvb_data/connectivity/'\n",
    "\n",
    "ABCUploader.save_encrypted_password(encrypted_password, encrypted_password_path)\n",
    "\n",
    "print(encrypted_password_path)"
   ]
  },
  {
   "cell_type": "markdown",
   "metadata": {},
   "source": [
    "### Finally, upload both the encrypted data files and the encrypted password file in TVB web GUI:\n",
    "\n",
    "- connectivity_76_encrypted.zip\n",
    "- encrypted_password.pem"
   ]
  },
  {
   "cell_type": "code",
   "execution_count": null,
   "metadata": {},
   "outputs": [],
   "source": []
  }
 ],
 "metadata": {
  "colab": {
   "collapsed_sections": [],
   "name": "encrypt_data.ipynb",
   "provenance": [],
   "toc_visible": true
  },
  "kernelspec": {
   "display_name": "Python 3",
   "language": "python",
   "name": "python3"
  },
  "language_info": {
   "codemirror_mode": {
    "name": "ipython",
    "version": 3
   },
   "file_extension": ".py",
   "mimetype": "text/x-python",
   "name": "python",
   "nbconvert_exporter": "python",
   "pygments_lexer": "ipython3",
   "version": "3.7.6"
  }
 },
 "nbformat": 4,
 "nbformat_minor": 1
}
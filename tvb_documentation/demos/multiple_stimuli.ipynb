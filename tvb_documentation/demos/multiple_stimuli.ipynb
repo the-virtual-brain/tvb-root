{
 "cells": [
  {
   "cell_type": "code",
   "execution_count": 7,
   "metadata": {},
   "outputs": [
    {
     "name": "stdout",
     "output_type": "stream",
     "text": [
      "Populating the interactive namespace from numpy and matplotlib\n"
     ]
    }
   ],
   "source": [
    "%pylab inline\n",
    "from tvb.simulator.lab import *"
   ]
  },
  {
   "cell_type": "markdown",
   "metadata": {},
   "source": [
    "Having multiple stimuli with different time courses for different nodes currently requires an extra class, see usage below"
   ]
  },
  {
   "cell_type": "code",
   "execution_count": 8,
   "metadata": {},
   "outputs": [],
   "source": [
    "from tvb.basic.neotraits.api import NArray, Attr\n",
    "\n",
    "class MultiStimuliRegion(patterns.StimuliRegion):\n",
    "    connectivity = Attr(connectivity.Connectivity, required=False)\n",
    "    temporal = Attr(field_type=equations.TemporalApplicableEquation, required=False)\n",
    "    weight = NArray(required=False)\n",
    "    \n",
    "    def __init__(self, *stimuli):\n",
    "        super(MultiStimuliRegion, self).__init__()\n",
    "        self.stimuli = stimuli\n",
    "    def configure_space(self, *args, **kwds):\n",
    "        [stim.configure_space(*args, **kwds) for stim in self.stimuli]\n",
    "    def configure_time(self, *args, **kwds):\n",
    "        [stim.configure_time(*args, **kwds) for stim in self.stimuli]\n",
    "    def __call__(self, *args, **kwds):\n",
    "        return np.array([stim(*args, **kwds) for stim in self.stimuli]).sum(axis=0)"
   ]
  },
  {
   "cell_type": "markdown",
   "metadata": {},
   "source": [
    "Now we can make several pulse trains with different temporal configurations and node weights, and combine them with above class."
   ]
  },
  {
   "cell_type": "code",
   "execution_count": 9,
   "metadata": {},
   "outputs": [
    {
     "name": "stdout",
     "output_type": "stream",
     "text": [
      "WARNING  File 'hemispheres' not found in ZIP.\n"
     ]
    },
    {
     "data": {
      "text/plain": [
       "<matplotlib.colorbar.Colorbar at 0x123db7668>"
      ]
     },
     "execution_count": 9,
     "metadata": {},
     "output_type": "execute_result"
    },
    {
     "data": {
      "image/png": "[encoded data removed]",
      "text/plain": [
       "<Figure size 432x288 with 2 Axes>"
      ]
     },
     "metadata": {
      "needs_background": "light"
     },
     "output_type": "display_data"
    }
   ],
   "source": [
    "conn = connectivity.Connectivity.from_file()\n",
    "nnode = conn.weights.shape[0]\n",
    "\n",
    "def make_train(node_idx, node_weights, **params):\n",
    "    weighting = np.zeros(nnode)\n",
    "    weighting[node_idx] = node_weights\n",
    "    eqn_t = equations.PulseTrain()\n",
    "    eqn_t.parameters.update(params)\n",
    "    stimulus = patterns.StimuliRegion(\n",
    "        temporal=eqn_t,\n",
    "        connectivity=conn,\n",
    "        weight=weighting)\n",
    "    return stimulus\n",
    "\n",
    "train1 = make_train([10, 20], 1.0, onset=1.5e3, T=100.0, tau=50.0)\n",
    "train2 = make_train([30, 40], 2.0, onset=1.5e3, T=200.0, tau=100.0)\n",
    "train3 = make_train(r_[7:74:5], 0.2, onset=5e2, T=50.0, tau=20.0)\n",
    "stimulus = MultiStimuliRegion(train1, train2, train3)\n",
    "stimulus.configure_space()\n",
    "time = r_[1e3:2e3:10.0]\n",
    "stimulus.configure_time(time)\n",
    "pattern = stimulus()\n",
    "imshow(pattern, interpolation='none')\n",
    "xlabel('Time')\n",
    "ylabel('Space')\n",
    "colorbar()"
   ]
  },
  {
   "cell_type": "markdown",
   "metadata": {},
   "source": [
    "Here we just visualize the output of `stimulus`, but it could also be passed to a simulator object for simulation."
   ]
  },
  {
   "cell_type": "code",
   "execution_count": null,
   "metadata": {},
   "outputs": [],
   "source": []
  }
 ],
 "metadata": {
  "kernelspec": {
   "display_name": "Python 3",
   "language": "python",
   "name": "python3"
  },
  "language_info": {
   "codemirror_mode": {
    "name": "ipython",
    "version": 3
   },
   "file_extension": ".py",
   "mimetype": "text/x-python",
   "name": "python",
   "nbconvert_exporter": "python",
   "pygments_lexer": "ipython3",
   "version": "3.7.5"
  }
 },
 "nbformat": 4,
 "nbformat_minor": 1
}

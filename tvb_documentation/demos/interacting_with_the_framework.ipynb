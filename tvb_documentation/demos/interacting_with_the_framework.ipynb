{
 "cells": [
  {
   "cell_type": "markdown",
   "metadata": {},
   "source": [
    "Command Profile in TVB\n",
    "----------------------\n",
    "\n",
    "This is a simple demo showing for to interract with TVB in the command profile.\n",
    "\n",
    "More examples can be found here:\n",
    "https://github.com/the-virtual-brain/tvb-framework/tree/master/tvb/interfaces/command/demos"
   ]
  },
  {
   "cell_type": "code",
   "execution_count": null,
   "metadata": {
    "scrolled": true,
    "tags": []
   },
   "outputs": [],
   "source": [
    "from tvb.interfaces.command.lab import *"
   ]
  },
  {
   "cell_type": "code",
   "execution_count": null,
   "metadata": {
    "tags": []
   },
   "outputs": [],
   "source": [
    "list_projects()"
   ]
  },
  {
   "cell_type": "markdown",
   "metadata": {},
   "source": [
    "Create a new project to test with"
   ]
  },
  {
   "cell_type": "code",
   "execution_count": null,
   "metadata": {
    "tags": []
   },
   "outputs": [],
   "source": [
    "import uuid\n",
    "proj = new_project(\"sandbox\" + str(uuid.uuid4()))"
   ]
  },
  {
   "cell_type": "code",
   "execution_count": null,
   "metadata": {
    "tags": []
   },
   "outputs": [],
   "source": [
    "list_projects()"
   ]
  },
  {
   "cell_type": "markdown",
   "metadata": {},
   "source": [
    "If you have the web UI open at the same time, you'll notice there's now a new project named \"sandbox_project\""
   ]
  },
  {
   "cell_type": "code",
   "execution_count": null,
   "metadata": {
    "tags": []
   },
   "outputs": [],
   "source": [
    "list_datatypes(proj.id)"
   ]
  },
  {
   "cell_type": "markdown",
   "metadata": {},
   "source": [
    "Nothing! Let's import a connectivity"
   ]
  },
  {
   "cell_type": "code",
   "execution_count": null,
   "metadata": {
    "tags": []
   },
   "outputs": [],
   "source": [
    "import os\n",
    "from tvb.datasets import TVBZenodoDataset\n",
    "p = TVBZenodoDataset().fetch_data('connectivity_66.zip')\n",
    "import_op = import_conn_zip(proj.id, p)\n",
    "\n",
    "import_op = wait_to_finish(import_op)\n",
    "import_op"
   ]
  },
  {
   "cell_type": "code",
   "execution_count": null,
   "metadata": {
    "tags": []
   },
   "outputs": [],
   "source": [
    "list_operation_results(import_op.id)"
   ]
  },
  {
   "cell_type": "code",
   "execution_count": null,
   "metadata": {},
   "outputs": [],
   "source": [
    "conectivity_gid = get_operation_results(import_op.id)[0].gid"
   ]
  },
  {
   "cell_type": "markdown",
   "metadata": {},
   "source": [
    "Now let's grab that connectivity from the database. \n",
    "IMPORTANT: Make sure to adjust the DT gid below to match the value in the id column above and run a simulation with it."
   ]
  },
  {
   "cell_type": "code",
   "execution_count": null,
   "metadata": {},
   "outputs": [],
   "source": [
    "simulator_model = SimulatorAdapterModel()\n",
    "# ConnectivityIndex gid from the column above\n",
    "simulator_model.connectivity = conectivity_gid\n",
    "simulator_model.simulation_length = 100\n",
    "sim_op = fire_simulation(proj.id, simulator_model)\n",
    "sim_op = wait_to_finish(sim_op)\n",
    "sim_op"
   ]
  },
  {
   "cell_type": "markdown",
   "metadata": {},
   "source": [
    "We should wait for the simulation to finish, and afterwards, TimeSeries should also be part of this project.\n",
    "\n",
    "Refresh the Web GUI to see the status of your operation."
   ]
  },
  {
   "cell_type": "code",
   "execution_count": null,
   "metadata": {},
   "outputs": [],
   "source": [
    "list_operation_results(sim_op.id)"
   ]
  },
  {
   "cell_type": "code",
   "execution_count": null,
   "metadata": {},
   "outputs": [],
   "source": [
    "time_series_region_index_id = get_operation_results(sim_op.id)[1].id"
   ]
  },
  {
   "cell_type": "code",
   "execution_count": null,
   "metadata": {},
   "outputs": [],
   "source": [
    "%matplotlib inline\n",
    "import matplotlib.pyplot as plt\n",
    "\n",
    "# Use TimeSeriesRegionIndex id\n",
    "ts  = load_dt(time_series_region_index_id)\n",
    "for reg in range(66):\n",
    "    plt.plot(ts.data[:, 0, reg, 0])\n",
    "plt.show()"
   ]
  },
  {
   "cell_type": "markdown",
   "metadata": {},
   "source": [
    "You can re-evaluate this cell multiple times while it's running to see how the results gradually show up as the simulation finishes."
   ]
  }
 ],
 "metadata": {
  "kernelspec": {
   "display_name": "Python 3 (ipykernel)",
   "language": "python",
   "name": "python3"
  },
  "language_info": {
   "codemirror_mode": {
    "name": "ipython",
    "version": 3
   },
   "file_extension": ".py",
   "mimetype": "text/x-python",
   "name": "python",
   "nbconvert_exporter": "python",
   "pygments_lexer": "ipython3",
   "version": "3.10.9"
  }
 },
 "nbformat": 4,
 "nbformat_minor": 4
}

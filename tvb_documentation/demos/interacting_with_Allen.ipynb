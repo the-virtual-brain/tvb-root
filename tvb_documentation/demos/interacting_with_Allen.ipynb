{
 "cells": [
  {
   "cell_type": "markdown",
   "metadata": {},
   "source": [
    "## TVB-Framework command initialisation"
   ]
  },
  {
   "cell_type": "code",
   "execution_count": null,
   "metadata": {
    "scrolled": true
   },
   "outputs": [],
   "source": [
    "from tvb.interfaces.command.lab import *\n",
    "from tvb.adapters.creators.allen_creator import AllenConnectomeBuilder\n",
    "from tvb.adapters.creators.allen_creator import AllenConnectModel\n",
    "from tvb.adapters.creators.allen_creator import ResolutionOptionsEnum, WeightsOptionsEnum\n",
    "from tvb.core.adapters.abcadapter import ABCAdapter\n",
    "from tvb.core.services.operation_service import OperationService"
   ]
  },
  {
   "cell_type": "code",
   "execution_count": 2,
   "metadata": {},
   "outputs": [
    {
     "name": "stdout",
     "output_type": "stream",
     "text": [
      "                    name    id\n",
      "         Default_Project     1\n"
     ]
    }
   ],
   "source": [
    "list_projects()"
   ]
  },
  {
   "cell_type": "code",
   "execution_count": 3,
   "metadata": {},
   "outputs": [
    {
     "name": "stdout",
     "output_type": "stream",
     "text": [
      "2022-08-18 10:08:56,092 - INFO - tvb.core.services.operation_service - Starting operation AllenConnectomeBuilder\n",
      "2022-08-18 10:08:56,239 - INFO - tvb.core.services.backend_clients.standalone_client - Start processing operation id:23\n",
      "2022-08-18 10:08:56,260 - INFO - tvb.core.services.operation_service - Finished operation launch:AllenConnectomeBuilder\n",
      "2022-08-18 10:08:56,261 - INFO - tvb.interfaces.command.lab - Operation launched....\n"
     ]
    },
    {
     "data": {
      "text/plain": [
       "<Operation('95317a28f83d4685847828b481ef2916', 9fc1f8bd-1ec4-11ed-aaf8-782b46fbd208, 2,'1','59','2022-08-18 10:08:56.104635','None', 'None','4-PENDING',True, 'None', '', '', 0)>"
      ]
     },
     "execution_count": 3,
     "metadata": {},
     "output_type": "execute_result"
    }
   ],
   "source": [
    "builder_instance = ABCAdapter.build_adapter_from_class(AllenConnectomeBuilder)\n",
    "\n",
    "# The corresponding view_model is AllenConnectModel. You can either instantiate it directly or get it by calling\n",
    "# the get_view_model_class adapter function.\n",
    "view_model = builder_instance.get_view_model_class()()\n",
    "\n",
    "view_model.resolution = ResolutionOptionsEnum.ONE_HUNDRED\n",
    "view_model.weighting = WeightsOptionsEnum.PROJECTION_DENSITY_INJECTION_DENSITY\n",
    "view_model.inj_f_thresh = 80\n",
    "view_model.vol_thresh= 100000000\n",
    "\n",
    "# This ID of a project needs to exists in Db, and it can be taken from the WebInterface:\n",
    "launched_operation = fire_operation(1, builder_instance, view_model)\n",
    "launched_operation"
   ]
  },
  {
   "cell_type": "code",
   "execution_count": 4,
   "metadata": {},
   "outputs": [
    {
     "name": "stdout",
     "output_type": "stream",
     "text": [
      "2022-08-18 10:10:11,346 - INFO - tvb.interfaces.command.lab - Operation finished successfully\n"
     ]
    },
    {
     "data": {
      "text/plain": [
       "<Operation('95317a28f83d4685847828b481ef2916', 9fc1f8bd-1ec4-11ed-aaf8-782b46fbd208, 2,'1','59','2022-08-18 10:08:56.104635','2022-08-18 10:09:02.478566', '2022-08-18 10:10:11.049714','5-FINISHED',True, 'None', '2022-08-18,10-10-10', '', -1)>"
      ]
     },
     "execution_count": 4,
     "metadata": {},
     "output_type": "execute_result"
    },
    {
     "name": "stdout",
     "output_type": "stream",
     "text": [
      "2022-08-18 10:10:11,531 - INFO - tvb.core.services.backend_clients.standalone_client - Finished with launch of operation 23\n",
      "2022-08-18 10:10:11,534 - INFO - tvb.core.services.backend_clients.standalone_client - Return code: 0. Stopped: False\n",
      "2022-08-18 10:10:11,535 - INFO - tvb.core.services.backend_clients.standalone_client - Thread: <OperationExecutor(Thread-93, started 7252)>\n"
     ]
    }
   ],
   "source": [
    "launched_operation = wait_to_finish(launched_operation)\n",
    "launched_operation"
   ]
  },
  {
   "cell_type": "markdown",
   "metadata": {},
   "source": [
    "At this point, your operation of Allen DB import should be running in the background.\n",
    "If you launch TVB web GUI, and you go to Project -> Operations page, you should see the new operation running (state color BLUE).\n",
    "\n",
    "When done, your results will be ready for inspection in TVB web GUI.\n",
    "Do not close your computer until the operation has finished. If you do so, then relaunch after you restart. Downloaded files will not be lost, but found by the new operation.\n"
   ]
  },
  {
   "cell_type": "code",
   "execution_count": 5,
   "metadata": {},
   "outputs": [
    {
     "name": "stdout",
     "output_type": "stream",
     "text": [
      "              id                     type                              gid         date\n",
      "              30        ConnectivityIndex cb26b68eaf514b0eafaccd360cfc4623 2022-08-18 10:10:10.619210\n",
      "              31              VolumeIndex f4fdbf31494240fd97d057e2aed2e73c 2022-08-18 10:10:10.729235\n",
      "              32 RegionVolumeMappingIndex b54ed9da8753403cbbbde678ee44d525 2022-08-18 10:10:10.826571\n",
      "              33       StructuralMRIIndex 858ee191fcff4d2991a4ed4e17b2281f 2022-08-18 10:10:10.939135\n"
     ]
    }
   ],
   "source": [
    "list_operation_results(launched_operation.id)"
   ]
  },
  {
   "cell_type": "code",
   "execution_count": null,
   "metadata": {},
   "outputs": [],
   "source": []
  }
 ],
 "metadata": {
  "kernelspec": {
   "display_name": "Python 3 (ipykernel)",
   "language": "python",
   "name": "python3"
  },
  "language_info": {
   "codemirror_mode": {
    "name": "ipython",
    "version": 3
   },
   "file_extension": ".py",
   "mimetype": "text/x-python",
   "name": "python",
   "nbconvert_exporter": "python",
   "pygments_lexer": "ipython3",
   "version": "3.8.13"
  }
 },
 "nbformat": 4,
 "nbformat_minor": 4
}

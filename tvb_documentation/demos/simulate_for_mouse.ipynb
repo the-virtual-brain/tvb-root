{
 "cells": [
  {
   "cell_type": "markdown",
   "metadata": {},
   "source": [
    "# Simulate resting state dynamics in mouse brain\n",
    "\n",
    "This demo shows how to simulate and analyze resting state dynamics in mouse brain using as connectome a tracer-based connectome built thanks to the Allen Connectivity Builder.\n",
    "\n",
    "The results showed here are discussed in Melozzi et al., 2016 [1]\n",
    "\n",
    "\n",
    "\n",
    "First, we import all the required dependencies"
   ]
  },
  {
   "cell_type": "code",
   "execution_count": null,
   "metadata": {
    "scrolled": true,
    "tags": []
   },
   "outputs": [],
   "source": [
    "from tvb.interfaces.command.lab import *\n",
    "from tvb.simulator.lab import *\n",
    "LOG = get_logger('demo')\n",
    "from tvb.simulator.plot.tools import *\n",
    "import numpy as np\n",
    "import pylab\n",
    "import matplotlib.pyplot as plt\n",
    "%matplotlib inline\n",
    "matplotlib.rcParams['figure.figsize'] = (20.0, 10.0)"
   ]
  },
  {
   "cell_type": "markdown",
   "metadata": {},
   "source": [
    "## The Connectome\n",
    "\n",
    "In order to built the mouse brain network we used a tracer-based connectome.\n",
    "\n",
    "In particular we used a structural connectivity matrix (stored in the data folder of TVB), which is built thanks to the Allen Connectivity Builder in TVB.\n",
    "The Allen Connectivity Builder is a tool that download and manipulate the open-source tracer experiments of the Allen Institute (Oh et al., 2014 [2]) in order to built a connectome and the corresponding parcelled volume according to the preferences of the user.\n",
    "\n",
    "The user can choose:\n",
    "\n",
    "  * the resolution of the grid volume in which the experimental data have been registered (here 100 $\\mu m$).\n",
    "  * The definition of the connection strength between source region $i$ and target region $j$. (here $w_{ij}=\\frac{PD_j}{ID_i}$, where PD=projection density, ID=injection density)\n",
    "\n",
    "It is possible to choose the characteristics of the brain areas to be included in the parcellation using the two following criteria:\n",
    " * Only brain areas where at least one injection has infected more than a given threshold of voxels. This kind of selection ensures that only the data with a certain level of experimental relevance is included in the connectome (Oh et al., 2014[2]), (here 50 voxels).\n",
    " * Only brain areas that have a volume greater than a given threshold can be included (here 2$mm^3$).\n",
    "\n",
    "\n",
    "\n",
    "In the following the connectome is loaded and plotted. \n",
    "  "
   ]
  },
  {
   "cell_type": "code",
   "execution_count": null,
   "metadata": {
    "tags": []
   },
   "outputs": [],
   "source": [
    "from tvb.basic.readers import try_get_absolute_path\n",
    "connectivity_path = try_get_absolute_path(\"tvb_data\",\"mouse/allen_2mm/Connectivity.h5\")\n",
    "import_op = import_conn_h5(1, connectivity_path)\n",
    "import_op = wait_to_finish(import_op)\n",
    "import_op"
   ]
  },
  {
   "cell_type": "code",
   "execution_count": null,
   "metadata": {
    "tags": []
   },
   "outputs": [],
   "source": [
    "list_operation_results(import_op.id)"
   ]
  },
  {
   "cell_type": "code",
   "execution_count": null,
   "metadata": {
    "tags": []
   },
   "outputs": [],
   "source": [
    "# Copy the id of the ConnectivityIndex obtained above\n",
    "conn = load_dt(dt_gid='d9be05424e8011e69bf02c4138a1c4ef')"
   ]
  },
  {
   "cell_type": "code",
   "execution_count": null,
   "metadata": {
    "tags": []
   },
   "outputs": [],
   "source": [
    "from tvb.basic.readers import try_get_absolute_path\n",
    "\n",
    "# Visualize the structural connectivity matrix\n",
    "plt.subplots()\n",
    "cs=plt.imshow(np.log10(conn.weights), cmap='jet', aspect='equal', interpolation='none')\n",
    "plt.title('Structural connectivity matrix', fontsize=20)\n",
    "axcb=plt.colorbar(cs)\n",
    "axcb.set_label('Log10(weights)', fontsize=20)"
   ]
  },
  {
   "cell_type": "markdown",
   "metadata": {},
   "source": [
    "## The simulation\n",
    "\n",
    "Once the brain network is defined is possible to simulate its activity. Here we simulate resting state dynamics using the reduced Wong Wang model (Deco et al. 2013 [3], Hansen et al., 2015 [4]).\n",
    "\n",
    "In order to convert the synaptic activity in BOLD signals we used the Balloon-Windkessel method (Friston et al., 200 [5]) using the default value implemented in The Virtual Brain."
   ]
  },
  {
   "cell_type": "code",
   "execution_count": null,
   "metadata": {
    "tags": []
   },
   "outputs": [],
   "source": [
    "list_projects()"
   ]
  },
  {
   "cell_type": "code",
   "execution_count": null,
   "metadata": {
    "tags": []
   },
   "outputs": [],
   "source": [
    "from tvb.core.services.algorithm_service import AlgorithmService\n",
    "from tvb.core.services.simulator_service import SimulatorService\n",
    "from tvb.core.entities.model.model_burst import BurstConfiguration\n",
    "from tvb.config.init.introspector_registry import IntrospectionRegistry\n",
    "from tvb.core.entities.file.simulator.view_model import SimulatorAdapterModel, EulerStochasticViewModel, BoldViewModel, AdditiveNoiseViewModel\n",
    "from time import sleep\n",
    "\n",
    "# define the neural mass model (here: reduced wong wang)\n",
    "RWW = models.ReducedWongWang(w=numpy.array([1.0]), I_o=numpy.array([0.3]))\n",
    "\n",
    "#define variables to monitor during simulation (here: BOLD activity)\n",
    "monitor = BoldViewModel()\n",
    "monitor.period=2e3\n",
    "\n",
    "#define long range coupling parameter\n",
    "longcoupling = coupling.Linear(a=numpy.array([0.096]))\n",
    "\n",
    "#define duration of simulation in ms\n",
    "duration=1200e3\n",
    "\n",
    "#define integrator\n",
    "integrator = EulerStochasticViewModel()\n",
    "integrator.dt = 0.1\n",
    "integrator.noise = AdditiveNoiseViewModel(nsig=np.array([0.00013]))\n",
    "\n",
    "# Instantiate a SimulatorAdapterModel and configure it\n",
    "simulator_model = SimulatorAdapterModel()\n",
    "simulator_model.model=RWW\n",
    "# Copy ConnectivityIndex gid from the result of the list_operation_results function\n",
    "simulator_model.connectivity = \"d9be05424e8011e69bf02c4138a1c4ef\"\n",
    "simulator_model.simulation_length = duration\n",
    "simulator_model.coupling = longcoupling\n",
    "simulator_model.integrator = integrator\n",
    "simulator_model.monitors = [monitor]\n",
    "\n",
    "# use id of your current project as first argument\n",
    "launched_operation = fire_simulation(1, simulator_model)\n",
    "\n",
    "\n",
    "launched_operation = wait_to_finish(launched_operation)\n",
    "\n",
    "launched_operation"
   ]
  },
  {
   "cell_type": "code",
   "execution_count": null,
   "metadata": {
    "tags": []
   },
   "outputs": [],
   "source": [
    "list_operation_results(launched_operation.id)"
   ]
  },
  {
   "cell_type": "markdown",
   "metadata": {},
   "source": [
    "The simulated bold signals can be visualized using matplotlib library."
   ]
  },
  {
   "cell_type": "code",
   "execution_count": null,
   "metadata": {
    "tags": []
   },
   "outputs": [],
   "source": [
    "time_series_region_index_id = get_operation_results(launched_operation.id)[1].id"
   ]
  },
  {
   "cell_type": "code",
   "execution_count": null,
   "metadata": {
    "tags": []
   },
   "outputs": [],
   "source": [
    "#Load time series h5 file\n",
    "ts = load_dt(time_series_region_index_id) # use the id of the TimeSeriesRegionIndex obtained above\n",
    "bold_time = ts.time\n",
    "bold_data = ts.data"
   ]
  },
  {
   "cell_type": "code",
   "execution_count": null,
   "metadata": {
    "tags": []
   },
   "outputs": [],
   "source": [
    "# Display the simulated bold timeseries\n",
    "plt.subplots()\n",
    "plt.plot(bold_time,bold_data[:,0,:,0])\n",
    "plt.xlabel('Time (ms)', fontsize=20)\n",
    "plt.ylabel('Amplitude (au)', fontsize=20)\n",
    "plt.title('Simulated BOLD timeseries', fontsize=20)"
   ]
  },
  {
   "cell_type": "markdown",
   "metadata": {},
   "source": [
    "## Analysis\n",
    "\n",
    "The simulated BOLD signals can be analyzed in different way. \n",
    "\n",
    "### Functional Connectivity Dynamics\n",
    "In particular here we focus on the Functional Connectivity Dynamics (FCD) a metric which is able to quantify the evolution of the functional states in time. There are several ways to estimate FCD (for a review Preti et al., 2016 [6]), TVB uses the sliding windows technique.\n",
    "\n",
    "\n",
    "In order to estimate the FCD using the sliding window technique, the entire BOLD time-series is divided in time windows of a fixed length (3 min) and with an overlap of 176 s; the data points within each window centered at the time $t_i$ were used to calculate FC($t_i$). \n",
    "The \\emph{ij}-th element of the FCD matrix is calculated as the Pearson correlation between the upper triangular part of the $FC(t_i)$ matrix arranged as a vector and the upper triangular part of the $FC(t_j)$ matrix arranged as a vector.\n",
    "\n",
    "\n",
    "The FCD matrix allows identifying the epochs of stable FC configurations as blocks of elevated inter-$FC(t)$ correlation; these blocks are organized around the diagonal of the FCD matrix (Hansen et al., 2015 [4]).\n",
    "\n",
    "\n",
    "In order to identify the epochs of stable FC configurations, TVB uses the spectral embedding method, that permits to group together the nodes of the FCD, i.e. the different time windows, in clusters.\n"
   ]
  },
  {
   "cell_type": "code",
   "execution_count": null,
   "metadata": {
    "tags": []
   },
   "outputs": [],
   "source": [
    "# Run FCD Adapter in order to compute the FCD Matrix\n",
    "from tvb.adapters.analyzers.fcd_adapter import FCDAdapterModel,FunctionalConnectivityDynamicsAdapter\n",
    "from tvb.adapters.datatypes.db.time_series import TimeSeriesRegionIndex\n",
    "from tvb.adapters.datatypes.h5.time_series_h5 import TimeSeriesRegionH5\n",
    "from tvb.core.neocom import h5\n",
    "from tvb.core.entities.storage import dao\n",
    "# from tvb.core.entities.file.files_helper import FilesHelper\n",
    "from tvb.core.adapters.abcadapter import ABCAdapterForm, ABCAdapter\n",
    "from tvb.core.services.operation_service import OperationService\n",
    "from time import sleep\n",
    "\n",
    "adapter_instance = ABCAdapter.build_adapter_from_class(FunctionalConnectivityDynamicsAdapter)\n",
    "\n",
    "# Create and evaluate the analysis\n",
    "# build FCDAdapterModel\n",
    "fcd_model = adapter_instance.get_view_model_class()()\n",
    "fcd_model.time_series= ts.gid\n",
    "fcd_model.sw=180e3 # windows length (ms)\n",
    "fcd_model.sp=4e3 # spanning between sliding windows (ms)\n",
    "\n",
    "# launch an operation and have the results stored both in DB and on disk\n",
    "launched_operation = fire_operation(1, adapter_instance, fcd_model)\n",
    "\n",
    "launched_operation = wait_to_finish(launched_operation)\n",
    "\n",
    "launched_operation"
   ]
  },
  {
   "cell_type": "code",
   "execution_count": null,
   "metadata": {
    "tags": []
   },
   "outputs": [],
   "source": [
    "list_operation_results(launched_operation.id)"
   ]
  },
  {
   "cell_type": "code",
   "execution_count": null,
   "metadata": {
    "tags": []
   },
   "outputs": [],
   "source": [
    "fcd_index_id = get_operation_results(launched_operation.id)[0].id"
   ]
  },
  {
   "cell_type": "markdown",
   "metadata": {},
   "source": [
    "The original and segmented FCD matrices can be visualized using the matplotlib library.\n"
   ]
  },
  {
   "cell_type": "code",
   "execution_count": null,
   "metadata": {
    "tags": []
   },
   "outputs": [],
   "source": [
    "# Plot the FCD matrix and the FCD matrix segmented in the epochs\n",
    "FCD = load_dt(fcd_index_id).array_data[:,:,0,0] # use the id of the FcdIndex obtained above\n",
    "\n",
    "# If we have just one FCDIndex as a result of the FCD Adapter it means that the FCD Segmented is the same as FCD\n",
    "FCD_SEGMENTED = FCD\n",
    "    \n",
    "plt.subplot(121)\n",
    "cs=plt.imshow(FCD, cmap='jet', aspect='equal')\n",
    "axcb =plt.colorbar(ticks=[0, 0.5, 1])\n",
    "axcb.set_label(r'CC [FC($t_i$), FC($t_j$)]', fontsize=20)\n",
    "cs.set_clim(0, 1.0)\n",
    "for t in axcb.ax.get_yticklabels():\n",
    "     t.set_fontsize(18)\n",
    "plt.xticks([0,len(FCD)/2-1, len(FCD)-1],['0','10', '20'], fontsize=18)\n",
    "plt.yticks([0,len(FCD)/2-1, len(FCD)-1],['0','10', '20'], fontsize=18)\n",
    "plt.xlabel(r'Time $t_j$ (min)', fontsize=20)\n",
    "plt.ylabel(r'Time $t_i$ (min)', fontsize=20)\n",
    "plt.title('FCD', fontsize=20)\n",
    "\n",
    "plt.subplot(122)\n",
    "cs=plt.imshow(FCD_SEGMENTED, cmap='jet', aspect='equal')\n",
    "axcb =plt.colorbar(ticks=[0, 0.5, 1])\n",
    "axcb.set_label(r'CC [FC($t_i$), FC($t_j$)]', fontsize=20)\n",
    "cs.set_clim(0, 1.0)\n",
    "for t in axcb.ax.get_yticklabels():\n",
    "     t.set_fontsize(18)\n",
    "plt.xticks([0,len(FCD)/2-1, len(FCD)-1],['0','10', '20'], fontsize=18)\n",
    "plt.yticks([0,len(FCD)/2-1, len(FCD)-1],['0','10', '20'], fontsize=18)\n",
    "plt.xlabel(r'Time $t_j$ (min)', fontsize=20)\n",
    "plt.ylabel(r'Time $t_i$ (min)', fontsize=20)\n",
    "plt.title('FCD segmented', fontsize=20)"
   ]
  },
  {
   "cell_type": "markdown",
   "metadata": {},
   "source": [
    "### Functional hubs\n",
    "\n",
    "The functional connectivity matrix of each epoch defines a functional network; for each functional network, TVB identifies the hub regions with an approach analogous to the one used in graph theory for defining the eigenvector centrality of a network node (Newman 2008 [7]). \n",
    "\n",
    "Here the functional hub regions of the mouse brain are defined as the regions with the largest eigenvector components, in absolute value, associated with the three largest eigenvalues of the FC matrix.\n",
    "\n",
    "\n",
    "The functional hubs are an output of the FCD function (that we have just run), so we can save the results and display them in the mouse brain sections."
   ]
  },
  {
   "cell_type": "code",
   "execution_count": null,
   "metadata": {
    "tags": []
   },
   "outputs": [],
   "source": [
    "# copy all the ids of the ConnectivityMeasureIndexes obtained before\n",
    "connectivity_measure_ids = [i.id for i in get_operation_results(launched_operation.id)[1:]]"
   ]
  },
  {
   "cell_type": "code",
   "execution_count": null,
   "metadata": {
    "tags": []
   },
   "outputs": [],
   "source": [
    "# Plot the functional hubs extracted in the first epoch of stable functional connectivity\n",
    "# set visualization parameters\n",
    "%matplotlib inline\n",
    "matplotlib.rcParams['figure.figsize'] = (20.0, 10.0)\n",
    "\n",
    "import h5py\n",
    "from mpl_toolkits.axes_grid1 import make_axes_locatable\n",
    "from tvb.basic.readers import try_get_absolute_path\n",
    "\n",
    "fig, axes = plt.subplots(1,3)\n",
    "slice_idy=73\n",
    "j=0\n",
    "for conn_measure_id in connectivity_measure_ids:\n",
    "    f_path = try_get_absolute_path(\"tvb_data\", \"mouse/allen_2mm/RegionVolumeMapping.h5\")\n",
    "    f = h5py.File(f_path, 'r', libver='latest')\n",
    "    Vol=f['array_data'][:,:,:]\n",
    "    f_path = try_get_absolute_path(\"tvb_data\", \"mouse/allen_2mm/StructuralMRI.h5\")\n",
    "    f = h5py.File(f_path, 'r', libver='latest')\n",
    "    template=f['array_data'][:,:,:]\n",
    "    conn_measure = load_dt(conn_measure_id)\n",
    "    eig=conn_measure.array_data\n",
    "    for i in range(np.shape(eig)[0]):\n",
    "        Vol = np.where(Vol==i, eig[i], Vol)\n",
    "    Vol = np.ma.masked_where(Vol < (np.amax(eig)/2), Vol)\n",
    "    im1 = axes[j].imshow((template[:,slice_idy,:].T)[::-1], cmap='gray', vmin=template.min(), vmax=template.max())\n",
    "    cax = axes[j].imshow((Vol[:,slice_idy,:].T)[::-1], cmap='YlOrRd', alpha=1, vmin=np.amax(eig)/2., vmax=np.amax(eig))\n",
    "    axes[j].axis('off')\n",
    "    axes[j].set_title(conn_measure.title)\n",
    "    divider = make_axes_locatable(axes[j])\n",
    "    cax1 = divider.append_axes(\"right\", size=\"5%\", pad=0.05)\n",
    "    axcb=plt.colorbar(cax,cax1,ticks=[np.amax(eig)/2.,np.amax(eig)],orientation='vertical')\n",
    "    axcb.set_ticklabels(['Max/2', 'Max']) \n",
    "    axcb.set_label('Eigenvector components')\n",
    "    j=j+1"
   ]
  },
  {
   "cell_type": "markdown",
   "metadata": {},
   "source": [
    "## References\n",
    "\n",
    "[1] Melozzi, Francesca, Marmaduke Woodman, Viktor Jirsa, and Christophe Bernard. \"The Virtual Mouse Brain: A Computational Neuroinformatics Platform To Study Whole Mouse Brain Dynamics.\" bioRxiv (2017): 123406.\n",
    "\n",
    "\n",
    "[2] Oh, Seung Wook, Julie A. Harris, Lydia Ng, Brent Winslow, Nicholas Cain, Stefan Mihalas, Quanxin Wang et al. \"A mesoscale connectome of the mouse brain.\" Nature 508, no. 7495 (2014): 207-214.\n",
    "\n",
    "\n",
    "[3] Deco Gustavo, Ponce Alvarez Adrian, Dante Mantini, Gian Luca Romani, Patric Hagmann and Maurizio Corbetta. Resting-State Functional Connectivity Emerges from Structurally and Dynamically Shaped Slow Linear Fluctuations. The Journal of Neuroscience 32(27), 11239-11252, 2013.\n",
    "\n",
    "\n",
    "[4] Hansen, Enrique CA, Demian Battaglia, Andreas Spiegler, Gustavo Deco, and Viktor K. Jirsa. \"Functional connectivity dynamics: modeling the switching behavior of the resting state.\" Neuroimage 105 (2015): 525-535.\n",
    "\n",
    "\n",
    "[5] Friston, Karl J., Andrea Mechelli, Robert Turner, and Cathy J. Price. \"Nonlinear responses in fMRI: the Balloon model, Volterra kernels, and other hemodynamics.\" NeuroImage 12, no. 4 (2000): 466-477.\n",
    "\n",
    "\n",
    "[6] Preti, Maria Giulia, Thomas AW Bolton, and Dimitri Van De Ville. \"The dynamic functional connectome: State-of-the-art and perspectives.\" NeuroImage (2016).\n",
    "\n",
    "\n",
    "[7] Newman, Mark EJ. \"The mathematics of networks.\" The new palgrave encyclopedia of economics 2, no. 2008 (2008): 1-12."
   ]
  },
  {
   "cell_type": "code",
   "execution_count": null,
   "metadata": {},
   "outputs": [],
   "source": []
  }
 ],
 "metadata": {
  "kernelspec": {
   "display_name": "Python 3 (ipykernel)",
   "language": "python",
   "name": "python3"
  },
  "language_info": {
   "codemirror_mode": {
    "name": "ipython",
    "version": 3
   },
   "file_extension": ".py",
   "mimetype": "text/x-python",
   "name": "python",
   "nbconvert_exporter": "python",
   "pygments_lexer": "ipython3",
   "version": "3.10.9"
  }
 },
 "nbformat": 4,
 "nbformat_minor": 4
}

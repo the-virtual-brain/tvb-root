{
 "cells": [
  {
   "cell_type": "markdown",
   "metadata": {},
   "source": [
    "# Interract with TVB REST server using the TVBClient API\n",
    "## TVB REST server is part of tvb-framework release. If you want to run this example you will have to start a REST server or you should have access to a public TVB REST server.\n",
    "\n",
    "Note: TVB REST server is part of the tvb-framework release. If you want to run this example, you will have to start a REST server or you should have access to a public TVB REST server.\n",
    "\n",
    "*WARNING*: Your jupyter notebook server probably runs on localhost:8888 which is used by TVBClient. You should run jupyter on a different port (e.g. jupyter notebook --port 9999)."
   ]
  },
  {
   "cell_type": "code",
   "execution_count": null,
   "metadata": {},
   "outputs": [],
   "source": [
    "import os\n",
    "import time\n",
    "\n",
    "from keycloak import KeycloakOpenID\n",
    "from tvb.adapters.datatypes.db.connectivity import ConnectivityIndex\n",
    "from tvb.adapters.simulator.simulator_adapter import SimulatorAdapterModel\n",
    "from tvb.core.entities.model.model_operation import STATUS_ERROR, STATUS_CANCELED, STATUS_FINISHED\n",
    "from tvb.interfaces.rest.client.tvb_client import TVBClient"
   ]
  },
  {
   "cell_type": "code",
   "execution_count": null,
   "metadata": {},
   "outputs": [],
   "source": [
    "# Enter the URL to your REST server\n",
    "tvb_client = TVBClient(\"http://localhost:9090\", login_callback_port=8081)\n",
    "\n",
    "keycloak_instance = KeycloakOpenID(\"https://keycloak.codemart.ro/auth/\", \"TVB\", \"tvb-tests\")\n",
    "\n",
    "tvb_client._update_token(keycloak_instance.token(\"tvb_user\", \"pass\"))\n",
    "tvb_client.is_data_encrypted = tvb_client.datatype_api.is_data_encrypted()"
   ]
  },
  {
   "cell_type": "code",
   "execution_count": null,
   "metadata": {},
   "outputs": [],
   "source": [
    "def monitor_operation(tvb_client, operation_gid):\n",
    "    while True:\n",
    "        status = tvb_client.get_operation_status(operation_gid)\n",
    "        if status in [STATUS_FINISHED, STATUS_CANCELED, STATUS_ERROR]:\n",
    "            break\n",
    "        print(\"Current operation GID {} => STATUS {}\".format(operation_gid, status))\n",
    "        time.sleep(5)\n",
    "    print(\"Operation {} has finished with status: {}\".format(operation_gid, status))"
   ]
  },
  {
   "cell_type": "code",
   "execution_count": null,
   "metadata": {},
   "outputs": [],
   "source": [
    "# Requesting projects for the logged user\n",
    "projects_of_user = tvb_client.get_project_list()\n",
    "default_project = projects_of_user[0]\n",
    "default_project_gid = default_project.gid\n",
    "default_project.name"
   ]
  },
  {
   "cell_type": "code",
   "execution_count": null,
   "metadata": {},
   "outputs": [],
   "source": [
    "# Requesting datatypes for the default project\n",
    "data_in_project = tvb_client.get_data_in_project(default_project_gid)\n",
    "connectivity_gid = None\n",
    "datatypes_type = []\n",
    "for datatype in data_in_project:\n",
    "    datatypes_type.append(datatype.type)\n",
    "    if datatype.type == ConnectivityIndex().display_type:\n",
    "        connectivity_gid = datatype.gid\n",
    "\n",
    "datatypes_type"
   ]
  },
  {
   "cell_type": "code",
   "execution_count": null,
   "metadata": {},
   "outputs": [],
   "source": [
    "# Preparing the simulator\n",
    "simulator = SimulatorAdapterModel()\n",
    "simulator.connectivity = connectivity_gid\n",
    "simulator.simulation_length = 100\n",
    "\n",
    "# Starting the simulation\n",
    "operation_gid = tvb_client.fire_simulation(default_project_gid, simulator)\n",
    "\n",
    "# Monitoring the simulation operation\n",
    "monitor_operation(tvb_client, operation_gid)"
   ]
  },
  {
   "cell_type": "code",
   "execution_count": null,
   "metadata": {},
   "outputs": [],
   "source": [
    "# Requesting the results of the simulation\n",
    "simulation_results = tvb_client.get_operation_results(operation_gid)\n",
    "datatype_names = []\n",
    "for datatype in simulation_results:\n",
    "    datatype_names.append(datatype.name)\n",
    "    \n",
    "datatype_names"
   ]
  },
  {
   "cell_type": "code",
   "execution_count": null,
   "metadata": {},
   "outputs": [],
   "source": [
    "# Download the resulted time series file\n",
    "\n",
    "time_series_gid = simulation_results[1].gid\n",
    "time_series_path = tvb_client.retrieve_datatype(time_series_gid, os.getcwd())\n",
    "\n",
    "time_series_path"
   ]
  },
  {
   "cell_type": "code",
   "execution_count": null,
   "metadata": {},
   "outputs": [],
   "source": [
    "from tvb.adapters.datatypes.h5.time_series_h5 import TimeSeriesH5\n",
    "\n",
    "# Loading a chuck from the time series H5 file, as this can be very large\n",
    "with TimeSeriesH5(time_series_path) as time_series_h5:\n",
    "    data_shape = time_series_h5.read_data_shape()\n",
    "    chunk = time_series_h5.read_data_slice(tuple([slice(20), slice(data_shape[1]), slice(data_shape[2]), slice(data_shape[3])]))\n",
    "\n",
    "assert chunk.shape[0] == 20\n",
    "assert chunk.shape[1] == data_shape[1]\n",
    "assert chunk.shape[2] == data_shape[2]\n",
    "assert chunk.shape[3] == data_shape[3]"
   ]
  },
  {
   "cell_type": "code",
   "execution_count": null,
   "metadata": {},
   "outputs": [],
   "source": [
    "# Requesting algorithms to run on time series\n",
    "algos = tvb_client.get_operations_for_datatype(time_series_gid)\n",
    "algos_pp = [(algo.module+'.'+algo.classname) for algo in algos]\n",
    "\n",
    "algos_pp"
   ]
  },
  {
   "cell_type": "code",
   "execution_count": null,
   "metadata": {},
   "outputs": [],
   "source": [
    "from tvb.adapters.analyzers.fourier_adapter import FFTAdapterModel, FourierAdapter\n",
    "from tvb.datatypes.spectral import WindowingFunctionsEnum\n",
    "\n",
    "# Prepare Fourier model\n",
    "fourier_model = FFTAdapterModel()\n",
    "fourier_model.time_series = time_series_gid\n",
    "fourier_model.window_function = WindowingFunctionsEnum.HAMMING\n",
    "\n",
    "# Launch Fourier Analyzer\n",
    "operation_gid = tvb_client.launch_operation(default_project_gid, FourierAdapter, fourier_model)\n",
    "\n",
    "operation_gid"
   ]
  },
  {
   "cell_type": "code",
   "execution_count": null,
   "metadata": {},
   "outputs": [],
   "source": [
    "# Download the connectivity file\n",
    "connectivity_path = tvb_client.retrieve_datatype(connectivity_gid, os.getcwd())\n",
    "print(\"Connectivity path: {}\".format(connectivity_path))\n",
    "\n",
    "# Loading an entire Connectivity datatype in memory\n",
    "connectivity = tvb_client.load_datatype_from_file(connectivity_path)\n",
    "connectivity.summary_info()"
   ]
  }
 ],
 "metadata": {
  "kernelspec": {
   "display_name": "Python 3 (ipykernel)",
   "language": "python",
   "name": "python3"
  },
  "language_info": {
   "codemirror_mode": {
    "name": "ipython",
    "version": 3
   },
   "file_extension": ".py",
   "mimetype": "text/x-python",
   "name": "python",
   "nbconvert_exporter": "python",
   "pygments_lexer": "ipython3",
   "version": "3.10.4"
  }
 },
 "nbformat": 4,
 "nbformat_minor": 4
}

{
 "cells": [
  {
   "cell_type": "markdown",
   "metadata": {},
   "source": [
    "# Interract with TVB REST server using the TVBClient API\n",
    "## TVB REST server is part of tvb-framework release. If you want to run this example you will have to start a REST server or you should have access to a public TVB REST server.\n",
    "\n"
   ]
  },
  {
   "cell_type": "code",
   "execution_count": 1,
   "metadata": {},
   "outputs": [],
   "source": [
    "import os\n",
    "import time\n",
    "\n",
    "from keycloak import KeycloakOpenID\n",
    "from tvb.adapters.datatypes.db.connectivity import ConnectivityIndex\n",
    "from tvb.adapters.simulator.simulator_adapter import SimulatorAdapterModel\n",
    "from tvb.core.entities.model.model_operation import STATUS_ERROR, STATUS_CANCELED, STATUS_FINISHED\n",
    "from tvb.interfaces.rest.client.tvb_client import TVBClient"
   ]
  },
  {
   "cell_type": "code",
   "execution_count": 2,
   "metadata": {},
   "outputs": [],
   "source": [
    "tvb_client = TVBClient(\"http://192.168.123.93:9090\")\n",
    "\n",
    "keycloak_instance = KeycloakOpenID(\"https://keycloak.codemart.ro/auth/\", \"TVB\", \"tvb-tests\")\n",
    "\n",
    "tvb_client._update_token(keycloak_instance.token(\"tvb_user\", \"pass\"))"
   ]
  },
  {
   "cell_type": "code",
   "execution_count": 3,
   "metadata": {},
   "outputs": [],
   "source": [
    "def monitor_operation(tvb_client, operation_gid):\n",
    "    while True:\n",
    "        status = tvb_client.get_operation_status(operation_gid)\n",
    "        if status in [STATUS_FINISHED, STATUS_CANCELED, STATUS_ERROR]:\n",
    "            break\n",
    "        print(\"Current operation GID {} => STATUS {}\".format(operation_gid, status))\n",
    "        time.sleep(5)\n",
    "    print(\"Operation {} has finished with status: {}\".format(operation_gid, status))"
   ]
  },
  {
   "cell_type": "code",
   "execution_count": 4,
   "metadata": {},
   "outputs": [
    {
     "data": {
      "text/plain": [
       "'Default_Project'"
      ]
     },
     "execution_count": 4,
     "metadata": {},
     "output_type": "execute_result"
    }
   ],
   "source": [
    "# Requesting projects for the logged user\n",
    "projects_of_user = tvb_client.get_project_list()\n",
    "default_project = projects_of_user[0]\n",
    "default_project_gid = default_project.gid\n",
    "default_project.name"
   ]
  },
  {
   "cell_type": "code",
   "execution_count": 5,
   "metadata": {},
   "outputs": [
    {
     "data": {
      "text/plain": [
       "['Connectivity',\n",
       " 'Surface',\n",
       " 'Surface',\n",
       " 'Surface',\n",
       " 'Surface',\n",
       " 'Surface',\n",
       " 'Surface',\n",
       " 'Sensors',\n",
       " 'Sensors',\n",
       " 'Sensors',\n",
       " 'ConnectivityAnnotations',\n",
       " 'RegionMapping',\n",
       " 'ProjectionMatrix',\n",
       " 'ProjectionMatrix',\n",
       " 'ProjectionMatrix',\n",
       " 'LocalConnectivity']"
      ]
     },
     "execution_count": 5,
     "metadata": {},
     "output_type": "execute_result"
    }
   ],
   "source": [
    "# Requesting datatypes for the default project\n",
    "data_in_project = tvb_client.get_data_in_project(default_project_gid)\n",
    "connectivity_gid = None\n",
    "datatypes_type = []\n",
    "for datatype in data_in_project:\n",
    "    datatypes_type.append(datatype.type)\n",
    "    if datatype.type == ConnectivityIndex().display_type:\n",
    "        connectivity_gid = datatype.gid\n",
    "\n",
    "datatypes_type"
   ]
  },
  {
   "cell_type": "code",
   "execution_count": 6,
   "metadata": {},
   "outputs": [
    {
     "name": "stdout",
     "output_type": "stream",
     "text": [
      "Current operation GID 6b9552dc-7b21-11ea-87ba-1860247fb747 => STATUS 4-PENDING\n",
      "Current operation GID 6b9552dc-7b21-11ea-87ba-1860247fb747 => STATUS 4-PENDING\n",
      "Current operation GID 6b9552dc-7b21-11ea-87ba-1860247fb747 => STATUS 3-STARTED\n",
      "Operation 6b9552dc-7b21-11ea-87ba-1860247fb747 has finished with status: 5-FINISHED\n"
     ]
    }
   ],
   "source": [
    "# Preparing the simulator\n",
    "simulator = SimulatorAdapterModel()\n",
    "simulator.connectivity = connectivity_gid\n",
    "simulator.simulation_length = 100\n",
    "\n",
    "# Starting the simulation\n",
    "operation_gid = tvb_client.fire_simulation(default_project_gid, simulator)\n",
    "\n",
    "# Monitoring the simulation operation\n",
    "monitor_operation(tvb_client, operation_gid)"
   ]
  },
  {
   "cell_type": "code",
   "execution_count": 7,
   "metadata": {},
   "outputs": [
    {
     "data": {
      "text/plain": [
       "['SimulationHistory', 'TimeSeriesRegion']"
      ]
     },
     "execution_count": 7,
     "metadata": {},
     "output_type": "execute_result"
    }
   ],
   "source": [
    "# Requesting the results of the simulation\n",
    "simulation_results = tvb_client.get_operation_results(operation_gid)\n",
    "datatype_names = []\n",
    "for datatype in simulation_results:\n",
    "    datatype_names.append(datatype.name)\n",
    "    \n",
    "datatype_names"
   ]
  },
  {
   "cell_type": "code",
   "execution_count": 8,
   "metadata": {},
   "outputs": [
    {
     "data": {
      "text/plain": [
       "'/home/tvb_user/tvb-root/tvb_documentation/demos/TimeSeriesRegion_d13567caa859479ba61597e106c97b30.h5'"
      ]
     },
     "execution_count": 8,
     "metadata": {},
     "output_type": "execute_result"
    }
   ],
   "source": [
    "# Download the resulted time series file\n",
    "\n",
    "time_series_gid = simulation_results[1].gid\n",
    "time_series_path = tvb_client.retrieve_datatype(time_series_gid, os.getcwd())\n",
    "\n",
    "time_series_path"
   ]
  },
  {
   "cell_type": "code",
   "execution_count": 9,
   "metadata": {},
   "outputs": [],
   "source": [
    "from tvb.adapters.datatypes.h5.time_series_h5 import TimeSeriesH5\n",
    "\n",
    "# Loading a chuck from the time series H5 file, as this can be very large\n",
    "with TimeSeriesH5(time_series_path) as time_series_h5:\n",
    "    data_shape = time_series_h5.read_data_shape()\n",
    "    chunk = time_series_h5.read_data_slice(tuple([slice(20), slice(data_shape[1]), slice(data_shape[2]), slice(data_shape[3])]))\n",
    "\n",
    "assert chunk.shape[0] == 20\n",
    "assert chunk.shape[1] == data_shape[1]\n",
    "assert chunk.shape[2] == data_shape[2]\n",
    "assert chunk.shape[3] == data_shape[3]"
   ]
  },
  {
   "cell_type": "code",
   "execution_count": 10,
   "metadata": {},
   "outputs": [
    {
     "data": {
      "text/plain": [
       "['tvb.adapters.analyzers.cross_correlation_adapter.CrossCorrelateAdapter',\n",
       " 'tvb.adapters.analyzers.cross_correlation_adapter.PearsonCorrelationCoefficientAdapter',\n",
       " 'tvb.adapters.analyzers.fcd_adapter.FunctionalConnectivityDynamicsAdapter',\n",
       " 'tvb.adapters.analyzers.fmri_balloon_adapter.BalloonModelAdapter',\n",
       " 'tvb.adapters.analyzers.fourier_adapter.FourierAdapter',\n",
       " 'tvb.adapters.analyzers.ica_adapter.ICAAdapter',\n",
       " 'tvb.adapters.analyzers.metrics_group_timeseries.TimeseriesMetricsAdapter',\n",
       " 'tvb.adapters.analyzers.node_coherence_adapter.NodeCoherenceAdapter',\n",
       " 'tvb.adapters.analyzers.node_complex_coherence_adapter.NodeComplexCoherenceAdapter',\n",
       " 'tvb.adapters.analyzers.node_covariance_adapter.NodeCovarianceAdapter',\n",
       " 'tvb.adapters.analyzers.pca_adapter.PCAAdapter',\n",
       " 'tvb.adapters.analyzers.wavelet_adapter.ContinuousWaveletTransformAdapter',\n",
       " 'tvb.adapters.visualizers.brain.BrainViewer',\n",
       " 'tvb.adapters.visualizers.brain.DualBrainViewer',\n",
       " 'tvb.adapters.visualizers.eeg_monitor.EegMonitor',\n",
       " 'tvb.adapters.visualizers.time_series.TimeSeriesDisplay']"
      ]
     },
     "execution_count": 10,
     "metadata": {},
     "output_type": "execute_result"
    }
   ],
   "source": [
    "# Requesting algorithms to run on time series\n",
    "algos = tvb_client.get_operations_for_datatype(time_series_gid)\n",
    "algos_pp = [(algo.module+'.'+algo.classname) for algo in algos]\n",
    "\n",
    "algos_pp"
   ]
  },
  {
   "cell_type": "code",
   "execution_count": 11,
   "metadata": {},
   "outputs": [
    {
     "data": {
      "text/plain": [
       "'750ec3da-7b21-11ea-a7ec-1860247fb747'"
      ]
     },
     "execution_count": 11,
     "metadata": {},
     "output_type": "execute_result"
    }
   ],
   "source": [
    "from tvb.adapters.analyzers.fourier_adapter import FFTAdapterModel, FourierAdapter\n",
    "\n",
    "# Prepare Fourier model\n",
    "fourier_model = FFTAdapterModel()\n",
    "fourier_model.time_series = time_series_gid\n",
    "fourier_model.window_function = 'hamming'\n",
    "\n",
    "# Launch Fourier Analyzer\n",
    "operation_gid = tvb_client.launch_operation(default_project_gid, FourierAdapter, fourier_model)\n",
    "\n",
    "operation_gid"
   ]
  },
  {
   "cell_type": "code",
   "execution_count": 12,
   "metadata": {},
   "outputs": [
    {
     "name": "stdout",
     "output_type": "stream",
     "text": [
      "Connectivity path: /home/tvb_user/tvb-root/tvb_documentation/demos/Connectivity_6b28b6c61836452bb52cbd18538a7775.h5\n"
     ]
    },
    {
     "data": {
      "text/plain": [
       "{'Number of regions': 76,\n",
       " 'Number of connections': 1560,\n",
       " 'Undirected': False,\n",
       " 'areas shape': '(76,)',\n",
       " 'areas dtype': 'float64',\n",
       " 'areas [min, median, max]': '[0, 2580.89, 10338.2]',\n",
       " 'weights shape': '(76, 76)',\n",
       " 'weights dtype': 'float64',\n",
       " 'weights [min, median, max]': '[0, 0, 3]',\n",
       " 'weights-non-zero [min, median, max]': '[0.00462632, 2, 3]',\n",
       " 'tract_lengths [min, median, max]': '[0, 71.6635, 153.486]',\n",
       " 'tract_lengths-non-zero [min, median, max]': '[4.93328, 74.0646, 153.486]',\n",
       " 'tract_lengths (connections) [min, median, max]': '[0, 55.8574, 138.454]'}"
      ]
     },
     "execution_count": 12,
     "metadata": {},
     "output_type": "execute_result"
    }
   ],
   "source": [
    "# Download the connectivity file\n",
    "connectivity_path = tvb_client.retrieve_datatype(connectivity_gid, os.getcwd())\n",
    "print(\"Connectivity path: {}\".format(connectivity_path))\n",
    "\n",
    "# Loading an entire Connectivity datatype in memory\n",
    "connectivity = tvb_client.load_datatype_from_file(connectivity_path)\n",
    "connectivity.summary_info()"
   ]
  }
 ],
 "metadata": {
  "kernelspec": {
   "display_name": "Python 3",
   "language": "python",
   "name": "python3"
  },
  "language_info": {
   "codemirror_mode": {
    "name": "ipython",
    "version": 3
   },
   "file_extension": ".py",
   "mimetype": "text/x-python",
   "name": "python",
   "nbconvert_exporter": "python",
   "pygments_lexer": "ipython3",
   "version": "3.7.7"
  }
 },
 "nbformat": 4,
 "nbformat_minor": 4
}

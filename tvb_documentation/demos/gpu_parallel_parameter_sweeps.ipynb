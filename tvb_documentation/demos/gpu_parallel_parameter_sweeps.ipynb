{
 "cells": [
  {
   "cell_type": "markdown",
   "metadata": {},
   "source": [
    "# GPU-based parallel parameter sweeps\n",
    "\n",
    "A frequent bottleneck in TVB-based studies are the parameter sweeps that allow a TVB user to characterize the sensitivity of a TVB model to key parameters such as a conduction velocity and coupling strength.  Because the sequence of simulations are parallel and independant, they are amenable to parallelization using general purpose graphics processing units (GPUs) which are now frequently found in HPC centers.\n",
    "\n",
    "## Quickstart\n",
    "\n",
    "To assist with a user running on a HPC site via Slurm or similar job scheduler, a helpful command line interface is provided,"
   ]
  },
  {
   "cell_type": "code",
   "execution_count": 1,
   "metadata": {},
   "outputs": [
    {
     "name": "stdout",
     "output_type": "stream",
     "text": [
      "2020-09-11 13:22:53,114 - WARNING - tvb.simulator.common - psutil module not available: no warnings will be issued when a\n",
      "    simulation may require more memory than available\n",
      "   INFO  log level set to INFO\n",
      "/home/maedoc/src/tvb-root/scientific_library/tvb/datatypes/surfaces.py:61: UserWarning: Geodesic distance module is unavailable; some functionality for surfaces will be unavailable.\n",
      "  warnings.warn(msg)\n",
      "usage: __main__.py [-h] [-c N_COUPLING] [-s N_SPEED] [-t] [-n N_TIME] [-v]\n",
      "                   [--node_threads NODE_THREADS]\n",
      "                   [--model {Rwongwang,Kuramoto,Epileptor,Oscillator,Oscillatorref,Kuramotoref,Rwongwangref,Epileptorref}]\n",
      "                   [--lineinfo] [--filename FILENAME] [-b BENCH]\n",
      "                   [-bx BLOCKSZX] [-by BLOCKSZY] [-val VALIDATE]\n",
      "\n",
      "Run parameter sweep.\n",
      "\n",
      "optional arguments:\n",
      "  -h, --help            show this help message and exit\n",
      "  -c N_COUPLING, --n_coupling N_COUPLING\n",
      "                        num grid points for coupling parameter\n",
      "  -s N_SPEED, --n_speed N_SPEED\n",
      "                        num grid points for speed parameter\n",
      "  -t, --test            check results\n",
      "  -n N_TIME, --n_time N_TIME\n",
      "                        number of time steps to do (default 400)\n",
      "  -v, --verbose         increase logging verbosity\n",
      "  --node_threads NODE_THREADS\n",
      "  --model {Rwongwang,Kuramoto,Epileptor,Oscillator,Oscillatorref,Kuramotoref,Rwongwangref,Epileptorref}\n",
      "                        neural mass model to be used during the simulation\n",
      "  --lineinfo\n",
      "  --filename FILENAME   Filename to use as GPU kernel definition\n",
      "  -b BENCH, --bench BENCH\n",
      "                        What to bench: regular, numba, cuda\n",
      "  -bx BLOCKSZX, --blockszx BLOCKSZX\n",
      "                        Enter block size x\n",
      "  -by BLOCKSZY, --blockszy BLOCKSZY\n",
      "                        Enter block size y\n",
      "  -val VALIDATE, --validate VALIDATE\n",
      "                        Enable validation to refmodels\n"
     ]
    }
   ],
   "source": [
    "!python -m tvb.dsl_cuda.run --help"
   ]
  },
  {
   "cell_type": "markdown",
   "metadata": {},
   "source": [
    "This allows for configuring and running a parameter sweep in single command,"
   ]
  },
  {
   "cell_type": "code",
   "execution_count": 4,
   "metadata": {},
   "outputs": [
    {
     "name": "stdout",
     "output_type": "stream",
     "text": [
      "2020-09-11 13:25:33,377 - WARNING - tvb.simulator.common - psutil module not available: no warnings will be issued when a\n",
      "    simulation may require more memory than available\n",
      "   INFO  log level set to INFO\n",
      "/home/maedoc/src/tvb-root/scientific_library/tvb/datatypes/surfaces.py:61: UserWarning: Geodesic distance module is unavailable; some functionality for surfaces will be unavailable.\n",
      "  warnings.warn(msg)\n",
      "WARNING  File 'cortical' not found in ZIP.\n",
      "WARNING  File 'hemispheres' not found in ZIP.\n",
      "WARNING  File 'areas' not found in ZIP.\n",
      "/home/maedoc/src/tvb-root/scientific_library/tvb/dsl_cuda/run/cuda_run.py:28: UserWarning: The CUDA compiler succeeded, but said the following:\n",
      "kernel.cu(67): warning: variable \"global_speed\" was declared but never referenced\n",
      "\n",
      "kernel.cu(68): warning: variable \"global_coupling\" was declared but never referenced\n",
      "\n",
      "kernel.cu(91): warning: variable \"J_N\" was declared but never referenced\n",
      "\n",
      "kernel.cu(92): warning: variable \"J_I\" was declared but never referenced\n",
      "\n",
      "kernel.cu(94): warning: variable \"lamda\" was declared but never referenced\n",
      "\n",
      "kernel.cu(107): warning: variable \"rec_n\" was declared but never referenced\n",
      "\n",
      "kernel.cu(108): warning: variable \"rec_speed_dt\" was declared but never referenced\n",
      "\n",
      "ptxas info    : 64448 bytes gmem, 72 bytes cmem[3]\n",
      "ptxas info    : Compiling entry function '_Z9RwongwangjjjjjffPfS_S_S_S_' for 'sm_75'\n",
      "ptxas info    : Function properties for _Z9RwongwangjjjjjffPfS_S_S_S_\n",
      "    0 bytes stack frame, 0 bytes spill stores, 0 bytes spill loads\n",
      "ptxas info    : Used 32 registers, 424 bytes cmem[0], 8 bytes cmem[2]\n",
      "\n",
      "  network_module = SourceModule(\n",
      "100%|███████████████████████████████████████████| 40/40 [00:03<00:00, 12.40it/s]\n"
     ]
    }
   ],
   "source": [
    "!python -m tvb.dsl_cuda.run --model Rwongwang -n 40 -c 64 -s 64"
   ]
  },
  {
   "cell_type": "markdown",
   "metadata": {},
   "source": [
    "This demonstrates a 64x64 sweep completed in 3s on a Nvidia RTX5000 GPU. \n",
    "\n",
    "More extensive integration and output analysis in the notebook is possible by making direct use of the API exposed in the dsl_cuda module."
   ]
  },
  {
   "cell_type": "code",
   "execution_count": null,
   "metadata": {},
   "outputs": [],
   "source": []
  }
 ],
 "metadata": {
  "kernelspec": {
   "display_name": "Python 3",
   "language": "python",
   "name": "python3"
  },
  "language_info": {
   "codemirror_mode": {
    "name": "ipython",
    "version": 3
   },
   "file_extension": ".py",
   "mimetype": "text/x-python",
   "name": "python",
   "nbconvert_exporter": "python",
   "pygments_lexer": "ipython3",
   "version": "3.8.5"
  }
 },
 "nbformat": 4,
 "nbformat_minor": 4
}

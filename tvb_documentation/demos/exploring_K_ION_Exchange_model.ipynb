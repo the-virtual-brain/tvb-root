{
 "cells": [
  {
   "cell_type": "code",
   "execution_count": null,
   "metadata": {
    "tags": []
   },
   "outputs": [],
   "source": [
    "%matplotlib inline"
   ]
  },
  {
   "cell_type": "code",
   "execution_count": null,
   "metadata": {
    "tags": []
   },
   "outputs": [],
   "source": [
    "import numpy as np\n",
    "import time as tm\n",
    "import matplotlib.pyplot as plt        \n",
    "import matplotlib.gridspec as gridspec \n",
    "import networkx as nx\n",
    "from matplotlib.colors import ListedColormap, LinearSegmentedColormap\n",
    "from tvb.simulator.lab import *"
   ]
  },
  {
   "cell_type": "code",
   "execution_count": null,
   "metadata": {
    "tags": []
   },
   "outputs": [],
   "source": [
    "viridis= plt.get_cmap('viridis', 10)\n",
    "cln=[viridis(4),viridis(4),viridis(4),'tomato',viridis(4),viridis(4)]"
   ]
  },
  {
   "cell_type": "markdown",
   "metadata": {
    "tags": []
   },
   "source": [
    "## CONFIGURE STRUCTURAL CONNECTIVITY"
   ]
  },
  {
   "cell_type": "code",
   "execution_count": null,
   "metadata": {
    "tags": []
   },
   "outputs": [],
   "source": [
    "condspeed=np.infty \n",
    "\n",
    "SC6_con = connectivity.Connectivity(\n",
    "    weights = np.array([\n",
    "           [0.        , 0.1000757 , 0.130656  , 0.16900059, 0.1000757 , 0.130656  ],\n",
    "           [0.100056  , 0.        , 0.090656  , 0.11799001, 0.1320757 , 0.138656  ],\n",
    "           [0.11299001, 0.087656  , 0.        , 0.237     , 0.1340757 , 0.130656  ],\n",
    "           [0.17000001, 0.1100757 , 0.132656  , 0.        , 0.1088757 , 0.138656  ],\n",
    "           [0.10799001, 0.1000757 , 0.133656  , 0.10799001, 0.        , 0.120656  ],\n",
    "           [0.12799001, 0.1400757 , 0.130656  , 0.137     , 0.1210757 , 0.        ]]\n",
    "    ),\n",
    "    tract_lengths = np.array(\n",
    "        [[ 0., 40., 32., 33., 41., 60.],\n",
    "         [40.,  0., 50., 26., 22., 30.],\n",
    "         [32., 50.,  0., 60., 50., 40.],\n",
    "         [33., 26., 60.,  0., 60., 40.],\n",
    "         [41., 22., 50., 60.,  0., 30.],\n",
    "         [60., 30., 40., 40., 30.,  0.]]),\n",
    "    region_labels=np.array(['A','B','C','D','E','F'])\n",
    ")\n",
    "SC6_con.centres_spherical()\n",
    "nregions = len(SC6_con.weights)   \n",
    "SC6_con.speed = np.array([condspeed])\n",
    "SC6_con.configure()"
   ]
  },
  {
   "cell_type": "markdown",
   "metadata": {
    "tags": []
   },
   "source": [
    "## STRUCTURAL GRAPH"
   ]
  },
  {
   "cell_type": "code",
   "execution_count": null,
   "metadata": {
    "tags": []
   },
   "outputs": [],
   "source": [
    "G=nx.from_numpy_array(SC6_con.tract_lengths); weights = 15*SC6_con.weights[np.triu_indices(nregions,1)]"
   ]
  },
  {
   "cell_type": "code",
   "execution_count": null,
   "metadata": {
    "tags": []
   },
   "outputs": [],
   "source": [
    "plt.figure(figsize=(6,3))\n",
    "plt.subplot(1,2,1)\n",
    "plt.title('Structural Connectivity \\n')\n",
    "plt.imshow(SC6_con.weights);plt.colorbar(shrink=0.5);\n",
    "plt.xticks(np.arange(6),SC6_con.region_labels);plt.yticks(np.arange(6),SC6_con.region_labels);\n",
    "plt.subplot(1,2,2)\n",
    "plt.title('Structural Graph')\n",
    "nx.draw_circular(G,labels=dict(enumerate(SC6_con.region_labels)),\n",
    "                 width=weights**2, node_size=[700,700,700,2.5*700,700,700],\n",
    "                 font_color='w',edge_color='darkslategray',font_size=16,font_weight='bold',\n",
    "                 font_family='monospace',node_color=cln)\n",
    "plt.axis('off')\n",
    "axis = plt.gca()\n",
    "axis.set_xlim(np.asarray([1.4*x for x in axis.get_xlim()]))\n",
    "axis.set_ylim(np.asarray([1.4*y for y in axis.get_ylim()]))\n",
    "plt.tight_layout();plt.show()"
   ]
  },
  {
   "cell_type": "markdown",
   "metadata": {},
   "source": [
    "## CONFIGURE NEURAL MASS MODEL PARAMETERS"
   ]
  },
  {
   "cell_type": "markdown",
   "metadata": {},
   "source": [
    "### We set node D with pathological levels of potassium concentration in the external bath $K_{bath}$"
   ]
  },
  {
   "cell_type": "code",
   "execution_count": null,
   "metadata": {
    "tags": []
   },
   "outputs": [],
   "source": [
    "E = 0\n",
    "K_bath = 15.5\n",
    "J=0.08\n",
    "eta=0\n",
    "Delta=1\n",
    "R_minus=0.02\n",
    "R_plus=-0.1\n",
    "c_minus=-44.24\n",
    "c_plus=-20.4\n",
    "Vstar = -31"
   ]
  },
  {
   "cell_type": "code",
   "execution_count": null,
   "metadata": {
    "tags": []
   },
   "outputs": [],
   "source": [
    "THH = models.KIonEx(\n",
    "            E = np.r_[E],\n",
    "            K_bath = np.asarray([5.5,5.5,5.5,K_bath,5.5,5.5]),\n",
    "            J = np.r_[J],\n",
    "            eta = np.r_[eta],\n",
    "            Delta = np.r_[Delta],\n",
    "            c_minus = np.r_[c_minus],\n",
    "            R_minus = np.r_[R_minus],\n",
    "            c_plus = np.r_[c_plus],\n",
    "            R_plus = np.r_[R_plus],\n",
    "            Vstar = np.r_[Vstar])"
   ]
  },
  {
   "cell_type": "code",
   "execution_count": null,
   "metadata": {
    "tags": []
   },
   "outputs": [],
   "source": [
    "THH"
   ]
  },
  {
   "cell_type": "markdown",
   "metadata": {},
   "source": [
    "## CONFIGURE SIMULATION PARAMETERS"
   ]
  },
  {
   "cell_type": "code",
   "execution_count": null,
   "metadata": {
    "tags": []
   },
   "outputs": [],
   "source": [
    "# Simulation parameters\n",
    "dt = .1\n",
    "cut_in=0\n",
    "simlen=20e3+cut_in\n",
    "\n",
    "#Initial conditions\n",
    "x_0=np.random.uniform(low=0.1, high=0.1, size=((1,1,nregions,1)))\n",
    "V_0=np.random.uniform(low=-15., high=-15., size=((1,1,nregions,1)))\n",
    "n_0=np.random.uniform(low=0.45, high=0.45, size=((1,1,nregions,1)))\n",
    "DKi_0=np.random.uniform(low=-5, high=-5, size=((1,1,nregions,1)))\n",
    "Kg_0=np.random.uniform(low=-16., high=-16., size=((1,1,nregions,1)))\n",
    "init_cond=np.concatenate([x_0, V_0, n_0, DKi_0, Kg_0], axis=1)"
   ]
  },
  {
   "cell_type": "markdown",
   "metadata": {
    "tags": []
   },
   "source": [
    "# I) Decoupled neural masses"
   ]
  },
  {
   "cell_type": "code",
   "execution_count": null,
   "metadata": {
    "tags": []
   },
   "outputs": [],
   "source": [
    "G = 0.\n",
    "\n",
    "# Initialise Coupling\n",
    "con_coupling = coupling.Scaling(a=np.array([G]))\n",
    "\n",
    "## Initialise Integrator\n",
    "heunint = integrators.RungeKutta4thOrderDeterministic(dt=dt)\n",
    "\n",
    "# Initialise some Monitors with period in physical time.\n",
    "mon_raw = monitors.Raw()\n",
    "what_to_watch = (mon_raw, ) #(mon_tavg, mon_bold) \n",
    "\n",
    "# Initialise the Simulator.\n",
    "sim = simulator.Simulator(model=THH,\n",
    "                          connectivity=SC6_con,\n",
    "                          conduction_speed=condspeed,\n",
    "                          coupling=con_coupling,\n",
    "                          integrator=heunint,\n",
    "                          monitors= what_to_watch,\n",
    "                          simulation_length=simlen) \n",
    "sim.initial_conditions = init_cond    \n",
    "sim.configure()"
   ]
  },
  {
   "cell_type": "markdown",
   "metadata": {
    "tags": []
   },
   "source": [
    "## RUN the SIMULATION "
   ]
  },
  {
   "cell_type": "code",
   "execution_count": null,
   "metadata": {
    "tags": []
   },
   "outputs": [],
   "source": [
    "(raw_time, raw_data),  = sim.run()"
   ]
  },
  {
   "cell_type": "code",
   "execution_count": null,
   "metadata": {
    "tags": []
   },
   "outputs": [],
   "source": [
    "# Make the lists numpy.arrays for easier use.  \n",
    "RAW_variables_dec=np.squeeze(np.array(raw_data))   \n",
    "\n",
    "x=RAW_variables_dec[:,0,:]\n",
    "V=RAW_variables_dec[:,1,:]\n",
    "n=RAW_variables_dec[:,2,:]\n",
    "DKi=RAW_variables_dec[:,3,:]\n",
    "Kg=RAW_variables_dec[:,4,:]\n",
    "\n",
    "Vars=[x,V,n,DKi,Kg]\n",
    "Vars_lab=['x','V','n','DKi','Kg']"
   ]
  },
  {
   "cell_type": "markdown",
   "metadata": {},
   "source": [
    "### Node D shows pathological bursting due to excessive potassium concentration levels in the external bath. \n",
    "### This causes slow fluctuations of the intra- and extra-cellular potassium concentrations, \n",
    "### which trigger the fast membrane potential bursts."
   ]
  },
  {
   "cell_type": "code",
   "execution_count": null,
   "metadata": {
    "tags": []
   },
   "outputs": [],
   "source": [
    "fig, ax = plt.subplots(nrows=5,ncols=1,figsize=(3.3,2.))\n",
    "for i in range(5):\n",
    "    ax[i].plot(Vars[i][:,3],c=viridis(i+3),linewidth=1)\n",
    "    ax[i].spines[\"top\"].set_visible(False)\n",
    "    ax[i].spines[\"right\"].set_visible(False)\n",
    "    ax[i].spines[\"bottom\"].set_visible(False)\n",
    "    ax[i].set_xticks([])\n",
    "    ax[i].set_ylabel('$%s_{D}$'%Vars_lab[i])\n",
    "    ax[i].tick_params(labelsize=8)\n",
    "plt.tight_layout(pad=0)\n",
    "plt.show()"
   ]
  },
  {
   "cell_type": "markdown",
   "metadata": {
    "tags": []
   },
   "source": [
    "## Since the network is uncoupled ($G=0$), the pathological bursts do not propagate to other nodes"
   ]
  },
  {
   "cell_type": "code",
   "execution_count": null,
   "metadata": {
    "tags": []
   },
   "outputs": [],
   "source": [
    "# The firing rate is proportional to the first variable 'x' \n",
    "r=(1000*R_minus/np.pi)*x"
   ]
  },
  {
   "cell_type": "code",
   "execution_count": null,
   "metadata": {
    "tags": []
   },
   "outputs": [],
   "source": [
    "fig, ax = plt.subplots(nrows=6,ncols=1,figsize=(3.3,2.))\n",
    "for i in range(6):\n",
    "    ax[i].plot(r[:,i],c=cln[i],linewidth=1)\n",
    "    ax[i].spines[\"top\"].set_visible(False)\n",
    "    ax[i].spines[\"right\"].set_visible(False)\n",
    "    ax[i].spines[\"bottom\"].set_visible(False)\n",
    "    ax[i].set_xticks([])\n",
    "    ax[i].set_ylabel('$r_{%s}$'%SC6_con.region_labels[i])\n",
    "    ax[i].tick_params(labelsize=8)\n",
    "plt.tight_layout(pad=0)\n",
    "plt.show()"
   ]
  },
  {
   "cell_type": "markdown",
   "metadata": {
    "tags": []
   },
   "source": [
    "# II) Coupled network"
   ]
  },
  {
   "cell_type": "code",
   "execution_count": null,
   "metadata": {
    "tags": []
   },
   "outputs": [],
   "source": [
    "G = 100.\n",
    "\n",
    "# Initialise Coupling\n",
    "con_coupling = coupling.Scaling(a=np.array([G]))\n",
    "\n",
    "## Initialise Integrator\n",
    "heunint = integrators.RungeKutta4thOrderDeterministic(dt=dt)\n",
    "\n",
    "# Initialise some Monitors with period in physical time.\n",
    "mon_raw = monitors.Raw()\n",
    "what_to_watch = (mon_raw, ) #(mon_tavg, mon_bold) \n",
    "\n",
    "# Initialise the Simulator.\n",
    "sim = simulator.Simulator(model=THH,\n",
    "                          connectivity=SC6_con,\n",
    "                          conduction_speed=condspeed,\n",
    "                          coupling=con_coupling,\n",
    "                          integrator=heunint,\n",
    "                          monitors= what_to_watch,\n",
    "                          simulation_length=simlen) \n",
    "sim.initial_conditions = init_cond    \n",
    "sim.configure()"
   ]
  },
  {
   "cell_type": "markdown",
   "metadata": {
    "tags": []
   },
   "source": [
    "## RUN the SIMULATION again"
   ]
  },
  {
   "cell_type": "code",
   "execution_count": null,
   "metadata": {
    "tags": []
   },
   "outputs": [],
   "source": [
    "(raw_time, raw_data),  = sim.run()"
   ]
  },
  {
   "cell_type": "code",
   "execution_count": null,
   "metadata": {
    "tags": []
   },
   "outputs": [],
   "source": [
    "# Make the lists numpy.arrays for easier use.    \n",
    "RAW_variables=np.squeeze(np.array(raw_data))   \n",
    "\n",
    "# The firing rate is proportional to the first variable 'x' \n",
    "r=(1000*R_minus/np.pi)*RAW_variables[:,0,:]"
   ]
  },
  {
   "cell_type": "code",
   "execution_count": null,
   "metadata": {
    "tags": []
   },
   "outputs": [],
   "source": [
    "fig, ax = plt.subplots(nrows=6,ncols=1,figsize=(3.3,2.))\n",
    "for i in range(6):\n",
    "    ax[i].plot(r[:,i],c=cln[i],linewidth=1)\n",
    "    ax[i].spines[\"top\"].set_visible(False)\n",
    "    ax[i].spines[\"right\"].set_visible(False)\n",
    "    ax[i].spines[\"bottom\"].set_visible(False)\n",
    "    ax[i].set_xticks([])\n",
    "    ax[i].set_ylabel('$r_{%s}$'%SC6_con.region_labels[i])\n",
    "    ax[i].tick_params(labelsize=8)\n",
    "plt.tight_layout(pad=0)\n",
    "plt.show()"
   ]
  },
  {
   "cell_type": "markdown",
   "metadata": {
    "tags": []
   },
   "source": [
    "### When the neural masses are coupled through the structural connectivity ($G=100$), the pathological bursts originating from high potassium levelspropagate in seizure-like events through the connectome. "
   ]
  },
  {
   "cell_type": "code",
   "execution_count": null,
   "metadata": {},
   "outputs": [],
   "source": []
  },
  {
   "cell_type": "markdown",
   "metadata": {},
   "source": [
    "# CONCLUSION: \n",
    "## Local elevation of potassium bath concentration in a brain region can lead to the propagation of \n",
    "## pathological activities across the whole network. This model could serve as a computational baseline \n",
    "## to address core questions in epilepsy research. \n",
    "#\n",
    "### Tutorial by Giovanni Rabuffo <giovanni.rabuffo@univ-amu.fr>"
   ]
  },
  {
   "cell_type": "code",
   "execution_count": null,
   "metadata": {
    "tags": []
   },
   "outputs": [],
   "source": [
    "# Under the \"NextGen\" Research Infrastructure Voucher SC3 associated to the HBP Flagship as a Partnering Project (PP)\n",
    "# Project leader: Simona Olmi <simone.olmi@gmail.com>\n",
    "# EBRAINS Partner: Viktor Jirsa <viktor.jirsa@univ-amu.fr>\n",
    "# Project member: Giovanni Rabuffo <giovanni.rabuffo@univ-amu.fr>\n",
    "# Project member: Jan Fousek <jan.fousek@univ-amu.fr>"
   ]
  }
 ],
 "metadata": {
  "kernelspec": {
   "display_name": "Python 3 (ipykernel)",
   "language": "python",
   "name": "python3"
  },
  "language_info": {
   "codemirror_mode": {
    "name": "ipython",
    "version": 3
   },
   "file_extension": ".py",
   "mimetype": "text/x-python",
   "name": "python",
   "nbconvert_exporter": "python",
   "pygments_lexer": "ipython3",
   "version": "3.11.8"
  }
 },
 "nbformat": 4,
 "nbformat_minor": 4
}

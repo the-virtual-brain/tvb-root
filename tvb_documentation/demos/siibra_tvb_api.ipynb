{
 "cells": [
  {
   "cell_type": "markdown",
   "id": "78a5451a-4c93-4001-b6bd-72d82d7163e6",
   "metadata": {},
   "source": [
    "## API integrating the EBRAINS KG with TVB using `siibra-python`.\n",
    "### Focuses on retrieving and creating TVB Structural and Functional Connectivities"
   ]
  },
  {
   "cell_type": "code",
   "execution_count": null,
   "id": "de3c37d8-d69d-420d-a6a8-85f7e489e3ab",
   "metadata": {},
   "outputs": [],
   "source": [
    "import siibra"
   ]
  },
  {
   "cell_type": "markdown",
   "id": "b2b2411b-b994-4445-8971-21800add9374",
   "metadata": {
    "jp-MarkdownHeadingCollapsed": true,
    "tags": []
   },
   "source": [
    "## Prerequisites\n",
    "\n",
    "##### ***Note: You can skip this section if you are already familiar with the concepts of atlas, parcellation, cohort and how to retrieve them using siibra.***"
   ]
  },
  {
   "cell_type": "markdown",
   "id": "92099055-f47d-415a-9a90-f0477c4afb91",
   "metadata": {},
   "source": [
    "Siibra makes it possible to retrieve structural and functional connectivities from the EBRAINS Knowledge Graph. But first, we need to select an atlas, a parcellation, a cohort and a subject (or list of subjects) for which we want to obtain this data. For more information about these concepts you can take a look at [siibra's documentation page](https://siibra-python.readthedocs.io/en/latest/examples/01_atlases_and_parcellations/index.html). \n",
    "\n",
    "So, in this Prerequisites section, we will demonstrate how to obtain information about these concepts.\n"
   ]
  },
  {
   "cell_type": "markdown",
   "id": "b891e358-ed5a-44b7-80df-fbb771c6c452",
   "metadata": {},
   "source": [
    "### Atlases"
   ]
  },
  {
   "cell_type": "markdown",
   "id": "a7abe178-b238-4dba-b10d-493f71873079",
   "metadata": {},
   "source": [
    "The first concept that we need to look at is the atlas that we are going to use. Siibra makes it easy to retrieve all the atlases present in the KG:\n"
   ]
  },
  {
   "cell_type": "code",
   "execution_count": null,
   "id": "f8a0a95f-47e2-4256-a35b-e4b1c4d3ef6a",
   "metadata": {},
   "outputs": [],
   "source": [
    "list(siibra.atlases) # make it a list to see their details"
   ]
  },
  {
   "cell_type": "markdown",
   "id": "c5b67614-bbeb-4c49-abb8-e0486a2b5500",
   "metadata": {},
   "source": [
    "As we can see, there are currently 4 atlases in the KG, each for a different species. In this notebook, because we want to use the data from the KG with TVB, we will focus on the human data, so we will choose the first atlas.\n",
    "    \n",
    "Choosing an atlas can be done in a few different ways. Of course, we could access it using its index in the atlases list:"
   ]
  },
  {
   "cell_type": "code",
   "execution_count": null,
   "id": "8f602cd3-ce33-426f-8cf6-e301a210521a",
   "metadata": {},
   "outputs": [],
   "source": [
    "atlas = siibra.atlases[0]\n",
    "atlas"
   ]
  },
  {
   "cell_type": "markdown",
   "id": "8aec1c08-8a21-4a3e-a702-1cb01869ef3a",
   "metadata": {},
   "source": [
    "But if we don't know the order of the atlases inside siibra, we can specify its name, which is easier to remember"
   ]
  },
  {
   "cell_type": "code",
   "execution_count": null,
   "id": "1f9a89de-231a-47cd-b8f8-b27f1a5ef7cc",
   "metadata": {},
   "outputs": [],
   "source": [
    "atlas = siibra.atlases['Multilevel Human Atlas']\n",
    "atlas"
   ]
  },
  {
   "cell_type": "markdown",
   "id": "78a675e0-2a0e-4368-be97-763404a6a73e",
   "metadata": {},
   "source": [
    "But what if we can't remember the *exact* name of the atlas? There is no problem, as siibra, very conveniently, knows how to match the desired atlas even with a partial description. Meaning, we can specify that we want the *human* atlas, and siibra will retrieve the correct one:"
   ]
  },
  {
   "cell_type": "code",
   "execution_count": null,
   "id": "4e508eb1-cbfe-468d-989a-ab80dc379a28",
   "metadata": {},
   "outputs": [],
   "source": [
    "atlas = siibra.atlases['human']\n",
    "atlas"
   ]
  },
  {
   "cell_type": "markdown",
   "id": "6528c8c3-ee9f-4df3-b071-65c23b6c4fa4",
   "metadata": {
    "tags": []
   },
   "source": [
    "### Parcellations"
   ]
  },
  {
   "cell_type": "markdown",
   "id": "4a4b6147-458e-4c2d-9a4a-bda96737bacb",
   "metadata": {},
   "source": [
    "Next, we need to look at parcellations. Each atlas has its own list of parcellations and different parcellations of the same atlas will have different data available (connectivities, gene expressions, etc.).\n",
    "\n",
    "Once again, siibra makes it easy to get a list of all the parcellations available in the KG (pertaining to all atlases):"
   ]
  },
  {
   "cell_type": "code",
   "execution_count": null,
   "id": "983ad08e-dde5-4d6f-a192-199de434a6ca",
   "metadata": {},
   "outputs": [],
   "source": [
    "list(siibra.parcellations)"
   ]
  },
  {
   "cell_type": "markdown",
   "id": "074b9546-1fb7-4d40-a4d1-47b493883e8a",
   "metadata": {},
   "source": [
    "Just like for the atlases, the parcellations are tied to a specific species. So, we can infer which atlas each parcellation belongs to. However, it is not necessary to infer this information, as siibra gives us a little help in this regard, making it possible to list all the parcellation pertaining to an atlas:"
   ]
  },
  {
   "cell_type": "code",
   "execution_count": null,
   "id": "297ee2ee-d3f4-4ee4-9e6c-a11755ceda6d",
   "metadata": {},
   "outputs": [],
   "source": [
    "list(atlas.parcellations) # remember that we already set the atlas to be the Multilevel Human Atlas"
   ]
  },
  {
   "cell_type": "markdown",
   "id": "ba3629ee-9c19-470a-815f-6b08da08052c",
   "metadata": {},
   "source": [
    "Selecting a parcellation can be done, as for the atlases, in several different ways:\n",
    "* By index\n",
    "* By full name\n",
    "* By partial name\n"
   ]
  },
  {
   "cell_type": "markdown",
   "id": "b8845415-ddc3-47db-8984-a158dc17cf18",
   "metadata": {},
   "source": [
    "As we can see, there are many parcellations related to the Human Atlas. Some of them are variations of the same parcellation (DiFuMo) and some are different versions of the same parcellartion (Julich-Brain). In this notebook we will look at the Julich parcellation, as that is the one containing connectivity data."
   ]
  },
  {
   "cell_type": "markdown",
   "id": "b8f9e74f-a640-42be-b689-d1d1ad1d37b6",
   "metadata": {},
   "source": [
    "There are multiple Julich parcellations, corresponding to different versions of it. So a question arises, when we want to select a parcellation using only its partial name, how can we do that? Well, one idea would be to include the version number in the partial name:"
   ]
  },
  {
   "cell_type": "code",
   "execution_count": null,
   "id": "2039b5e5-f7e0-4c61-b508-a8302c044849",
   "metadata": {},
   "outputs": [],
   "source": [
    "parcellation = atlas.parcellations['julich 2.9']\n",
    "parcellation"
   ]
  },
  {
   "cell_type": "markdown",
   "id": "59ec2233-96b8-4a94-b0e3-9a9843ac59aa",
   "metadata": {},
   "source": [
    "We could also use just the version number, like:\n",
    "\n",
    "```\n",
    "parcellation = atlas.parcellations['2.9']\n",
    "```\n",
    "\n",
    "But it is better to specify at least part of the name as well."
   ]
  },
  {
   "cell_type": "markdown",
   "id": "c874e4b8-e477-4551-96f4-b0100f2829f4",
   "metadata": {},
   "source": [
    "But what happens if we specify just the name, without any version identifier? In this case, siibra chooses one for us, usually the most recent version:"
   ]
  },
  {
   "cell_type": "code",
   "execution_count": null,
   "id": "26d5cbff-d2c4-4966-8b5a-9048593dacd5",
   "metadata": {},
   "outputs": [],
   "source": [
    "parcellation = atlas.parcellations['julich']\n",
    "parcellation"
   ]
  },
  {
   "cell_type": "markdown",
   "id": "72a8e103-0085-4095-be12-563482f766b2",
   "metadata": {
    "tags": []
   },
   "source": [
    "### Cohorts and features"
   ]
  },
  {
   "cell_type": "markdown",
   "id": "54d26175-b3e7-45dd-bb0c-533e1bf1e0ff",
   "metadata": {},
   "source": [
    "Each parcellation can have multiple cohorts. Unfortunately, there is no direct way to see all the cohorts related to this parcellation, as this is highly dependent on the *kind* of data we want to extract from this parcellation.\n",
    "\n",
    "We want to extract connectivity data (Weights, Tract Lengths and Functional connectivities) from the KG using siibra, so we need to list the connectivity related features in order to see all the cohorts that used our parcellation.\n",
    "\n",
    "*(For the sake of demonstration, we will use v2.9 of the Julich parcellation, as it is the only one containing 2 cohorts.)*"
   ]
  },
  {
   "cell_type": "code",
   "execution_count": null,
   "id": "f229081c-3ac2-4284-a18d-724c6894c9ca",
   "metadata": {},
   "outputs": [],
   "source": [
    "parcellation = atlas.parcellations['julich 2.9']\n",
    "parcellation"
   ]
  },
  {
   "cell_type": "markdown",
   "id": "d0ca4106-9eb6-426a-aaf1-d44a1e2b3cdf",
   "metadata": {},
   "source": [
    "Getting the features (e.g. connectivity weights) is pretty easy with siibra. We just need to specify the parcellation and the kind of feature we wish to retrieve:"
   ]
  },
  {
   "cell_type": "code",
   "execution_count": null,
   "id": "370689a8-e9e4-404e-84b8-083b11b326b9",
   "metadata": {},
   "outputs": [],
   "source": [
    "features = siibra.features.get(parcellation, siibra.features.connectivity.StreamlineCounts) # use StreamlineLengths for Tract lengths and FunctionalConnectivity for Functional connectivities\n",
    "features"
   ]
  },
  {
   "cell_type": "markdown",
   "id": "48c88738-1428-4e76-a735-721a6b1e2383",
   "metadata": {},
   "source": [
    "We can see that there are 2 groups of features (of Connectivity weights) related to this parcellation. Each group, represented as a `CompoundFeature` object, corresponds to a different cohort. This information is stored as an attribute of the CompoundFeature object: "
   ]
  },
  {
   "cell_type": "code",
   "execution_count": null,
   "id": "9301182a-d8a5-4ce5-8b04-e4d9b4caa809",
   "metadata": {},
   "outputs": [],
   "source": [
    "for group in features:\n",
    "    print(f'{group.name} - Cohort: {group.cohort}')"
   ]
  },
  {
   "cell_type": "markdown",
   "id": "fba8c74f-93e2-4e8a-bf08-1fb7b692b6de",
   "metadata": {},
   "source": [
    "Note: If we try to extract the Functional Connectivities and expect 2 groups in return, we will actually get 6:"
   ]
  },
  {
   "cell_type": "code",
   "execution_count": null,
   "id": "137802f4-b05f-44f0-bf88-bf55e9072a53",
   "metadata": {},
   "outputs": [],
   "source": [
    "f_conn_features = siibra.features.get(parcellation, siibra.features.connectivity.FunctionalConnectivity)\n",
    "f_conn_features"
   ]
  },
  {
   "cell_type": "markdown",
   "id": "24107b2c-bb1b-4e8a-ba21-00d1c0212fda",
   "metadata": {},
   "source": [
    "So, why is that? The reason comes from how the HCP cohort experiments were conducted. They had separate scannings noted as REST1-LR, REST1-RL, REST2-LR or REST2-RL."
   ]
  },
  {
   "cell_type": "code",
   "execution_count": null,
   "id": "7f198ef4-80ba-4307-998e-547cde824bdd",
   "metadata": {},
   "outputs": [],
   "source": [
    "for group in f_conn_features:\n",
    "    print(f'{group.name} - Cohort: {group.cohort}')"
   ]
  },
  {
   "cell_type": "markdown",
   "id": "9afdb480-fb08-4207-9c0f-bda3c0ed31d6",
   "metadata": {},
   "source": [
    "One last thing, if you want to read even more about these connectivities and how they were acquired, you can access the dataset description link just as easily:"
   ]
  },
  {
   "cell_type": "code",
   "execution_count": null,
   "id": "ded125f1-a59d-412d-b9b3-5ca3bf852674",
   "metadata": {},
   "outputs": [],
   "source": [
    "for group in f_conn_features:\n",
    "    print(f'{group.name}: {group.urls}')"
   ]
  },
  {
   "cell_type": "markdown",
   "id": "b331f13b-6991-491c-9600-07001208dba4",
   "metadata": {
    "tags": []
   },
   "source": [
    "### Subjects"
   ]
  },
  {
   "cell_type": "markdown",
   "id": "a25c1549-79f9-4816-97bf-f70afe06209b",
   "metadata": {},
   "source": [
    "If we take a look at the name of the group features above, we will see `200 StreamlineCounts features` or `349 FunctionalConnectivity features`. This means that there are 200 Structural Connectivities (HCP cohort) and 349 Functional Connectivities (1000BRAINS cohort) respectively. Each connectivity corresponts to a specific subject (*although for the 1000BRAINS cohort there are multiple connectivities for the same individual, but this will be explained later*)."
   ]
  },
  {
   "cell_type": "markdown",
   "id": "ebb041d1-a402-46af-9e6d-8757efe1614b",
   "metadata": {},
   "source": [
    "To see the list of subjects, first we need to take a look at one of the feature groups. The subject ID will be displayed at the end of connectivity's name, but we can also access it separately."
   ]
  },
  {
   "cell_type": "code",
   "execution_count": null,
   "id": "6710a4c2-da13-4bbb-83f0-7a986635c7f6",
   "metadata": {
    "scrolled": true,
    "tags": []
   },
   "outputs": [],
   "source": [
    "feature_group = features[0] # select one of the groups\n",
    "for f in feature_group:\n",
    "    print(f'Subject ID {f.subject}: {f.name}')"
   ]
  },
  {
   "cell_type": "markdown",
   "id": "a410cff4-869d-43d7-b475-a87ae0f2c0dc",
   "metadata": {},
   "source": [
    "For the `1000BRAINS` cohort we will see the subject ID, usually followed by `_1` or `_2`, representing the scanning session. So, the same subject can have 1 or 2 scanning sessions."
   ]
  },
  {
   "cell_type": "code",
   "execution_count": null,
   "id": "39adc194-1aa9-4897-9ef4-0804f117e1ef",
   "metadata": {
    "scrolled": true,
    "tags": []
   },
   "outputs": [],
   "source": [
    "feature_group = features[1] # select second group, corresponding to 1000BRAINS cohort\n",
    "for f in feature_group:\n",
    "    print(f'Subject ID {f.subject}: {f.name}')"
   ]
  },
  {
   "cell_type": "markdown",
   "id": "dd43ee2e-8bc9-4e19-bf7f-a8a09bcd3762",
   "metadata": {},
   "source": [
    "### Connectivity data"
   ]
  },
  {
   "cell_type": "markdown",
   "id": "fe48eaa5-0244-4bcb-a4b9-319377d5fc52",
   "metadata": {},
   "source": [
    "Now that we know everything that we need about the information required to access connectivity data (i.e. the Connectivity matrix), we can go ahead and do that. \n",
    "\n",
    "Selecting the connectivity for just one subject is not a straightforward task and, instead, we need to search through the entire list of connectivities from our feature group to get the desired connectivity."
   ]
  },
  {
   "cell_type": "code",
   "execution_count": null,
   "id": "81bfdf86-734f-43bd-91ea-8637aa9865c7",
   "metadata": {},
   "outputs": [],
   "source": [
    "# select atlas\n",
    "atlas = siibra.atlases['human']\n",
    "\n",
    "# select parcellation\n",
    "parcellation = siibra.parcellations['julich 3.0']\n",
    "\n",
    "# get feature group\n",
    "features = siibra.features.get(parcellation, siibra.features.connectivity.StreamlineCounts)\n",
    "feature_group = features[0]\n",
    "\n",
    "# get connectivity for a specific subject\n",
    "subject_id = '000'\n",
    "connectivity = [c for c in feature_group if c.subject == subject_id][0]\n",
    "\n",
    "print(connectivity.name)"
   ]
  },
  {
   "cell_type": "markdown",
   "id": "b1720759-8a00-4bbc-9903-df63f038e091",
   "metadata": {},
   "source": [
    "Finally, we can access the connectivity matrix, which can later be used for different tasks. The matrix is represented as a `pandas.DataFrame` object, where the columns and index names are the regions of the connectivity."
   ]
  },
  {
   "cell_type": "code",
   "execution_count": null,
   "id": "7ab80da4-7d2a-405d-97ad-e77ab620cc5d",
   "metadata": {},
   "outputs": [],
   "source": [
    "connectivity.data"
   ]
  },
  {
   "cell_type": "markdown",
   "id": "00e60a75-294d-4cf4-9c6a-37796c501696",
   "metadata": {},
   "source": [
    "---"
   ]
  },
  {
   "cell_type": "markdown",
   "id": "0abbc195-49e5-4bbb-af61-24618741e96d",
   "metadata": {
    "tags": []
   },
   "source": [
    "## Using the API"
   ]
  },
  {
   "cell_type": "markdown",
   "id": "50ad2185-c89e-4c43-8181-db9ed648c3a4",
   "metadata": {},
   "source": [
    "If you went through the prerequisites part, you saw that getting the connectivity data is not that straightforward. Plus, the result is a `pandas.DataFrame`, which, in order to be used in TVB, needs to be converted to a `tvb.datatypes.connectivity.Connectivity` object. This is what the API is intended for: to make it easier for users to specify what they want and assure them that they will get as result a connectivity which can be used for plotting, simulations, etc.\n",
    "\n",
    "With this API, you just need to specify the data you want (from which atlas, parcellation, cohort and for which subjects) and you will get it. And don't worry, default values are also set, in case you don't know where to start."
   ]
  },
  {
   "cell_type": "markdown",
   "id": "e8d0eb96-fcb5-430d-9313-0d3cfc1c7ac6",
   "metadata": {},
   "source": [
    "## 1. Retrieving *both* Structural and Functional Connectivities"
   ]
  },
  {
   "cell_type": "markdown",
   "id": "523bcf72-6f28-44bc-a50b-b17c08d92ac3",
   "metadata": {},
   "source": [
    "#### *If you want to know more about the implementation details of this API, you can take a look at our main methods for extracting [Structural](https://github.com/the-virtual-brain/tvb-root/blob/28652996b2888c232aed586885b241e41ee7d787/tvb_framework/tvb/adapters/creators/siibra_base.py#L285) and [Functional](https://github.com/the-virtual-brain/tvb-root/blob/28652996b2888c232aed586885b241e41ee7d787/tvb_framework/tvb/adapters/creators/siibra_base.py#L362) connectivities. However, the most important aspects were covered in the Prerequisites part of this notebook.*\n",
    "#### The results of this method are 2 **dictionaries**, containing structural and functional connectivities respectively. Each dictionary has as:\n",
    "#### **- key**: the subject id\n",
    "#### **- value**: the Structural/Functional TVB Connectivity for the corresponding subject"
   ]
  },
  {
   "cell_type": "code",
   "execution_count": null,
   "id": "8b3ae241-a627-4f1e-9d41-df13ef5ac2cf",
   "metadata": {
    "scrolled": true,
    "tags": []
   },
   "outputs": [],
   "source": [
    "from tvb.adapters.creators.siibra_base import get_connectivities_from_kg\n",
    "struct_conn_dict, func_conn_dict = get_connectivities_from_kg('human', 'julich 3.0', 'HCP', '000-001', True)"
   ]
  },
  {
   "cell_type": "markdown",
   "id": "d279685c-8e24-42b4-875c-2de764db9d17",
   "metadata": {},
   "source": [
    "##### There is **1** Structural connectivity for each subject:"
   ]
  },
  {
   "cell_type": "code",
   "execution_count": null,
   "id": "f9b271f8-e6da-4564-a54b-ae8c418b0b59",
   "metadata": {},
   "outputs": [],
   "source": [
    "print(f'Structural connectivities:')\n",
    "for sc in struct_conn_dict.items():\n",
    "    print(sc)"
   ]
  },
  {
   "cell_type": "markdown",
   "id": "a5a4c6e7-08eb-4d0e-8f20-c70c5b7dcb3c",
   "metadata": {},
   "source": [
    "##### And **5** Functional connectivities for each subject:"
   ]
  },
  {
   "cell_type": "code",
   "execution_count": null,
   "id": "cc9bb7d4-3e66-46f7-bf6e-622cb5bb5fe6",
   "metadata": {},
   "outputs": [],
   "source": [
    "print(f'Functional connectivities:')\n",
    "for fc in func_conn_dict.items():\n",
    "    print(fc)"
   ]
  },
  {
   "cell_type": "markdown",
   "id": "28fb717c-ec68-416f-84cf-80d3a0a95c16",
   "metadata": {},
   "source": [
    "#### After retrieving the connectivities, we can access and use them as any other connectivity from TVB:"
   ]
  },
  {
   "cell_type": "code",
   "execution_count": null,
   "id": "b93dfd07-f7cd-41db-bab7-5164eca72ccc",
   "metadata": {},
   "outputs": [],
   "source": [
    "sc_conn = struct_conn_dict['000']\n",
    "sc_conn"
   ]
  },
  {
   "cell_type": "code",
   "execution_count": null,
   "id": "862270ab-83f8-47f4-8e91-eb0ae9ba1bf5",
   "metadata": {},
   "outputs": [],
   "source": [
    "from tvb.simulator.plot.tools import plot_connectivity\n",
    "plot_connectivity(sc_conn)"
   ]
  },
  {
   "cell_type": "markdown",
   "id": "ea3a0759-554d-4080-9b8a-d393c517316f",
   "metadata": {},
   "source": [
    "## 2. Retrieving *just* Structural Connectivities"
   ]
  },
  {
   "cell_type": "markdown",
   "id": "c4937f9d-a93e-4dff-a7cd-a39e80eb0c5b",
   "metadata": {
    "tags": []
   },
   "source": [
    "#### 2.1 Using the common API for Structural and Functional Connectivities:\n",
    "####     The API from 1. can be used to extract just Structural connectivities, by setting the **last flag** (mentioning the option to also compute Functional connectivities) to **False**"
   ]
  },
  {
   "cell_type": "code",
   "execution_count": null,
   "id": "131ea1af-5adb-4ec5-a12c-95332b9f1c39",
   "metadata": {
    "scrolled": true,
    "tags": []
   },
   "outputs": [],
   "source": [
    "struct_conn_dict, func_conn_dict = get_connectivities_from_kg('human', 'julich 2.9', '1000BRAINS', '0002', False)"
   ]
  },
  {
   "cell_type": "markdown",
   "id": "13b5eb7a-a678-4555-9cb1-bdce1eb2faec",
   "metadata": {},
   "source": [
    "##### Now there are 2<sup>(</sup>*<sup>)</sup> Structural connectivities for our subject:\n",
    "##### **in this cohort, some subjects had 2 scanning sessions, resulting in 2 Structural connectivities*"
   ]
  },
  {
   "cell_type": "code",
   "execution_count": null,
   "id": "812dc1b6-88b6-499b-9e16-938b8c839f7a",
   "metadata": {},
   "outputs": [],
   "source": [
    "print(f'Structural connectivities:')\n",
    "for sc in struct_conn_dict.items():\n",
    "    print(sc)"
   ]
  },
  {
   "cell_type": "markdown",
   "id": "b978bf2b-4de4-4865-bfb4-9a6592b6369a",
   "metadata": {},
   "source": [
    "##### And no Functional connectivities:"
   ]
  },
  {
   "cell_type": "code",
   "execution_count": null,
   "id": "a702bf5b-6840-4608-9543-7613a787aeb4",
   "metadata": {},
   "outputs": [],
   "source": [
    "print(f'Functional connectivities: \\n {func_conn_dict}')"
   ]
  },
  {
   "cell_type": "markdown",
   "id": "0fc08ae6-61ac-46d7-bc1c-ee686cfbf7d2",
   "metadata": {},
   "source": [
    "#### 2.2 Using the API for Structural connectivities:"
   ]
  },
  {
   "cell_type": "code",
   "execution_count": null,
   "id": "2aee3cd5-e6b2-41df-b8b7-b99dc7b472fd",
   "metadata": {},
   "outputs": [],
   "source": [
    "from tvb.adapters.creators.siibra_base import get_structural_connectivities_from_kg\n",
    "struct_conn_dict = get_structural_connectivities_from_kg('human', 'julich 2.9', '1000BRAINS', '0002')"
   ]
  },
  {
   "cell_type": "code",
   "execution_count": null,
   "id": "c63d23fc-2807-41c1-9750-3116f47790d3",
   "metadata": {},
   "outputs": [],
   "source": [
    "print(f'Structural connectivities:')\n",
    "for sc in struct_conn_dict.items():\n",
    "    print(sc)"
   ]
  },
  {
   "cell_type": "markdown",
   "id": "4e01c466-2174-44d0-ac66-413790560395",
   "metadata": {},
   "source": [
    "#### Again, the resulted connectivity could be used like any other TVB Connectivity, so let's use it in a simulation this time:"
   ]
  },
  {
   "cell_type": "code",
   "execution_count": null,
   "id": "a7cb3ca5-d39f-4cbc-95e4-4a0eee05e501",
   "metadata": {},
   "outputs": [],
   "source": [
    "import matplotlib.pyplot as plt\n",
    "import numpy\n",
    "from tvb.simulator.lab import *\n",
    "\n",
    "connectivity=struct_conn_dict['0002_1']\n",
    "connectivity.speed=numpy.array([1.0])\n",
    "\n",
    "sim = simulator.Simulator(\n",
    "    connectivity=connectivity,\n",
    "    coupling=coupling.Linear(a=numpy.array([2e-4])),\n",
    "    integrator=integrators.EulerStochastic(dt=10.0),\n",
    "    model=models.Linear(gamma=numpy.array([-1e-2])),\n",
    "    monitors=(monitors.Raw(),),\n",
    "    simulation_length=1e4\n",
    ").configure()\n",
    "\n",
    "(time, data), = sim.run()\n",
    "\n",
    "print(time.shape)\n",
    "print(data.shape)"
   ]
  },
  {
   "cell_type": "markdown",
   "id": "e2b34b0f-c155-4605-91fe-bc4cd1a55199",
   "metadata": {},
   "source": [
    "## 3. Retrieving *just* Functional Connectivities\n",
    "##### *Note: Functional Connectivities are represented as ConnectivityMeasures in TVB. This means that each FC will have an associated Structural Connectivity to it. For this reason, to extract any FC from siibra, we must also provide a dictionary of corresponding Structural Connectivities.*"
   ]
  },
  {
   "cell_type": "code",
   "execution_count": null,
   "id": "fe0f4929-e878-4def-ae03-3fd099eb4580",
   "metadata": {},
   "outputs": [],
   "source": [
    "# you can get this dictionary any way you want, but, in the context of this demo, this is the easiest way to do it\n",
    "struct_conn_dict = get_structural_connectivities_from_kg('human', 'julich 3.0', 'HCP', '002')"
   ]
  },
  {
   "cell_type": "code",
   "execution_count": null,
   "id": "0fe33fc0-b6d5-45e9-8ee3-3f1b3e26ab8e",
   "metadata": {},
   "outputs": [],
   "source": [
    "from tvb.adapters.creators.siibra_base import get_connectivity_measures_from_kg\n",
    "func_conn_dict = get_connectivity_measures_from_kg('human', 'julich 3.0', 'HCP', '002', struct_conn_dict)"
   ]
  },
  {
   "cell_type": "code",
   "execution_count": null,
   "id": "8fa72c6a-1d56-40ba-9f41-1259cbfa8d21",
   "metadata": {},
   "outputs": [],
   "source": [
    "print(f'Functional connectivities:')\n",
    "for fc in func_conn_dict.items():\n",
    "    print(fc)"
   ]
  },
  {
   "cell_type": "code",
   "execution_count": null,
   "id": "12a4f799-4151-4fa0-9804-913a6287c7a2",
   "metadata": {},
   "outputs": [],
   "source": [
    "# inspecting a Functional Connectivity\n",
    "func_conn_dict['002'][0]"
   ]
  },
  {
   "cell_type": "code",
   "execution_count": null,
   "id": "c1ea73b5-93ce-47ff-97ee-eb7179bb8575",
   "metadata": {},
   "outputs": [],
   "source": []
  }
 ],
 "metadata": {
  "kernelspec": {
   "display_name": "Python 3 (ipykernel)",
   "language": "python",
   "name": "python3"
  },
  "language_info": {
   "codemirror_mode": {
    "name": "ipython",
    "version": 3
   },
   "file_extension": ".py",
   "mimetype": "text/x-python",
   "name": "python",
   "nbconvert_exporter": "python",
   "pygments_lexer": "ipython3",
   "version": "3.10.4"
  }
 },
 "nbformat": 4,
 "nbformat_minor": 5
}

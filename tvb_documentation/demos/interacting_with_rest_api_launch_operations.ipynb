{
 "cells": [
  {
   "cell_type": "markdown",
   "metadata": {},
   "source": [
    "# Example of using TVB importers from within the REST client API.\n",
    "## TVB REST server is part of tvb-framework release. If you want to run this example you will have to start a REST server or you should have access to a public TVB REST server.\n",
    "\n",
    "Here, we upload two independent datatypes: a connectivity and a surface from ZIP formats.\n",
    "\n",
    "Then, we upload a region mapping that depends on both connectivity and surface to exist in TVB storage."
   ]
  },
  {
   "cell_type": "code",
   "execution_count": 1,
   "metadata": {},
   "outputs": [],
   "source": [
    "import os\n",
    "import time\n",
    "\n",
    "import tvb_data\n",
    "from keycloak import KeycloakOpenID\n",
    "from tvb.core.entities.model.model_operation import STATUS_ERROR, STATUS_CANCELED, STATUS_FINISHED\n",
    "from tvb.interfaces.rest.client.tvb_client import TVBClient"
   ]
  },
  {
   "cell_type": "code",
   "execution_count": 2,
   "metadata": {},
   "outputs": [],
   "source": [
    "def compute_tvb_data_path(folder, filename):\n",
    "    return os.path.join(os.path.dirname(tvb_data.__file__), folder, filename)\n",
    "\n",
    "def monitor_operation(tvb_client, operation_gid):\n",
    "    while True:\n",
    "        status = tvb_client.get_operation_status(operation_gid)\n",
    "        if status in [STATUS_FINISHED, STATUS_CANCELED, STATUS_ERROR]:\n",
    "            break\n",
    "        print(\"Current operation GID {} => STATUS {}\".format(operation_gid, status))\n",
    "        time.sleep(5)\n",
    "    print(\"Operation {} has finished with status: {}\".format(operation_gid, status))"
   ]
  },
  {
   "cell_type": "code",
   "execution_count": 3,
   "metadata": {},
   "outputs": [],
   "source": [
    "tvb_client = TVBClient(\"http://192.168.123.93:9090\")\n",
    "\n",
    "keycloak_instance = KeycloakOpenID(\"https://keycloak.codemart.ro/auth/\", \"TVB\", \"tvb-tests\")\n",
    "\n",
    "tvb_client._update_token(keycloak_instance.token(\"tvb_user\", \"pass\"))"
   ]
  },
  {
   "cell_type": "code",
   "execution_count": 4,
   "metadata": {},
   "outputs": [
    {
     "data": {
      "text/plain": [
       "'Default_Project'"
      ]
     },
     "execution_count": 4,
     "metadata": {},
     "output_type": "execute_result"
    }
   ],
   "source": [
    "# Requesting projects for the logged user\n",
    "projects_of_user = tvb_client.get_project_list()\n",
    "default_project = projects_of_user[0]\n",
    "default_project_gid = default_project.gid\n",
    "default_project.name"
   ]
  },
  {
   "cell_type": "markdown",
   "metadata": {},
   "source": [
    "## Launch operations to import a Connectivity, a Surface and a RegionMapping"
   ]
  },
  {
   "cell_type": "code",
   "execution_count": 5,
   "metadata": {},
   "outputs": [
    {
     "name": "stdout",
     "output_type": "stream",
     "text": [
      "Current operation GID a7899256-7b33-11ea-b3cb-eb2a08972b7e => STATUS 4-PENDING\n",
      "Operation a7899256-7b33-11ea-b3cb-eb2a08972b7e has finished with status: 5-FINISHED\n"
     ]
    },
    {
     "data": {
      "text/plain": [
       "'f247b79e6b1d449da6599e235494c32e'"
      ]
     },
     "execution_count": 5,
     "metadata": {},
     "output_type": "execute_result"
    }
   ],
   "source": [
    "from tvb.adapters.uploaders.zip_connectivity_importer import ZIPConnectivityImporterModel, ZIPConnectivityImporter\n",
    "\n",
    "# Importing a connectivity from ZIP\n",
    "zip_connectivity_importer_model = ZIPConnectivityImporterModel()\n",
    "zip_connectivity_importer_model.uploaded = compute_tvb_data_path('connectivity', 'connectivity_96.zip')\n",
    "zip_connectivity_importer_model.normalization = 'region'\n",
    "operation_gid = tvb_client.launch_operation(default_project_gid, ZIPConnectivityImporter,\n",
    "                                                         zip_connectivity_importer_model)\n",
    "\n",
    "monitor_operation(tvb_client, operation_gid)\n",
    "\n",
    "# Get the result of connectivity import\n",
    "connectivity_dto = tvb_client.get_operation_results(operation_gid)[0]\n",
    "connectivity_gid = connectivity_dto.gid\n",
    "\n",
    "connectivity_gid"
   ]
  },
  {
   "cell_type": "code",
   "execution_count": 6,
   "metadata": {},
   "outputs": [
    {
     "name": "stdout",
     "output_type": "stream",
     "text": [
      "Current operation GID aab05f00-7b33-11ea-b3cb-eb2a08972b7e => STATUS 4-PENDING\n",
      "Operation aab05f00-7b33-11ea-b3cb-eb2a08972b7e has finished with status: 5-FINISHED\n"
     ]
    },
    {
     "data": {
      "text/plain": [
       "'a24bcd2160254d2797201b285e100ba4'"
      ]
     },
     "execution_count": 6,
     "metadata": {},
     "output_type": "execute_result"
    }
   ],
   "source": [
    "from tvb.adapters.uploaders.zip_surface_importer import ZIPSurfaceImporterModel, ZIPSurfaceImporter\n",
    "from tvb.datatypes.surfaces import CORTICAL\n",
    "\n",
    "# Importing a surface from ZIP\n",
    "zip_surface_importer_model = ZIPSurfaceImporterModel()\n",
    "zip_surface_importer_model.uploaded = compute_tvb_data_path('surfaceData', 'cortex_16384.zip')\n",
    "zip_surface_importer_model.surface_type = CORTICAL\n",
    "zip_surface_importer_model.should_center = False\n",
    "\n",
    "operation_gid = tvb_client.launch_operation(default_project_gid, ZIPSurfaceImporter, zip_surface_importer_model)\n",
    "monitor_operation(tvb_client, operation_gid)\n",
    "\n",
    "# Get the result of surface import\n",
    "surface_dto = tvb_client.get_operation_results(operation_gid)[0]\n",
    "surface_gid = surface_dto.gid\n",
    "\n",
    "surface_gid"
   ]
  },
  {
   "cell_type": "code",
   "execution_count": 7,
   "metadata": {},
   "outputs": [
    {
     "name": "stdout",
     "output_type": "stream",
     "text": [
      "Current operation GID adcffc5e-7b33-11ea-b3cb-eb2a08972b7e => STATUS 4-PENDING\n",
      "Operation adcffc5e-7b33-11ea-b3cb-eb2a08972b7e has finished with status: 5-FINISHED\n"
     ]
    },
    {
     "data": {
      "text/plain": [
       "'6049015a0f1742c48f4b648df354de6f'"
      ]
     },
     "execution_count": 7,
     "metadata": {},
     "output_type": "execute_result"
    }
   ],
   "source": [
    "from tvb.adapters.uploaders.region_mapping_importer import RegionMappingImporterModel, RegionMappingImporter\n",
    "\n",
    "# Importing a region mapping\n",
    "rm_importer_model = RegionMappingImporterModel()\n",
    "rm_importer_model.mapping_file = compute_tvb_data_path('regionMapping', 'regionMapping_16k_76.txt')\n",
    "rm_importer_model.connectivity = connectivity_dto.gid\n",
    "rm_importer_model.surface = surface_gid\n",
    "\n",
    "operation_gid = tvb_client.launch_operation(default_project_gid, RegionMappingImporter, rm_importer_model)\n",
    "monitor_operation(tvb_client, operation_gid)\n",
    "\n",
    "# Get the result of region mapping import\n",
    "region_mapping_dto = tvb_client.get_operation_results(operation_gid)[0]\n",
    "region_mapping_gid = region_mapping_dto.gid\n",
    "\n",
    "region_mapping_gid"
   ]
  },
  {
   "cell_type": "markdown",
   "metadata": {},
   "source": [
    "## Load the region mapping together with references information in 3 different ways\n"
   ]
  },
  {
   "cell_type": "code",
   "execution_count": 8,
   "metadata": {},
   "outputs": [
    {
     "data": {
      "text/plain": [
       "'This region mapping is linked to a connectivity with GID=f247b79e-6b1d-449d-a659-9e235494c32e and number_of_regions=96'"
      ]
     },
     "execution_count": 8,
     "metadata": {},
     "output_type": "execute_result"
    }
   ],
   "source": [
    "# 1.Download and load the region mapping with all its references\n",
    "region_mapping_complete = tvb_client.load_datatype_with_full_references(region_mapping_gid, os.getcwd())\n",
    "\n",
    "\"This region mapping is linked to a connectivity with GID={} and number_of_regions={}\".format(\n",
    "        region_mapping_complete.connectivity.gid, region_mapping_complete.connectivity.number_of_regions)"
   ]
  },
  {
   "cell_type": "code",
   "execution_count": 9,
   "metadata": {},
   "outputs": [
    {
     "data": {
      "text/plain": [
       "'This region mapping is linked to a connectivity with GID=f247b79e-6b1d-449d-a659-9e235494c32e'"
      ]
     },
     "execution_count": 9,
     "metadata": {},
     "output_type": "execute_result"
    }
   ],
   "source": [
    "# 2.Download and load the region mapping with only GIDs for its references\n",
    "region_mapping_with_links = tvb_client.load_datatype_with_links(region_mapping_gid, os.getcwd())\n",
    "\n",
    "\"This region mapping is linked to a connectivity with GID={}\".format(region_mapping_with_links.connectivity.gid)"
   ]
  },
  {
   "cell_type": "code",
   "execution_count": 10,
   "metadata": {},
   "outputs": [
    {
     "name": "stdout",
     "output_type": "stream",
     "text": [
      "/home/tvb_user/tvb-root/tvb_documentation/demos/RegionMapping_6049015a0f1742c48f4b648df354de6f.h5\n"
     ]
    },
    {
     "data": {
      "text/plain": [
       "'This region mapping is linked to a connectivity with GID=f247b79e-6b1d-449d-a659-9e235494c32e'"
      ]
     },
     "execution_count": 10,
     "metadata": {},
     "output_type": "execute_result"
    }
   ],
   "source": [
    "# 3.1.Only download the region mapping on client machine\n",
    "region_mapping_path = tvb_client.retrieve_datatype(region_mapping_dto.gid, os.getcwd())\n",
    "print(region_mapping_path)\n",
    "\n",
    "# 3.2.Load the region mapping that was already downloaded on client machine\n",
    "local_region_mapping_with_links = tvb_client.load_datatype_from_file(region_mapping_path)\n",
    "\n",
    "\"This region mapping is linked to a connectivity with GID={}\".format(local_region_mapping_with_links.connectivity.gid)"
   ]
  },
  {
   "cell_type": "markdown",
   "metadata": {},
   "source": [
    "## Launch operation to run a Degree Analyzer over the Connectivity\n"
   ]
  },
  {
   "cell_type": "code",
   "execution_count": 11,
   "metadata": {},
   "outputs": [
    {
     "name": "stdout",
     "output_type": "stream",
     "text": [
      "Current operation GID b1f4c47c-7b33-11ea-b3cb-eb2a08972b7e => STATUS 4-PENDING\n",
      "Operation b1f4c47c-7b33-11ea-b3cb-eb2a08972b7e has finished with status: 5-FINISHED\n"
     ]
    },
    {
     "data": {
      "text/plain": [
       "'175d77ccee2f4f28aafa6ad106640604'"
      ]
     },
     "execution_count": 11,
     "metadata": {},
     "output_type": "execute_result"
    }
   ],
   "source": [
    "from tvb.adapters.analyzers.bct_degree_adapters import Degree\n",
    "from tvb.adapters.analyzers.bct_adapters import BaseBCTModel\n",
    "\n",
    "# Prepare BCT model\n",
    "bct_model = BaseBCTModel()\n",
    "bct_model.connectivity = connectivity_gid\n",
    "\n",
    "# Launch BCT\n",
    "operation_gid = tvb_client.launch_operation(default_project_gid, Degree, bct_model)\n",
    "monitor_operation(tvb_client, operation_gid)\n",
    "\n",
    "# Get the result of BCT...\")\n",
    "bct_dto = tvb_client.get_operation_results(operation_gid)[0]\n",
    "\n",
    "bct_dto.gid"
   ]
  }
 ],
 "metadata": {
  "kernelspec": {
   "display_name": "Python 3",
   "language": "python",
   "name": "python3"
  },
  "language_info": {
   "codemirror_mode": {
    "name": "ipython",
    "version": 3
   },
   "file_extension": ".py",
   "mimetype": "text/x-python",
   "name": "python",
   "nbconvert_exporter": "python",
   "pygments_lexer": "ipython3",
   "version": "3.7.7"
  }
 },
 "nbformat": 4,
 "nbformat_minor": 4
}

{
 "cells": [
  {
   "cell_type": "markdown",
   "metadata": {
    "tags": []
   },
   "source": [
    "# Example of using TVB importers from within the REST client API.\n",
    "## TVB REST server is part of tvb-framework release. If you want to run this example you will have to start a REST server or you should have access to a public TVB REST server.\n",
    "\n",
    "Here, we upload two independent datatypes: a connectivity and a surface from ZIP formats.\n",
    "\n",
    "Then, we upload a region mapping that depends on both connectivity and surface to exist in TVB storage.\n",
    "\n",
    "Note: TVB REST server is part of the tvb-framework release. If you want to run this example, you will have to start a REST server or you should have access to a public TVB REST server.\n",
    "\n",
    "*WARNING*: Your jupyter notebook server probably runs on localhost:8888, which is used by TVBClient. You should run jupyter on a different port (e.g. jupyter notebook --port 9999)."
   ]
  },
  {
   "cell_type": "code",
   "execution_count": null,
   "metadata": {},
   "outputs": [],
   "source": [
    "import os\n",
    "import time\n",
    "\n",
    "import tvb_data\n",
    "from keycloak import KeycloakOpenID\n",
    "from tvb.core.entities.model.model_operation import STATUS_ERROR, STATUS_CANCELED, STATUS_FINISHED\n",
    "from tvb.interfaces.rest.client.tvb_client import TVBClient"
   ]
  },
  {
   "cell_type": "code",
   "execution_count": null,
   "metadata": {},
   "outputs": [],
   "source": [
    "def compute_tvb_data_path(folder, filename):\n",
    "    return os.path.join(os.path.dirname(tvb_data.__file__), folder, filename)\n",
    "\n",
    "def monitor_operation(tvb_client, operation_gid):\n",
    "    while True:\n",
    "        status = tvb_client.get_operation_status(operation_gid)\n",
    "        if status in [STATUS_FINISHED, STATUS_CANCELED, STATUS_ERROR]:\n",
    "            break\n",
    "        print(\"Current operation GID {} => STATUS {}\".format(operation_gid, status))\n",
    "        time.sleep(5)\n",
    "    print(\"Operation {} has finished with status: {}\".format(operation_gid, status))"
   ]
  },
  {
   "cell_type": "code",
   "execution_count": null,
   "metadata": {},
   "outputs": [],
   "source": [
    "# Enter the URL to your REST server\n",
    "tvb_client = TVBClient(\"http://localhost:9090\")\n",
    "\n",
    "keycloak_instance = KeycloakOpenID(\"https://keycloak.codemart.ro/auth/\", \"TVB\", \"tvb-tests\")\n",
    "\n",
    "tvb_client._update_token(keycloak_instance.token(\"tvb_user\", \"pass\"))\n",
    "tvb_client.is_data_encrypted = tvb_client.datatype_api.is_data_encrypted()"
   ]
  },
  {
   "cell_type": "code",
   "execution_count": null,
   "metadata": {},
   "outputs": [],
   "source": [
    "# Requesting projects for the logged user\n",
    "projects_of_user = tvb_client.get_project_list()\n",
    "default_project = projects_of_user[0]\n",
    "default_project_gid = default_project.gid\n",
    "default_project.name"
   ]
  },
  {
   "cell_type": "markdown",
   "metadata": {},
   "source": [
    "## Launch operations to import a Connectivity, a Surface and a RegionMapping"
   ]
  },
  {
   "cell_type": "code",
   "execution_count": null,
   "metadata": {},
   "outputs": [],
   "source": [
    "from tvb.adapters.uploaders.zip_connectivity_importer import ZIPConnectivityImporterModel, ZIPConnectivityImporter\n",
    "\n",
    "# Importing a connectivity from ZIP\n",
    "zip_connectivity_importer_model = ZIPConnectivityImporterModel()\n",
    "zip_connectivity_importer_model.uploaded = compute_tvb_data_path('connectivity', 'connectivity_96.zip')\n",
    "zip_connectivity_importer_model.normalization = 'region'\n",
    "operation_gid = tvb_client.launch_operation(default_project_gid, ZIPConnectivityImporter,\n",
    "                                                         zip_connectivity_importer_model)\n",
    "\n",
    "monitor_operation(tvb_client, operation_gid)\n",
    "\n",
    "# Get the result of connectivity import\n",
    "connectivity_dto = tvb_client.get_operation_results(operation_gid)[0]\n",
    "connectivity_gid = connectivity_dto.gid\n",
    "\n",
    "connectivity_gid"
   ]
  },
  {
   "cell_type": "code",
   "execution_count": null,
   "metadata": {},
   "outputs": [],
   "source": [
    "from tvb.adapters.uploaders.zip_surface_importer import ZIPSurfaceImporterModel, ZIPSurfaceImporter\n",
    "from tvb.datatypes.surfaces import SurfaceTypesEnum\n",
    "\n",
    "# Importing a surface from ZIP\n",
    "zip_surface_importer_model = ZIPSurfaceImporterModel()\n",
    "zip_surface_importer_model.uploaded = compute_tvb_data_path('surfaceData', 'cortex_16384.zip')\n",
    "zip_surface_importer_model.surface_type = SurfaceTypesEnum.CORTICAL_SURFACE\n",
    "zip_surface_importer_model.should_center = False\n",
    "\n",
    "operation_gid = tvb_client.launch_operation(default_project_gid, ZIPSurfaceImporter, zip_surface_importer_model)\n",
    "monitor_operation(tvb_client, operation_gid)\n",
    "\n",
    "# Get the result of surface import\n",
    "surface_dto = tvb_client.get_operation_results(operation_gid)[0]\n",
    "surface_gid = surface_dto.gid\n",
    "\n",
    "surface_gid"
   ]
  },
  {
   "cell_type": "code",
   "execution_count": null,
   "metadata": {},
   "outputs": [],
   "source": [
    "from tvb.adapters.uploaders.region_mapping_importer import RegionMappingImporterModel, RegionMappingImporter\n",
    "\n",
    "# Importing a region mapping\n",
    "rm_importer_model = RegionMappingImporterModel()\n",
    "rm_importer_model.mapping_file = compute_tvb_data_path('regionMapping', 'regionMapping_16k_76.txt')\n",
    "rm_importer_model.connectivity = connectivity_dto.gid\n",
    "rm_importer_model.surface = surface_gid\n",
    "\n",
    "operation_gid = tvb_client.launch_operation(default_project_gid, RegionMappingImporter, rm_importer_model)\n",
    "monitor_operation(tvb_client, operation_gid)\n",
    "\n",
    "# Get the result of region mapping import\n",
    "region_mapping_dto = tvb_client.get_operation_results(operation_gid)[0]\n",
    "region_mapping_gid = region_mapping_dto.gid\n",
    "\n",
    "region_mapping_gid"
   ]
  },
  {
   "cell_type": "markdown",
   "metadata": {},
   "source": [
    "## Load the region mapping together with references information in 3 different ways\n"
   ]
  },
  {
   "cell_type": "code",
   "execution_count": null,
   "metadata": {},
   "outputs": [],
   "source": [
    "# 1.Download and load the region mapping with all its references\n",
    "region_mapping_complete = tvb_client.load_datatype_with_full_references(region_mapping_gid, os.getcwd())\n",
    "\n",
    "\"This region mapping is linked to a connectivity with GID={} and number_of_regions={}\".format(\n",
    "        region_mapping_complete.connectivity.gid, region_mapping_complete.connectivity.number_of_regions)"
   ]
  },
  {
   "cell_type": "code",
   "execution_count": null,
   "metadata": {},
   "outputs": [],
   "source": [
    "# 2.Download and load the region mapping with only GIDs for its references\n",
    "region_mapping_with_links = tvb_client.load_datatype_with_links(region_mapping_gid, os.getcwd())\n",
    "\n",
    "\"This region mapping is linked to a connectivity with GID={}\".format(region_mapping_with_links.connectivity.gid)"
   ]
  },
  {
   "cell_type": "code",
   "execution_count": null,
   "metadata": {},
   "outputs": [],
   "source": [
    "# 3.1.Only download the region mapping on client machine\n",
    "region_mapping_path = tvb_client.retrieve_datatype(region_mapping_dto.gid, os.getcwd())\n",
    "print(region_mapping_path)\n",
    "\n",
    "# 3.2.Load the region mapping that was already downloaded on client machine\n",
    "local_region_mapping_with_links = tvb_client.load_datatype_from_file(region_mapping_path)\n",
    "\n",
    "\"This region mapping is linked to a connectivity with GID={}\".format(local_region_mapping_with_links.connectivity.gid)"
   ]
  },
  {
   "cell_type": "markdown",
   "metadata": {},
   "source": [
    "## Launch operation to run a Degree Analyzer over the Connectivity"
   ]
  },
  {
   "cell_type": "code",
   "execution_count": null,
   "metadata": {},
   "outputs": [],
   "source": [
    "from tvb.adapters.analyzers.bct_degree_adapters import Degree\n",
    "from tvb.adapters.analyzers.bct_adapters import BaseBCTModel\n",
    "\n",
    "# Prepare BCT model\n",
    "bct_model = BaseBCTModel()\n",
    "bct_model.connectivity = connectivity_gid\n",
    "\n",
    "# Launch BCT\n",
    "operation_gid = tvb_client.launch_operation(default_project_gid, Degree, bct_model)\n",
    "monitor_operation(tvb_client, operation_gid)\n",
    "\n",
    "# Get the result of BCT...\")\n",
    "bct_dto = tvb_client.get_operation_results(operation_gid)[0]\n",
    "\n",
    "bct_dto.gid"
   ]
  }
 ],
 "metadata": {
  "kernelspec": {
   "display_name": "Python 3 (ipykernel)",
   "language": "python",
   "name": "python3"
  },
  "language_info": {
   "codemirror_mode": {
    "name": "ipython",
    "version": 3
   },
   "file_extension": ".py",
   "mimetype": "text/x-python",
   "name": "python",
   "nbconvert_exporter": "python",
   "pygments_lexer": "ipython3",
   "version": "3.7.12"
  }
 },
 "nbformat": 4,
 "nbformat_minor": 4
}
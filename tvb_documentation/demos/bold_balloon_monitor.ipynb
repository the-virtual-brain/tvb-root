{
 "cells": [
  {
   "cell_type": "code",
   "execution_count": 1,
   "id": "4cc56589-d851-433f-8d83-9a13930b83c0",
   "metadata": {},
   "outputs": [],
   "source": [
    "%matplotlib inline"
   ]
  },
  {
   "cell_type": "code",
   "execution_count": 2,
   "id": "34bc3e01-2790-4f92-b3d0-87cd1ae271ac",
   "metadata": {},
   "outputs": [],
   "source": [
    "%load_ext autoreload"
   ]
  },
  {
   "cell_type": "code",
   "execution_count": 3,
   "id": "aafed4b5-4465-4b16-9437-32402e18f520",
   "metadata": {},
   "outputs": [],
   "source": [
    "%autoreload 2"
   ]
  },
  {
   "cell_type": "code",
   "execution_count": 4,
   "id": "969fbcbf-164b-4843-8c3f-799473454f3b",
   "metadata": {},
   "outputs": [],
   "source": [
    "import numpy as np\n",
    "import matplotlib.pylab as plt"
   ]
  },
  {
   "cell_type": "code",
   "execution_count": 5,
   "id": "07a4d85a-1a44-4d6a-a038-2e75c7e85116",
   "metadata": {
    "tags": []
   },
   "outputs": [],
   "source": [
    "from tvb.simulator.lab import *"
   ]
  },
  {
   "cell_type": "code",
   "execution_count": 6,
   "id": "973afb69-24c8-41ce-8c12-7f08427b5761",
   "metadata": {
    "tags": []
   },
   "outputs": [],
   "source": [
    "from tvb.simulator.backend.nb_mpr import NbMPRBackend"
   ]
  },
  {
   "cell_type": "markdown",
   "id": "e7110756-486f-422c-bd5a-78a148afbc8a",
   "metadata": {},
   "source": [
    "We start with building a small toy network to demonstrate the monitor."
   ]
  },
  {
   "cell_type": "code",
   "execution_count": 7,
   "id": "7ac40273-2686-43e1-a1ff-f389ad433f23",
   "metadata": {
    "tags": []
   },
   "outputs": [],
   "source": [
    "N = 2\n",
    "conn = connectivity.Connectivity()\n",
    "conn.motif_all_to_all(number_of_regions=N)\n",
    "conn.centres_spherical(number_of_regions=N)\n",
    "conn.speed = np.r_[np.inf]"
   ]
  },
  {
   "cell_type": "code",
   "execution_count": 8,
   "id": "217226a3-f3d4-4bce-a770-0b417b09d263",
   "metadata": {
    "tags": []
   },
   "outputs": [],
   "source": [
    "conn.configure()"
   ]
  },
  {
   "cell_type": "markdown",
   "id": "cafb8502-9623-4ac8-8a99-df5cc8f68a6a",
   "metadata": {},
   "source": [
    "Stimulus to make one of the nodes active for a brief period of time. "
   ]
  },
  {
   "cell_type": "code",
   "execution_count": 9,
   "id": "e9433a2a-d940-4684-bf6e-8f15492bc062",
   "metadata": {
    "tags": []
   },
   "outputs": [],
   "source": [
    "weighting = patterns.StimuliRegion.get_default_weights(N)\n",
    "weighting[0] = 4.\n",
    "\n",
    "# temporal profile\n",
    "eqn_t = equations.Gaussian()\n",
    "eqn_t.parameters[\"midpoint\"] = 11000.0\n",
    "eqn_t.parameters[\"sigma\"] = 100.0\n",
    "\n",
    "stimulus = patterns.StimuliRegion(temporal=eqn_t,\n",
    "                                  connectivity=conn,\n",
    "                                  weight=weighting)\n"
   ]
  },
  {
   "cell_type": "markdown",
   "id": "0c3430e4-3032-48c9-9aa6-689f609fc295",
   "metadata": {},
   "source": [
    "We use the Montbrio-Pazo-Roxin model with the Numba backend to generate the time series quickly."
   ]
  },
  {
   "cell_type": "code",
   "execution_count": 10,
   "id": "1aa7d93b-bcef-4504-9b01-31eca1f8f061",
   "metadata": {
    "tags": []
   },
   "outputs": [],
   "source": [
    "sim = simulator.Simulator(\n",
    "    model = models.MontbrioPazoRoxin(),\n",
    "    connectivity = conn,\n",
    "    integrator = integrators.HeunStochastic(\n",
    "        dt = 0.01, \n",
    "        noise = noise.Additive(nsig=np.r_[0.01,0.02])\n",
    "    ),\n",
    "    initial_conditions=np.zeros( (1,2,N,1) ),\n",
    "    stimulus=stimulus,\n",
    "    monitors=[monitors.Raw()]\n",
    ").configure()"
   ]
  },
  {
   "cell_type": "code",
   "execution_count": 11,
   "id": "09b5fbb8-5e4f-4ff9-81a3-7aa4013f4ca9",
   "metadata": {
    "tags": []
   },
   "outputs": [],
   "source": [
    "backend = NbMPRBackend()"
   ]
  },
  {
   "cell_type": "code",
   "execution_count": 12,
   "id": "94941692-ba67-45d0-9fb2-b4d770e69efd",
   "metadata": {
    "tags": []
   },
   "outputs": [],
   "source": [
    "%%capture\n",
    "(raw_t, raw_d), = backend.run_sim(sim, simulation_length=30000)"
   ]
  },
  {
   "cell_type": "code",
   "execution_count": 13,
   "id": "e72fe8a7-ba49-40ce-872f-2c45ebf1eb4b",
   "metadata": {
    "tags": []
   },
   "outputs": [
    {
     "data": {
      "text/plain": [
       "((3000000,), (3000000, 2, 2, 1))"
      ]
     },
     "execution_count": 13,
     "metadata": {},
     "output_type": "execute_result"
    }
   ],
   "source": [
    "raw_t.shape, raw_d.shape"
   ]
  },
  {
   "cell_type": "code",
   "execution_count": 14,
   "id": "0b71f5ad-bb6d-40fb-a38a-ffc4b164154b",
   "metadata": {
    "tags": []
   },
   "outputs": [
    {
     "data": {
      "text/plain": [
       "[<matplotlib.lines.Line2D at 0x7f1f1a1268e0>,\n",
       " <matplotlib.lines.Line2D at 0x7f1f1a1738b0>]"
      ]
     },
     "execution_count": 14,
     "metadata": {},
     "output_type": "execute_result"
    },
    {
     "data": {
      "image/png": "[encoded data removed]",
      "text/plain": [
       "<Figure size 432x288 with 1 Axes>"
      ]
     },
     "metadata": {
      "needs_background": "light"
     },
     "output_type": "display_data"
    }
   ],
   "source": [
    "plt.plot(raw_t, raw_d[:, 0,:,0])"
   ]
  },
  {
   "cell_type": "markdown",
   "id": "32541a1b-4d23-4fb4-a36f-18f4e9aa8837",
   "metadata": {},
   "source": [
    "The following function will allow us apply the Bold monitor ex-post."
   ]
  },
  {
   "cell_type": "code",
   "execution_count": 15,
   "id": "9b8e8a83-59d0-4479-8f79-77b72ca64c95",
   "metadata": {
    "tags": []
   },
   "outputs": [],
   "source": [
    "def replay_monitor(raw_d, sim):\n",
    "    \"\"\" Assumes that the raw_d was produced in consistency with the simulator used.\"\"\"\n",
    "    assert len(sim.monitors) == 1, \"Only one monitor at a time can be replayed.\"    \n",
    "    res = [out for out in [ sim.monitors[0].record(step, sim.model.observe(state)) for step, state in enumerate(raw_d)] if out is not None]\n",
    "    b_t, b_d = zip(*res)\n",
    "    b_t, b_d = np.array(b_t), np.array(b_d)\n",
    "    return b_t, b_d"
   ]
  },
  {
   "cell_type": "code",
   "execution_count": 16,
   "id": "4ccb1778-4fe2-4042-b23b-0fe7da08db38",
   "metadata": {
    "tags": []
   },
   "outputs": [
    {
     "name": "stderr",
     "output_type": "stream",
     "text": [
      "/home/izaak/local_repos/megaloceros/tvb/scientific_library/tvb/simulator/monitors.py:1147: VisibleDeprecationWarning: Creating an ndarray from ragged nested sequences (which is a list-or-tuple of lists-or-tuples-or ndarrays with different lengths or shapes) is deprecated. If you meant to do this, you must specify 'dtype=object' when creating the ndarray.\n",
      "  return numpy.array([k1, k2, k3])\n"
     ]
    }
   ],
   "source": [
    "sim = simulator.Simulator(\n",
    "    model = models.MontbrioPazoRoxin(variables_of_interest=['r']),\n",
    "    connectivity = conn,\n",
    "    integrator = integrators.HeunStochastic(\n",
    "        dt = 0.01, \n",
    "        noise = noise.Additive(nsig=np.r_[0.01,0.02])\n",
    "    ),\n",
    "    initial_conditions=np.zeros( (1,2,N,1) ),\n",
    "    stimulus=stimulus,\n",
    "    monitors=[monitors.BoldBalloonWindkessel(period=10., V0=0.02, tau_s=0.65, alpha=0.32, include_svars=True)],\n",
    "\n",
    ").configure()\n"
   ]
  },
  {
   "cell_type": "code",
   "execution_count": 17,
   "id": "6ebcb73b-74b6-47bc-9a05-0d8421784dd5",
   "metadata": {
    "tags": []
   },
   "outputs": [],
   "source": [
    "b_t, b_d = replay_monitor(raw_d, sim)"
   ]
  },
  {
   "cell_type": "code",
   "execution_count": 18,
   "id": "42aefae9-b422-468a-85b2-061d794dc980",
   "metadata": {
    "tags": []
   },
   "outputs": [
    {
     "data": {
      "image/png": "[encoded data removed]",
      "text/plain": [
       "<Figure size 576x720 with 6 Axes>"
      ]
     },
     "metadata": {
      "needs_background": "light"
     },
     "output_type": "display_data"
    }
   ],
   "source": [
    "fig, axs = plt.subplots(nrows=6, sharex=True, figsize=(8,10))\n",
    "axs[0].plot(raw_t,raw_d[:,0,0,0])\n",
    "axs[0].set(ylabel='r')\n",
    "for i, (ax, label) in enumerate( zip(axs[1:], ['BOLD', 's', 'f', 'v', 'q'])):\n",
    "    ax.plot(b_t[:], b_d[:,i,0,0])\n",
    "    ax.set(ylabel=label)"
   ]
  }
 ],
 "metadata": {
  "kernelspec": {
   "display_name": "Python 3 (ipykernel)",
   "language": "python",
   "name": "python3"
  },
  "language_info": {
   "codemirror_mode": {
    "name": "ipython",
    "version": 3
   },
   "file_extension": ".py",
   "mimetype": "text/x-python",
   "name": "python",
   "nbconvert_exporter": "python",
   "pygments_lexer": "ipython3",
   "version": "3.8.10"
  }
 },
 "nbformat": 4,
 "nbformat_minor": 5
}

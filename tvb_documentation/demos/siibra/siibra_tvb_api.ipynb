{
 "cells": [
  {
   "cell_type": "markdown",
   "id": "78a5451a-4c93-4001-b6bd-72d82d7163e6",
   "metadata": {},
   "source": [
    "## API integrating the EBRAINS KG with TVB using `siibra-python`.\n",
    "### Focuses on retrieving and creating TVB Structural and Functional Connectivities\n",
    "##### <font color='red'>Note: For the API to work, an EBRAINS authentication token needs to be set or the API should be used in an EBRAINS environment.</font>"
   ]
  },
  {
   "cell_type": "markdown",
   "id": "0f7a8ef2-b29f-4b1c-b6c7-1a90e97123a6",
   "metadata": {
    "tags": []
   },
   "source": [
    "### Make sure an EBRAINS token exists"
   ]
  },
  {
   "cell_type": "code",
   "execution_count": null,
   "id": "4c73c307-fab9-433f-98ad-ea279b020c4d",
   "metadata": {},
   "outputs": [],
   "source": [
    "import os\n",
    "# Add an EBRAINS tokens if not done already\n",
    "if not 'HBP_AUTH_TOKEN' in os.environ:\n",
    "    print(\"Missing auth token for siibra!!\")\n",
    "#os.environ['HBP_AUTH_TOKEN'] = ''"
   ]
  },
  {
   "cell_type": "code",
   "execution_count": null,
   "id": "de3c37d8-d69d-420d-a6a8-85f7e489e3ab",
   "metadata": {},
   "outputs": [],
   "source": [
    "# alterantively, use siibra service for authentication into EBRAINS\n",
    "import siibra\n",
    "#siibra.fetch_ebrains_token()"
   ]
  },
  {
   "cell_type": "markdown",
   "id": "b2b2411b-b994-4445-8971-21800add9374",
   "metadata": {},
   "source": [
    "## Using the API"
   ]
  },
  {
   "cell_type": "markdown",
   "id": "e8d0eb96-fcb5-430d-9313-0d3cfc1c7ac6",
   "metadata": {},
   "source": [
    "## 1. Retrieving *both* Structural and Functional Connectivities"
   ]
  },
  {
   "cell_type": "markdown",
   "id": "523bcf72-6f28-44bc-a50b-b17c08d92ac3",
   "metadata": {},
   "source": [
    "##### The results of this method are 2 **dictionaries**, containing either structural or functional connectivities. Each dictionary has as:\n",
    "##### **- key**: the subject id\n",
    "##### **- value**: the Structural/Functional TVB Connectivity for the corresponding subject"
   ]
  },
  {
   "cell_type": "code",
   "execution_count": null,
   "id": "8b3ae241-a627-4f1e-9d41-df13ef5ac2cf",
   "metadata": {},
   "outputs": [],
   "source": [
    "from tvb.adapters.creators.siibra_base import get_connectivities_from_kg\n",
    "struct_conn_dict, func_conn_dict = get_connectivities_from_kg('human', '2.9', 'HCP', '000-001', True)"
   ]
  },
  {
   "cell_type": "markdown",
   "id": "d279685c-8e24-42b4-875c-2de764db9d17",
   "metadata": {},
   "source": [
    "##### There is **1** Structural connectivity for each subject:"
   ]
  },
  {
   "cell_type": "code",
   "execution_count": null,
   "id": "f9b271f8-e6da-4564-a54b-ae8c418b0b59",
   "metadata": {},
   "outputs": [],
   "source": [
    "print(f'Structural connectivities:')\n",
    "for sc in struct_conn_dict.items():\n",
    "    print(sc)"
   ]
  },
  {
   "cell_type": "markdown",
   "id": "a5a4c6e7-08eb-4d0e-8f20-c70c5b7dcb3c",
   "metadata": {},
   "source": [
    "##### And **5** Functional connectivities for each subject:"
   ]
  },
  {
   "cell_type": "code",
   "execution_count": null,
   "id": "cc9bb7d4-3e66-46f7-bf6e-622cb5bb5fe6",
   "metadata": {},
   "outputs": [],
   "source": [
    "print(f'Functional connectivities:')\n",
    "for fc in func_conn_dict.items():\n",
    "    print(fc)"
   ]
  },
  {
   "cell_type": "markdown",
   "id": "28fb717c-ec68-416f-84cf-80d3a0a95c16",
   "metadata": {},
   "source": [
    "#### After retrieving the connectivities, we can access and use them as any other connectivity from TVB:"
   ]
  },
  {
   "cell_type": "code",
   "execution_count": null,
   "id": "b93dfd07-f7cd-41db-bab7-5164eca72ccc",
   "metadata": {},
   "outputs": [],
   "source": [
    "sc_conn = struct_conn_dict['000']\n",
    "sc_conn"
   ]
  },
  {
   "cell_type": "code",
   "execution_count": null,
   "id": "862270ab-83f8-47f4-8e91-eb0ae9ba1bf5",
   "metadata": {},
   "outputs": [],
   "source": [
    "from tvb.simulator.plot.tools import plot_connectivity\n",
    "plot_connectivity(sc_conn)"
   ]
  },
  {
   "cell_type": "markdown",
   "id": "574aa2e5-0d0e-446d-825a-93dfb7112ead",
   "metadata": {},
   "source": [
    "---"
   ]
  },
  {
   "cell_type": "markdown",
   "id": "ea3a0759-554d-4080-9b8a-d393c517316f",
   "metadata": {},
   "source": [
    "## 2. Retrieving *just* Structural Connectivities"
   ]
  },
  {
   "cell_type": "markdown",
   "id": "c4937f9d-a93e-4dff-a7cd-a39e80eb0c5b",
   "metadata": {
    "tags": []
   },
   "source": [
    "#### 2.1 Using the common API for Structural and Functional Connectivities:\n",
    "####     The API from 1. can be used to extract just Structural connectivities, by setting the **last flag** (mentioning the option to also compute Functional connectivities) to **False**"
   ]
  },
  {
   "cell_type": "code",
   "execution_count": null,
   "id": "131ea1af-5adb-4ec5-a12c-95332b9f1c39",
   "metadata": {},
   "outputs": [],
   "source": [
    "struct_conn_dict, func_conn_dict = get_connectivities_from_kg('human', '2.9', '1000BRAINS', '0002', False)"
   ]
  },
  {
   "cell_type": "markdown",
   "id": "13b5eb7a-a678-4555-9cb1-bdce1eb2faec",
   "metadata": {},
   "source": [
    "##### Now there is one Structural connectivity:"
   ]
  },
  {
   "cell_type": "code",
   "execution_count": null,
   "id": "812dc1b6-88b6-499b-9e16-938b8c839f7a",
   "metadata": {},
   "outputs": [],
   "source": [
    "print(f'Structural connectivities:')\n",
    "for sc in struct_conn_dict.items():\n",
    "    print(sc)"
   ]
  },
  {
   "cell_type": "markdown",
   "id": "b978bf2b-4de4-4865-bfb4-9a6592b6369a",
   "metadata": {},
   "source": [
    "##### And no Functional connectivities:"
   ]
  },
  {
   "cell_type": "code",
   "execution_count": null,
   "id": "a702bf5b-6840-4608-9543-7613a787aeb4",
   "metadata": {},
   "outputs": [],
   "source": [
    "print(f'Functional connectivities: \\n {func_conn_dict}')"
   ]
  },
  {
   "cell_type": "markdown",
   "id": "0fc08ae6-61ac-46d7-bc1c-ee686cfbf7d2",
   "metadata": {},
   "source": [
    "#### 2.2 Using the custom API for Structural connectivities:"
   ]
  },
  {
   "cell_type": "code",
   "execution_count": null,
   "id": "2aee3cd5-e6b2-41df-b8b7-b99dc7b472fd",
   "metadata": {},
   "outputs": [],
   "source": [
    "from tvb.adapters.creators.siibra_base import get_structural_connectivities_from_kg\n",
    "struct_conn_dict = get_structural_connectivities_from_kg('human', '2.9', 'HCP', '002')"
   ]
  },
  {
   "cell_type": "code",
   "execution_count": null,
   "id": "c63d23fc-2807-41c1-9750-3116f47790d3",
   "metadata": {},
   "outputs": [],
   "source": [
    "print(f'Structural connectivities:')\n",
    "for sc in struct_conn_dict.items():\n",
    "    print(sc)"
   ]
  },
  {
   "cell_type": "markdown",
   "id": "4e01c466-2174-44d0-ac66-413790560395",
   "metadata": {},
   "source": [
    "#### Again, the resulted connectivity could be used like any other TVB Connectivity"
   ]
  },
  {
   "cell_type": "markdown",
   "id": "bb6b1b76-d74b-4338-a049-289708a70ba5",
   "metadata": {},
   "source": [
    "---"
   ]
  },
  {
   "cell_type": "markdown",
   "id": "e2b34b0f-c155-4605-91fe-bc4cd1a55199",
   "metadata": {},
   "source": [
    "## 3. Retrieving *just* Functional Connectivities\n",
    "#### Note: Functional Connectivities are represented as ConnectivityMeasures in TVB. This means that each FC will have an associated Structural Connectivity to it. \n",
    "#### For this reason, to extract any FC from siibra, we must also provide a dictionary of corresponding Structural Connectivities."
   ]
  },
  {
   "cell_type": "code",
   "execution_count": null,
   "id": "0fe33fc0-b6d5-45e9-8ee3-3f1b3e26ab8e",
   "metadata": {},
   "outputs": [],
   "source": [
    "from tvb.adapters.creators.siibra_base import get_connectivity_measures_from_kg\n",
    "func_conn_dict = get_connectivity_measures_from_kg('human', '2.9', 'HCP', '002', struct_conn_dict)"
   ]
  },
  {
   "cell_type": "code",
   "execution_count": null,
   "id": "8fa72c6a-1d56-40ba-9f41-1259cbfa8d21",
   "metadata": {},
   "outputs": [],
   "source": [
    "print(f'Functional connectivities:')\n",
    "for fc in func_conn_dict.items():\n",
    "    print(fc)"
   ]
  },
  {
   "cell_type": "code",
   "execution_count": null,
   "id": "12a4f799-4151-4fa0-9804-913a6287c7a2",
   "metadata": {},
   "outputs": [],
   "source": [
    "# inspecting a Functional Connectivity\n",
    "func_conn_dict['002'][0]"
   ]
  },
  {
   "cell_type": "code",
   "execution_count": null,
   "id": "803156a8-0727-4764-82eb-03f99c48af25",
   "metadata": {},
   "outputs": [],
   "source": []
  }
 ],
 "metadata": {
  "kernelspec": {
   "display_name": "Python 3 (ipykernel)",
   "language": "python",
   "name": "python3"
  },
  "language_info": {
   "codemirror_mode": {
    "name": "ipython",
    "version": 3
   },
   "file_extension": ".py",
   "mimetype": "text/x-python",
   "name": "python",
   "nbconvert_exporter": "python",
   "pygments_lexer": "ipython3",
   "version": "3.10.4"
  }
 },
 "nbformat": 4,
 "nbformat_minor": 5
}

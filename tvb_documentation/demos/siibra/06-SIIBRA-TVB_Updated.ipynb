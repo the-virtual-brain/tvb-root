{
 "cells": [
  {
   "cell_type": "markdown",
   "id": "d6f5d0d6",
   "metadata": {
    "tags": []
   },
   "source": [
    "### Prototype of integrating TVB with SIIBRA - Download a structural connectivity from SIIBRA and setup a TVB simulation with it\n",
    "#### (This is an adaptation of https://github.com/dickscheid/siibra-tutorials/blob/main/06-SIIBRA-TVB.ipynb, which used an older version of siibra-python)"
   ]
  },
  {
   "cell_type": "markdown",
   "id": "f2f38352-0923-404a-bd99-551c17aa2cad",
   "metadata": {
    "tags": []
   },
   "source": [
    "### Imports and setup"
   ]
  },
  {
   "cell_type": "code",
   "execution_count": null,
   "id": "c4aade82-4a7a-40d4-a912-d196bb9376c2",
   "metadata": {},
   "outputs": [],
   "source": [
    "%matplotlib widget"
   ]
  },
  {
   "cell_type": "code",
   "execution_count": null,
   "id": "54fc39aa",
   "metadata": {},
   "outputs": [],
   "source": [
    "import os\n",
    "import numpy as np\n",
    "import siibra\n",
    "from tvb.simulator.lab import *"
   ]
  },
  {
   "cell_type": "markdown",
   "id": "5d493b1c-94cd-4bfa-876b-7d84fc3f7c94",
   "metadata": {},
   "source": [
    "### Make sure an EBRAINS token exists"
   ]
  },
  {
   "cell_type": "code",
   "execution_count": null,
   "id": "43a1256c-906f-42c0-97d6-76bc7d546f56",
   "metadata": {},
   "outputs": [],
   "source": [
    "if not 'HBP_AUTH_TOKEN' in os.environ:\n",
    "    print(\"Missing auth token for siibra!!\")\n",
    "    \n",
    "#os.environ['HBP_AUTH_TOKEN'] = ''\n",
    "# alterantively, use siibra service for authentication into EBRAINS\n",
    "# siibra.fetch_ebrains_token()"
   ]
  },
  {
   "cell_type": "markdown",
   "id": "234112e8-8021-475e-bbd5-2cddc5efbaf2",
   "metadata": {
    "tags": []
   },
   "source": [
    "### Get connectivity matrices"
   ]
  },
  {
   "cell_type": "markdown",
   "id": "562d3d1a-546a-4dc2-89df-8b7a1c6a8738",
   "metadata": {},
   "source": [
    "#### Connectivity weights"
   ]
  },
  {
   "cell_type": "code",
   "execution_count": null,
   "id": "5731d2d4",
   "metadata": {},
   "outputs": [],
   "source": [
    "# get desired brain parcellation\n",
    "atlas = siibra.atlases[\"human\"]\n",
    "jubrain = atlas.get_parcellation(\"julich 2.9\")"
   ]
  },
  {
   "cell_type": "code",
   "execution_count": null,
   "id": "9c658c6c-4ac7-439c-b293-15d8fc866a66",
   "metadata": {},
   "outputs": [],
   "source": [
    "# get the Streamline Counts (conn. weights) features\n",
    "# this gives a list of Streamline Counts objects corresponding to a different cohort; each Streamline Count obj. has multiple connectivities\n",
    "features = siibra.features.get(jubrain, siibra.features.connectivity.StreamlineCounts)\n",
    "for f in features:\n",
    "    print(f.cohort)"
   ]
  },
  {
   "cell_type": "code",
   "execution_count": null,
   "id": "ad608d87-2b8f-4ef4-8fe1-113d396dba62",
   "metadata": {},
   "outputs": [],
   "source": [
    "# select one of the cohorts and get all the connectivities for all the subjects\n",
    "conn_weights = features[0]\n",
    "print(f'There are connectivity weights available for {len(conn_weights.subjects)} subjects')"
   ]
  },
  {
   "cell_type": "code",
   "execution_count": null,
   "id": "7f69a32e-b9c0-473a-8423-a162abdfbecb",
   "metadata": {},
   "outputs": [],
   "source": [
    "# get the connectivity matrix for one of the subjects\n",
    "subject = conn_weights.subjects[0]  # this gives us a string containing the subject id\n",
    "weights_matrix = conn_weights.get_matrix(subject)  # matrix stored as pandas DataFrame\n",
    "weights_matrix"
   ]
  },
  {
   "cell_type": "markdown",
   "id": "4a7f6960-b774-4f38-9925-956ee0dd9487",
   "metadata": {},
   "source": [
    "#### Connectivity tracts"
   ]
  },
  {
   "cell_type": "code",
   "execution_count": null,
   "id": "d6389194-13ca-47d8-a838-fe399e22af82",
   "metadata": {},
   "outputs": [],
   "source": [
    "# get the Streamline Lengths (conn. tracts) features\n",
    "# this gives a list of Streamline Lengths object corresponding to a different cohort; each Streamline Lengths obj. has multiple connectivities\n",
    "features_lengths = siibra.features.get(jubrain, siibra.features.connectivity.StreamlineLengths)\n",
    "for f in features_lengths:\n",
    "    print(f.cohort)"
   ]
  },
  {
   "cell_type": "code",
   "execution_count": null,
   "id": "22eca258-bd0e-490e-8307-ed64cbacc56c",
   "metadata": {},
   "outputs": [],
   "source": [
    "# select one of the cohorts and get all the connectivities for all the subjects\n",
    "conn_tracts = features_lengths[0]\n",
    "conn_tracts.name\n",
    "print(f'There are connectivity tracts available for {len(conn_tracts.subjects)} subjects')"
   ]
  },
  {
   "cell_type": "code",
   "execution_count": null,
   "id": "953e494f-148b-498b-ae43-877d96771f69",
   "metadata": {},
   "outputs": [],
   "source": [
    "# get the connectivity matrix for one of the subjects\n",
    "subject = conn_tracts.subjects[0]  # this gives us a string containing the subject id\n",
    "tracts_matrix = conn_tracts.get_matrix(subject)  # matrix stored as pandas DataFrame\n",
    "tracts_matrix[10:20]"
   ]
  },
  {
   "cell_type": "code",
   "execution_count": null,
   "id": "12819bbb-b345-4ceb-a177-5d2c3e5419e0",
   "metadata": {},
   "outputs": [],
   "source": [
    "# check that the weights and tracts have the same format\n",
    "assert len(weights_matrix) == len(tracts_matrix)\n",
    "assert weights_matrix.columns.to_list() == tracts_matrix.columns.to_list()\n",
    "assert (weights_matrix.index == tracts_matrix.index).all()"
   ]
  },
  {
   "cell_type": "markdown",
   "id": "082f19b5-9a3d-460b-bf6d-2fb08dd292c5",
   "metadata": {
    "tags": []
   },
   "source": [
    "### Get region names\n",
    "##### (In siibra the indices of weights/tracts matrix are Region objects*)\n",
    "\\* sometimes they are tuples, where first value is name of parent of that region and second value is the actual region"
   ]
  },
  {
   "cell_type": "code",
   "execution_count": null,
   "id": "3410f623-3df4-4113-9192-1308dc34a670",
   "metadata": {
    "scrolled": true,
    "tags": []
   },
   "outputs": [],
   "source": [
    "# get list of region objects\n",
    "regions = weights_matrix.index.values\n",
    "# because sometimes we have tuples instead of regions, correct the list to have only regions\n",
    "regions = [r[1] if type(r)==tuple else r for r in regions]\n",
    "regions"
   ]
  },
  {
   "cell_type": "code",
   "execution_count": null,
   "id": "9d30e4f9-3043-4e3e-b3a4-e8cd7bc180fb",
   "metadata": {},
   "outputs": [],
   "source": [
    "# get region names and the corresponding hemispheres\n",
    "reg_names = []\n",
    "hemi = []\n",
    "for r in regions:\n",
    "    name = r.name\n",
    "    reg_names.append(name)\n",
    "    \n",
    "    if 'right' in name:\n",
    "        hemi.append(1)\n",
    "    # there is a bug on the else branch: there are regions which refer to both the right and left hemishperes;\n",
    "    # right now they are put in the left hemisphere, but this is wrong! and should be corrected in some way\n",
    "    else:\n",
    "        hemi.append(0)"
   ]
  },
  {
   "cell_type": "code",
   "execution_count": null,
   "id": "1ccd3abb-e08d-417d-8700-64cdd89643b6",
   "metadata": {},
   "outputs": [],
   "source": [
    "reg_names[:5]"
   ]
  },
  {
   "cell_type": "code",
   "execution_count": null,
   "id": "9507de90-43f6-417c-af33-637a475ae75f",
   "metadata": {},
   "outputs": [],
   "source": [
    "# check the correctness of hemi array\n",
    "hemi[:5]"
   ]
  },
  {
   "cell_type": "code",
   "execution_count": null,
   "id": "66d89fd2-b302-4611-91b6-a95c6993e521",
   "metadata": {
    "tags": []
   },
   "outputs": [],
   "source": [
    "# save regions related to both hemispheres for future reference?\n",
    "both_hemi_regions = []\n",
    "for r in regions:\n",
    "    name = r.name\n",
    "    if 'left' not in name and 'right' not in name:\n",
    "        both_hemi_regions.append(r)\n",
    "both_hemi_regions"
   ]
  },
  {
   "cell_type": "markdown",
   "id": "9714cb86-a5eb-4544-b5cb-c85a3c365c70",
   "metadata": {},
   "source": [
    "### Get region positions"
   ]
  },
  {
   "cell_type": "code",
   "execution_count": null,
   "id": "8c4260a3-c708-4936-a402-5b3ba63a63ea",
   "metadata": {},
   "outputs": [],
   "source": [
    "# first we need a space in which the positions are computed\n",
    "space = atlas.spaces.MNI_152_ICBM_2009C_NONLINEAR_ASYMMETRIC # commonly used space in other examples"
   ]
  },
  {
   "cell_type": "code",
   "execution_count": null,
   "id": "1a389ffe-c155-4254-ba30-7177349748ca",
   "metadata": {},
   "outputs": [],
   "source": [
    "r1 = regions[0]"
   ]
  },
  {
   "cell_type": "code",
   "execution_count": null,
   "id": "3df69268-9427-4120-92ba-d44e57289c4d",
   "metadata": {},
   "outputs": [],
   "source": [
    "tuple(r1.spatial_props(space)['components'][0]['centroid'])"
   ]
  },
  {
   "cell_type": "code",
   "execution_count": null,
   "id": "746a3cff-4bcd-4e40-a639-cb3773441bf2",
   "metadata": {
    "scrolled": true,
    "tags": []
   },
   "outputs": [],
   "source": [
    "positions = []\n",
    "for r in regions:\n",
    "    spatial_props = r.spatial_props(space) # gives a dict of spatial props\n",
    "    # get centroids list\n",
    "    centroids = spatial_props['components']\n",
    "    # get siibra.Point object from centroid list; some regions have multiple centroids, but only the first one is selected\n",
    "    centroids = centroids[0]['centroid']\n",
    "    # tuple() gives the coordinates of a centroid\n",
    "    positions.append(tuple(centroids))\n",
    "positions"
   ]
  },
  {
   "cell_type": "markdown",
   "id": "796fa04f-029d-423a-aaa9-e8c7f616630e",
   "metadata": {},
   "source": [
    "### Create TVB Connectivity with data obtained using siibra"
   ]
  },
  {
   "cell_type": "code",
   "execution_count": null,
   "id": "953e0bcb-e8f2-4d7e-9c31-aca50c484cf7",
   "metadata": {},
   "outputs": [],
   "source": [
    "# Moving info from Siibra into TVB concepts\n",
    "conn = connectivity.Connectivity()\n",
    "conn.weights = weights_matrix.to_numpy()\n",
    "conn.tract_lengths = tracts_matrix.to_numpy()\n",
    "conn.region_labels = np.array(reg_names)\n",
    "conn.hemispheres = np.array(hemi, dtype=np.bool_)\n",
    "conn.centres = np.array(positions)\n",
    "\n",
    "conn.configure()\n",
    "conn"
   ]
  },
  {
   "cell_type": "code",
   "execution_count": null,
   "id": "091bf48d-934d-4d16-b74c-b169579e93b2",
   "metadata": {},
   "outputs": [],
   "source": [
    "plot_connectivity(connectivity=conn)"
   ]
  },
  {
   "cell_type": "code",
   "execution_count": null,
   "id": "d105f9c4-1229-4e56-9baa-eb3fc97eee38",
   "metadata": {},
   "outputs": [],
   "source": [
    "# Save connectivity in TVB accepted format\n",
    "centres_content = np.concatenate((np.array(reg_names)[:, None], positions), axis=1)\n",
    "\n",
    "\n",
    "root_folder = 'julich_conn'\n",
    "out_dir = os.path.join(root_folder, subject)\n",
    "if not os.path.exists(out_dir):\n",
    "    os.makedirs(out_dir)\n",
    "\n",
    "np.savetxt(os.path.join(out_dir, \"centers.txt\"), centres_content, \"%s\")\n",
    "np.savetxt(os.path.join(out_dir, \"hemispheres.txt\"), hemi, \"%s\")\n",
    "np.savetxt(os.path.join(out_dir, \"weights.txt\"), weights_matrix.to_numpy(), \"%f\")\n",
    "np.savetxt(os.path.join(out_dir, \"tract_lenghts.txt\"), tracts_matrix.to_numpy(), \"%f\")"
   ]
  },
  {
   "cell_type": "markdown",
   "id": "2d8fcbbf-f537-4763-889a-89adba49b2f8",
   "metadata": {},
   "source": [
    "### Create simulation using the obtained connectivity"
   ]
  },
  {
   "cell_type": "code",
   "execution_count": null,
   "id": "dabaece2-a288-4f3c-95d8-d790756715f5",
   "metadata": {},
   "outputs": [],
   "source": [
    "sim = simulator.Simulator()\n",
    "sim.connectivity = conn\n",
    "sim.simulation_length = 1024\n",
    "sim.configure()"
   ]
  },
  {
   "cell_type": "code",
   "execution_count": null,
   "id": "86bdab92-3ebb-4868-8509-4ef80f674a72",
   "metadata": {},
   "outputs": [],
   "source": [
    "(time, data),  = sim.run()"
   ]
  },
  {
   "cell_type": "code",
   "execution_count": null,
   "id": "1f33005b-fe98-4467-b80e-745f902baa52",
   "metadata": {},
   "outputs": [],
   "source": [
    "time.size"
   ]
  },
  {
   "cell_type": "code",
   "execution_count": null,
   "id": "d408ee72-b5be-4d3f-847e-c0a9980c993c",
   "metadata": {},
   "outputs": [],
   "source": [
    "data.shape"
   ]
  },
  {
   "cell_type": "code",
   "execution_count": null,
   "id": "f99fa008-749d-42ec-9769-a5d57a382d40",
   "metadata": {},
   "outputs": [],
   "source": [
    "tsr = time_series.TimeSeriesRegion(\n",
    "    data=data,\n",
    "    connectivity=sim.connectivity,\n",
    "    sample_period=sim.monitors[0].period)\n",
    "tsr.configure()"
   ]
  },
  {
   "cell_type": "code",
   "execution_count": null,
   "id": "09cfecb0-34f1-4351-945f-bdb6663815e7",
   "metadata": {},
   "outputs": [],
   "source": [
    "import tvb.simulator.plot.timeseries_interactive as ts_int\n",
    "tsi = ts_int.TimeSeriesInteractive(time_series=tsr)\n",
    "tsi.configure()\n",
    "tsi.show()"
   ]
  },
  {
   "cell_type": "code",
   "execution_count": null,
   "id": "c1c0f6dc",
   "metadata": {},
   "outputs": [],
   "source": []
  }
 ],
 "metadata": {
  "kernelspec": {
   "display_name": "Python 3 (ipykernel)",
   "language": "python",
   "name": "python3"
  },
  "language_info": {
   "codemirror_mode": {
    "name": "ipython",
    "version": 3
   },
   "file_extension": ".py",
   "mimetype": "text/x-python",
   "name": "python",
   "nbconvert_exporter": "python",
   "pygments_lexer": "ipython3",
   "version": "3.10.4"
  }
 },
 "nbformat": 4,
 "nbformat_minor": 5
}

{
 "cells": [
  {
   "cell_type": "code",
   "execution_count": 1,
   "id": "dec2a2a0-f5c9-4225-82b6-ee29ab088d88",
   "metadata": {},
   "outputs": [
    {
     "name": "stderr",
     "output_type": "stream",
     "text": [
      "[siibra:INFO] Version: 0.3a24\n",
      "[siibra:WARNING] This is a development release. Use at your own risk.\n",
      "[siibra:INFO] Please file bugs and issues at https://github.com/FZJ-INM1-BDA/siibra-python.\n"
     ]
    }
   ],
   "source": [
    "import os\n",
    "import numpy as np\n",
    "import siibra\n",
    "from tvb.simulator.lab import *"
   ]
  },
  {
   "cell_type": "code",
   "execution_count": 2,
   "id": "d49ad885-5eb5-4edc-a2b8-fb2464646244",
   "metadata": {},
   "outputs": [],
   "source": [
    "# Add an EBRAINS token\n",
    "os.environ['HBP_AUTH_TOKEN'] = ''"
   ]
  },
  {
   "cell_type": "code",
   "execution_count": 3,
   "id": "a00d2899-8b81-44b9-a7d9-656dcf8dad13",
   "metadata": {},
   "outputs": [],
   "source": [
    "# get desired brain parcellation\n",
    "atlas = siibra.atlases[\"human\"]\n",
    "jubrain = atlas.get_parcellation(\"julich 2.9\")"
   ]
  },
  {
   "cell_type": "code",
   "execution_count": 4,
   "id": "76e45eaf-f0f0-4344-9d53-f880e6c49506",
   "metadata": {},
   "outputs": [
    {
     "name": "stderr",
     "output_type": "stream",
     "text": [
      "[siibra:INFO] No parcellation specified, using default 'Julich-Brain Cytoarchitectonic Maps 2.9'.\n"
     ]
    },
    {
     "name": "stdout",
     "output_type": "stream",
     "text": [
      "   INFO  No parcellation specified, using default 'Julich-Brain Cytoarchitectonic Maps 2.9'.\n"
     ]
    },
    {
     "data": {
      "text/plain": [
       "[<siibra.features.ieeg.IEEG_Session at 0x169dfdceb88>,\n",
       " <siibra.features.ieeg.IEEG_Session at 0x169dff24148>,\n",
       " <siibra.features.ieeg.IEEG_Session at 0x169dff54f48>]"
      ]
     },
     "execution_count": 4,
     "metadata": {},
     "output_type": "execute_result"
    }
   ],
   "source": [
    "features = siibra.get_features(atlas.get_region('v1'), siibra.modalities.IEEG_Session)\n",
    "features"
   ]
  },
  {
   "cell_type": "code",
   "execution_count": 5,
   "id": "65b57d30-999e-4cc5-8448-dcb6357b16b6",
   "metadata": {},
   "outputs": [
    {
     "data": {
      "text/plain": [
       "<siibra.features.ieeg.IEEG_Session at 0x169dfdceb88>"
      ]
     },
     "execution_count": 5,
     "metadata": {},
     "output_type": "execute_result"
    }
   ],
   "source": [
    "ieeg = features[0]\n",
    "ieeg"
   ]
  },
  {
   "cell_type": "code",
   "execution_count": 10,
   "id": "0fb0166e-0e78-4d35-bf34-bbcd75df55fa",
   "metadata": {},
   "outputs": [
    {
     "data": {
      "text/plain": [
       "{'1': <siibra.features.ieeg.IEEG_ContactPoint at 0x169dfdcef08>,\n",
       " '2': <siibra.features.ieeg.IEEG_ContactPoint at 0x169dfdcebc8>,\n",
       " '3': <siibra.features.ieeg.IEEG_ContactPoint at 0x169dfdce488>,\n",
       " '4': <siibra.features.ieeg.IEEG_ContactPoint at 0x169dfdce108>,\n",
       " '5': <siibra.features.ieeg.IEEG_ContactPoint at 0x169dfdadac8>,\n",
       " '6': <siibra.features.ieeg.IEEG_ContactPoint at 0x169dfdce588>,\n",
       " '7': <siibra.features.ieeg.IEEG_ContactPoint at 0x169dfdce088>,\n",
       " '8': <siibra.features.ieeg.IEEG_ContactPoint at 0x169dfdce908>,\n",
       " '9': <siibra.features.ieeg.IEEG_ContactPoint at 0x169dfdc1588>,\n",
       " '10': <siibra.features.ieeg.IEEG_ContactPoint at 0x169dfdce6c8>,\n",
       " '11': <siibra.features.ieeg.IEEG_ContactPoint at 0x169dfdcec88>,\n",
       " '12': <siibra.features.ieeg.IEEG_ContactPoint at 0x169dfdc1fc8>}"
      ]
     },
     "execution_count": 10,
     "metadata": {},
     "output_type": "execute_result"
    }
   ],
   "source": [
    "ieeg.electrodes['b'].contact_points"
   ]
  },
  {
   "cell_type": "code",
   "execution_count": null,
   "id": "c39e8979-84ea-4cf5-bd17-b4c548ad3c60",
   "metadata": {},
   "outputs": [],
   "source": []
  }
 ],
 "metadata": {
  "kernelspec": {
   "display_name": "Python 3 (ipykernel)",
   "language": "python",
   "name": "python3"
  },
  "language_info": {
   "codemirror_mode": {
    "name": "ipython",
    "version": 3
   },
   "file_extension": ".py",
   "mimetype": "text/x-python",
   "name": "python",
   "nbconvert_exporter": "python",
   "pygments_lexer": "ipython3",
   "version": "3.7.12"
  }
 },
 "nbformat": 4,
 "nbformat_minor": 5
}
